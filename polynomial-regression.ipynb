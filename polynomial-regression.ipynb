{
 "cells": [
  {
   "cell_type": "markdown",
   "metadata": {},
   "source": [
    "### Polynomial Regression"
   ]
  },
  {
   "cell_type": "code",
   "execution_count": 1,
   "metadata": {},
   "outputs": [],
   "source": [
    "# Importing the libraries\n",
    "import numpy as np\n",
    "import matplotlib.pyplot as plt\n",
    "import pandas as pd"
   ]
  },
  {
   "cell_type": "code",
   "execution_count": 2,
   "metadata": {},
   "outputs": [
    {
     "data": {
      "text/plain": [
       "(24, 5)"
      ]
     },
     "execution_count": 2,
     "metadata": {},
     "output_type": "execute_result"
    }
   ],
   "source": [
    "dataset = pd.read_csv('./data/usitc/tradeVariables-mxcan.csv')\n",
    "dataset.shape"
   ]
  },
  {
   "cell_type": "code",
   "execution_count": 3,
   "metadata": {},
   "outputs": [
    {
     "data": {
      "text/html": [
       "<div>\n",
       "<style scoped>\n",
       "    .dataframe tbody tr th:only-of-type {\n",
       "        vertical-align: middle;\n",
       "    }\n",
       "\n",
       "    .dataframe tbody tr th {\n",
       "        vertical-align: top;\n",
       "    }\n",
       "\n",
       "    .dataframe thead th {\n",
       "        text-align: right;\n",
       "    }\n",
       "</style>\n",
       "<table border=\"1\" class=\"dataframe\">\n",
       "  <thead>\n",
       "    <tr style=\"text-align: right;\">\n",
       "      <th></th>\n",
       "      <th>year</th>\n",
       "      <th>exports</th>\n",
       "      <th>imports</th>\n",
       "      <th>travel_mx</th>\n",
       "      <th>travel_can</th>\n",
       "    </tr>\n",
       "  </thead>\n",
       "  <tbody>\n",
       "    <tr>\n",
       "      <th>0</th>\n",
       "      <td>1996</td>\n",
       "      <td>5.468587e+10</td>\n",
       "      <td>7.296319e+10</td>\n",
       "      <td>276751448</td>\n",
       "      <td>153038903</td>\n",
       "    </tr>\n",
       "    <tr>\n",
       "      <th>1</th>\n",
       "      <td>1997</td>\n",
       "      <td>6.839322e+10</td>\n",
       "      <td>8.587234e+10</td>\n",
       "      <td>348661488</td>\n",
       "      <td>145512710</td>\n",
       "    </tr>\n",
       "    <tr>\n",
       "      <th>2</th>\n",
       "      <td>1998</td>\n",
       "      <td>7.536930e+10</td>\n",
       "      <td>9.470867e+10</td>\n",
       "      <td>366296614</td>\n",
       "      <td>142291790</td>\n",
       "    </tr>\n",
       "    <tr>\n",
       "      <th>3</th>\n",
       "      <td>1999</td>\n",
       "      <td>8.138074e+10</td>\n",
       "      <td>1.100000e+11</td>\n",
       "      <td>391959396</td>\n",
       "      <td>146497328</td>\n",
       "    </tr>\n",
       "    <tr>\n",
       "      <th>4</th>\n",
       "      <td>2000</td>\n",
       "      <td>1.000000e+11</td>\n",
       "      <td>1.360000e+11</td>\n",
       "      <td>392231869</td>\n",
       "      <td>147789673</td>\n",
       "    </tr>\n",
       "  </tbody>\n",
       "</table>\n",
       "</div>"
      ],
      "text/plain": [
       "   year       exports       imports  travel_mx  travel_can\n",
       "0  1996  5.468587e+10  7.296319e+10  276751448   153038903\n",
       "1  1997  6.839322e+10  8.587234e+10  348661488   145512710\n",
       "2  1998  7.536930e+10  9.470867e+10  366296614   142291790\n",
       "3  1999  8.138074e+10  1.100000e+11  391959396   146497328\n",
       "4  2000  1.000000e+11  1.360000e+11  392231869   147789673"
      ]
     },
     "execution_count": 3,
     "metadata": {},
     "output_type": "execute_result"
    }
   ],
   "source": [
    "dataset.head()"
   ]
  },
  {
   "cell_type": "code",
   "execution_count": 54,
   "metadata": {},
   "outputs": [
    {
     "data": {
      "text/plain": [
       "[<matplotlib.lines.Line2D at 0x226f027cf98>]"
      ]
     },
     "execution_count": 54,
     "metadata": {},
     "output_type": "execute_result"
    },
    {
     "data": {
      "image/png": "[encoded data removed]",
      "text/plain": [
       "<Figure size 432x288 with 1 Axes>"
      ]
     },
     "metadata": {
      "needs_background": "light"
     },
     "output_type": "display_data"
    }
   ],
   "source": [
    "#travel visualization\n",
    "plt.plot(dataset[\"year\"],dataset[\"travel_mx\"])"
   ]
  },
  {
   "cell_type": "code",
   "execution_count": 4,
   "metadata": {},
   "outputs": [
    {
     "data": {
      "text/plain": [
       "(24, 3)"
      ]
     },
     "execution_count": 4,
     "metadata": {},
     "output_type": "execute_result"
    }
   ],
   "source": [
    "newdf = dataset[[\"exports\",\"imports\",\"travel_mx\"]].copy()\n",
    "newdf.shape"
   ]
  },
  {
   "cell_type": "code",
   "execution_count": 5,
   "metadata": {},
   "outputs": [
    {
     "data": {
      "text/html": [
       "<div>\n",
       "<style scoped>\n",
       "    .dataframe tbody tr th:only-of-type {\n",
       "        vertical-align: middle;\n",
       "    }\n",
       "\n",
       "    .dataframe tbody tr th {\n",
       "        vertical-align: top;\n",
       "    }\n",
       "\n",
       "    .dataframe thead th {\n",
       "        text-align: right;\n",
       "    }\n",
       "</style>\n",
       "<table border=\"1\" class=\"dataframe\">\n",
       "  <thead>\n",
       "    <tr style=\"text-align: right;\">\n",
       "      <th></th>\n",
       "      <th>exports</th>\n",
       "      <th>imports</th>\n",
       "      <th>travel_mx</th>\n",
       "    </tr>\n",
       "  </thead>\n",
       "  <tbody>\n",
       "    <tr>\n",
       "      <th>19</th>\n",
       "      <td>1.860000e+11</td>\n",
       "      <td>2.960000e+11</td>\n",
       "      <td>267663436</td>\n",
       "    </tr>\n",
       "    <tr>\n",
       "      <th>20</th>\n",
       "      <td>1.770000e+11</td>\n",
       "      <td>2.940000e+11</td>\n",
       "      <td>273532405</td>\n",
       "    </tr>\n",
       "    <tr>\n",
       "      <th>21</th>\n",
       "      <td>1.870000e+11</td>\n",
       "      <td>3.130000e+11</td>\n",
       "      <td>278703002</td>\n",
       "    </tr>\n",
       "    <tr>\n",
       "      <th>22</th>\n",
       "      <td>2.040000e+11</td>\n",
       "      <td>3.460000e+11</td>\n",
       "      <td>283743197</td>\n",
       "    </tr>\n",
       "    <tr>\n",
       "      <th>23</th>\n",
       "      <td>1.960000e+11</td>\n",
       "      <td>3.580000e+11</td>\n",
       "      <td>275538145</td>\n",
       "    </tr>\n",
       "  </tbody>\n",
       "</table>\n",
       "</div>"
      ],
      "text/plain": [
       "         exports       imports  travel_mx\n",
       "19  1.860000e+11  2.960000e+11  267663436\n",
       "20  1.770000e+11  2.940000e+11  273532405\n",
       "21  1.870000e+11  3.130000e+11  278703002\n",
       "22  2.040000e+11  3.460000e+11  283743197\n",
       "23  1.960000e+11  3.580000e+11  275538145"
      ]
     },
     "execution_count": 5,
     "metadata": {},
     "output_type": "execute_result"
    }
   ],
   "source": [
    "newdf.tail()"
   ]
  },
  {
   "cell_type": "code",
   "execution_count": 31,
   "metadata": {},
   "outputs": [],
   "source": [
    "X = newdf.iloc[:, :-2].values\n",
    "y = newdf.iloc[:, 2].values"
   ]
  },
  {
   "cell_type": "code",
   "execution_count": 32,
   "metadata": {},
   "outputs": [
    {
     "name": "stdout",
     "output_type": "stream",
     "text": [
      "(24, 1)\n"
     ]
    }
   ],
   "source": [
    "# matrix\n",
    "print(X.shape) "
   ]
  },
  {
   "cell_type": "code",
   "execution_count": 33,
   "metadata": {},
   "outputs": [],
   "source": [
    "# Splitting the dataset into the Training set and Test set\n",
    "from sklearn.model_selection import train_test_split\n",
    "X_train, X_test, y_train, y_test = train_test_split(X, y, test_size = 0.2, random_state = 0)\n"
   ]
  },
  {
   "cell_type": "code",
   "execution_count": 34,
   "metadata": {},
   "outputs": [
    {
     "data": {
      "text/plain": [
       "LinearRegression(copy_X=True, fit_intercept=True, n_jobs=None,\n",
       "         normalize=False)"
      ]
     },
     "execution_count": 34,
     "metadata": {},
     "output_type": "execute_result"
    }
   ],
   "source": [
    "# Fitting linear regression to the dataset\n",
    "from sklearn.linear_model import LinearRegression\n",
    "lin_reg = LinearRegression()\n",
    "lin_reg.fit(X,y)"
   ]
  },
  {
   "cell_type": "code",
   "execution_count": 57,
   "metadata": {},
   "outputs": [
    {
     "data": {
      "text/plain": [
       "LinearRegression(copy_X=True, fit_intercept=True, n_jobs=None,\n",
       "         normalize=False)"
      ]
     },
     "execution_count": 57,
     "metadata": {},
     "output_type": "execute_result"
    }
   ],
   "source": [
    "# Fitting polynomial regression to the dataset\n",
    "# Note the new class that will be imported\n",
    "from sklearn.preprocessing import PolynomialFeatures\n",
    "\n",
    "# new matrix of features, x poly, and x^2 - x^n\n",
    "# it will transform x into a new matrix\n",
    "poly_reg = PolynomialFeatures(degree=5)\n",
    "X_poly = poly_reg.fit_transform(X)\n",
    "\n",
    "# create a new linear regression object\n",
    "lin_reg_2 = LinearRegression()\n",
    "lin_reg_2.fit(X_poly,y)"
   ]
  },
  {
   "cell_type": "code",
   "execution_count": 44,
   "metadata": {},
   "outputs": [
    {
     "data": {
      "image/png": "[encoded data removed]",
      "text/plain": [
       "<Figure size 432x288 with 1 Axes>"
      ]
     },
     "metadata": {
      "needs_background": "light"
     },
     "output_type": "display_data"
    }
   ],
   "source": [
    "# Visualizing the linear regression results\n",
    "plt.scatter(X, y, color=\"green\")\n",
    "plt.plot(X, lin_reg.predict(X), color=\"blue\")\n",
    "plt.title(\"Imports by Movement US-MX - Linear\")\n",
    "plt.xlabel(\"Imports\")\n",
    "plt.ylabel(\"Movement\")\n",
    "plt.show()\n",
    "\n",
    "#Insight: linear regression doesn't work well here"
   ]
  },
  {
   "cell_type": "code",
   "execution_count": 67,
   "metadata": {},
   "outputs": [
    {
     "data": {
      "image/png": "[encoded data removed]",
      "text/plain": [
       "<Figure size 432x288 with 1 Axes>"
      ]
     },
     "metadata": {
      "needs_background": "light"
     },
     "output_type": "display_data"
    }
   ],
   "source": [
    "# Visualizing the Polynomial Regression Results\n",
    "plt.scatter(X, y, color=\"green\")\n",
    "plt.plot(X, lin_reg_2.predict(poly_reg.fit_transform(X)), color=\"blue\")\n",
    "plt.title(\"Imports by Movement US-MX - Polynomial\")\n",
    "plt.xlabel(\"Imports\")\n",
    "plt.ylabel(\"Movement\")\n",
    "plt.show()"
   ]
  },
  {
   "cell_type": "code",
   "execution_count": 69,
   "metadata": {},
   "outputs": [
    {
     "data": {
      "text/plain": [
       "count    2.400000e+01\n",
       "mean     2.077727e+11\n",
       "std      8.632668e+10\n",
       "min      7.296319e+10\n",
       "25%      1.357500e+11\n",
       "50%      2.045000e+11\n",
       "75%      2.842500e+11\n",
       "max      3.580000e+11\n",
       "Name: imports, dtype: float64"
      ]
     },
     "execution_count": 69,
     "metadata": {},
     "output_type": "execute_result"
    }
   ],
   "source": [
    "# Predicting the results for the average import levels: 2.07\n",
    "dataset[\"imports\"].describe()"
   ]
  },
  {
   "cell_type": "code",
   "execution_count": 73,
   "metadata": {},
   "outputs": [
    {
     "data": {
      "text/plain": [
       "array([2.44807907e+08])"
      ]
     },
     "execution_count": 73,
     "metadata": {},
     "output_type": "execute_result"
    }
   ],
   "source": [
    "# Linear Option\n",
    "lin_reg.predict([[2.077727e+11]])"
   ]
  },
  {
   "cell_type": "code",
   "execution_count": 75,
   "metadata": {},
   "outputs": [
    {
     "data": {
      "text/plain": [
       "array([3.11393762e+08])"
      ]
     },
     "execution_count": 75,
     "metadata": {},
     "output_type": "execute_result"
    }
   ],
   "source": [
    "# Polynomial Option\n",
    "lin_reg_2.predict(poly_reg.fit_transform([[2.077727e+11]]))"
   ]
  },
  {
   "cell_type": "markdown",
   "metadata": {},
   "source": [
    "## Extracting datapoints from figures"
   ]
  },
  {
   "cell_type": "code",
   "execution_count": 84,
   "metadata": {},
   "outputs": [
    {
     "data": {
      "image/png": "[encoded data removed]",
      "text/plain": [
       "<Figure size 432x288 with 1 Axes>"
      ]
     },
     "metadata": {
      "needs_background": "light"
     },
     "output_type": "display_data"
    }
   ],
   "source": [
    "# Visualizing the Polynomial Regression Results\n",
    "plt.scatter(X, y, color=\"green\")\n",
    "plt.plot(X, lin_reg_2.predict(poly_reg.fit_transform(X)), color=\"blue\")\n",
    "plt.title(\"Imports by Movement US-MX - Polynomial\")\n",
    "plt.xlabel(\"Imports\")\n",
    "plt.ylabel(\"Movement\")\n",
    "plt.show()"
   ]
  },
  {
   "cell_type": "code",
   "execution_count": 87,
   "metadata": {},
   "outputs": [
    {
     "data": {
      "text/plain": [
       "array([4, 5, 6])"
      ]
     },
     "execution_count": 87,
     "metadata": {},
     "output_type": "execute_result"
    },
    {
     "data": {
      "image/png": "[encoded data removed]",
      "text/plain": [
       "<Figure size 432x288 with 1 Axes>"
      ]
     },
     "metadata": {
      "needs_background": "light"
     },
     "output_type": "display_data"
    }
   ],
   "source": [
    "plt.plot([1,2,3],[4,5,6])\n",
    "ax = plt.gca() # get axis handle\n",
    "line = ax.lines[0] # get the first line, there might be more\n",
    "\n",
    "line.get_ydata()\n"
   ]
  },
  {
   "cell_type": "code",
   "execution_count": 88,
   "metadata": {},
   "outputs": [
    {
     "data": {
      "text/plain": [
       "array([[1., 4.],\n",
       "       [2., 5.],\n",
       "       [3., 6.]])"
      ]
     },
     "execution_count": 88,
     "metadata": {},
     "output_type": "execute_result"
    }
   ],
   "source": [
    "line.get_xydata()"
   ]
  },
  {
   "cell_type": "code",
   "execution_count": 90,
   "metadata": {},
   "outputs": [
    {
     "data": {
      "text/plain": [
       "array([[5.46858652e+10, 3.60233718e+08],\n",
       "       [6.83932194e+10, 3.54919718e+08],\n",
       "       [7.53693001e+10, 3.51025369e+08],\n",
       "       [8.13807402e+10, 3.46953844e+08],\n",
       "       [1.00000000e+11, 3.29953373e+08],\n",
       "       [9.05374338e+10, 3.39422483e+08],\n",
       "       [8.60760818e+10, 3.43294424e+08],\n",
       "       [8.31080960e+10, 3.45656988e+08],\n",
       "       [9.30177032e+10, 3.37103886e+08],\n",
       "       [1.02000000e+11, 3.27741221e+08],\n",
       "       [1.15000000e+11, 3.11784683e+08],\n",
       "       [1.19000000e+11, 3.06416598e+08],\n",
       "       [1.32000000e+11, 2.88170208e+08],\n",
       "       [1.06000000e+11, 3.23110102e+08],\n",
       "       [1.32000000e+11, 2.88170208e+08],\n",
       "       [1.60000000e+11, 2.53707168e+08],\n",
       "       [1.75000000e+11, 2.47333949e+08],\n",
       "       [1.82000000e+11, 2.50029862e+08],\n",
       "       [1.93000000e+11, 2.64651056e+08],\n",
       "       [1.86000000e+11, 2.53716243e+08],\n",
       "       [1.77000000e+11, 2.47660866e+08],\n",
       "       [1.87000000e+11, 2.54912471e+08],\n",
       "       [2.04000000e+11, 2.95921534e+08],\n",
       "       [1.96000000e+11, 2.71323550e+08]])"
      ]
     },
     "execution_count": 90,
     "metadata": {},
     "output_type": "execute_result"
    },
    {
     "data": {
      "image/png": "[encoded data removed]",
      "text/plain": [
       "<Figure size 432x288 with 1 Axes>"
      ]
     },
     "metadata": {
      "needs_background": "light"
     },
     "output_type": "display_data"
    }
   ],
   "source": [
    "plt.plot(X, lin_reg_2.predict(poly_reg.fit_transform(X)), color=\"blue\")\n",
    "ax = plt.gca() # get axis handle\n",
    "line = ax.lines[0] # get the first line, there might be more\n",
    "\n",
    "line.get_xydata()\n"
   ]
  },
  {
   "cell_type": "code",
   "execution_count": null,
   "metadata": {},
   "outputs": [],
   "source": []
  }
 ],
 "metadata": {
  "kernelspec": {
   "display_name": "Python 3",
   "language": "python",
   "name": "python3"
  },
  "language_info": {
   "codemirror_mode": {
    "name": "ipython",
    "version": 3
   },
   "file_extension": ".py",
   "mimetype": "text/x-python",
   "name": "python",
   "nbconvert_exporter": "python",
   "pygments_lexer": "ipython3",
   "version": "3.7.1"
  }
 },
 "nbformat": 4,
 "nbformat_minor": 2
}
