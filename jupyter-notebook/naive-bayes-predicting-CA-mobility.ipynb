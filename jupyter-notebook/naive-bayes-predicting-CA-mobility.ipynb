{
 "cells": [
  {
   "cell_type": "markdown",
   "metadata": {},
   "source": [
    "## Naive Bayes on Mobility"
   ]
  },
  {
   "cell_type": "code",
   "execution_count": 39,
   "metadata": {},
   "outputs": [],
   "source": [
    "# Importing the libraries\n",
    "import numpy as np\n",
    "import matplotlib.pyplot as plt\n",
    "import pandas as pd"
   ]
  },
  {
   "cell_type": "code",
   "execution_count": 40,
   "metadata": {},
   "outputs": [],
   "source": [
    "# Import the dataset for mobility\n",
    "mobility = pd.read_csv(\"../data/usitc/border_crossing_entry_data_trade.csv\")"
   ]
  },
  {
   "cell_type": "code",
   "execution_count": 41,
   "metadata": {},
   "outputs": [
    {
     "data": {
      "text/html": [
       "<div>\n",
       "<style scoped>\n",
       "    .dataframe tbody tr th:only-of-type {\n",
       "        vertical-align: middle;\n",
       "    }\n",
       "\n",
       "    .dataframe tbody tr th {\n",
       "        vertical-align: top;\n",
       "    }\n",
       "\n",
       "    .dataframe thead th {\n",
       "        text-align: right;\n",
       "    }\n",
       "</style>\n",
       "<table border=\"1\" class=\"dataframe\">\n",
       "  <thead>\n",
       "    <tr style=\"text-align: right;\">\n",
       "      <th></th>\n",
       "      <th>Port Name</th>\n",
       "      <th>State</th>\n",
       "      <th>Port Code</th>\n",
       "      <th>Border</th>\n",
       "      <th>Date</th>\n",
       "      <th>Measure</th>\n",
       "      <th>Value</th>\n",
       "      <th>imports</th>\n",
       "      <th>exports</th>\n",
       "    </tr>\n",
       "  </thead>\n",
       "  <tbody>\n",
       "    <tr>\n",
       "      <th>0</th>\n",
       "      <td>Alexandria Bay</td>\n",
       "      <td>NY</td>\n",
       "      <td>708</td>\n",
       "      <td>US-Canada Border</td>\n",
       "      <td>12/1/2019 0:00</td>\n",
       "      <td>Bus Passengers</td>\n",
       "      <td>740</td>\n",
       "      <td>NaN</td>\n",
       "      <td>NaN</td>\n",
       "    </tr>\n",
       "    <tr>\n",
       "      <th>1</th>\n",
       "      <td>Baudette</td>\n",
       "      <td>MN</td>\n",
       "      <td>3424</td>\n",
       "      <td>US-Canada Border</td>\n",
       "      <td>12/1/2019 0:00</td>\n",
       "      <td>Bus Passengers</td>\n",
       "      <td>83</td>\n",
       "      <td>NaN</td>\n",
       "      <td>NaN</td>\n",
       "    </tr>\n",
       "    <tr>\n",
       "      <th>2</th>\n",
       "      <td>Blaine</td>\n",
       "      <td>WA</td>\n",
       "      <td>3004</td>\n",
       "      <td>US-Canada Border</td>\n",
       "      <td>12/1/2019 0:00</td>\n",
       "      <td>Bus Passengers</td>\n",
       "      <td>17029</td>\n",
       "      <td>NaN</td>\n",
       "      <td>NaN</td>\n",
       "    </tr>\n",
       "    <tr>\n",
       "      <th>3</th>\n",
       "      <td>Brownsville</td>\n",
       "      <td>TX</td>\n",
       "      <td>2301</td>\n",
       "      <td>US-Mexico Border</td>\n",
       "      <td>12/1/2019 0:00</td>\n",
       "      <td>Bus Passengers</td>\n",
       "      <td>4668</td>\n",
       "      <td>3.580000e+11</td>\n",
       "      <td>1.960000e+11</td>\n",
       "    </tr>\n",
       "    <tr>\n",
       "      <th>4</th>\n",
       "      <td>Buffalo-Niagara Falls</td>\n",
       "      <td>NY</td>\n",
       "      <td>901</td>\n",
       "      <td>US-Canada Border</td>\n",
       "      <td>12/1/2019 0:00</td>\n",
       "      <td>Bus Passengers</td>\n",
       "      <td>9910</td>\n",
       "      <td>NaN</td>\n",
       "      <td>NaN</td>\n",
       "    </tr>\n",
       "  </tbody>\n",
       "</table>\n",
       "</div>"
      ],
      "text/plain": [
       "               Port Name State  Port Code            Border            Date  \\\n",
       "0         Alexandria Bay    NY        708  US-Canada Border  12/1/2019 0:00   \n",
       "1               Baudette    MN       3424  US-Canada Border  12/1/2019 0:00   \n",
       "2                 Blaine    WA       3004  US-Canada Border  12/1/2019 0:00   \n",
       "3            Brownsville    TX       2301  US-Mexico Border  12/1/2019 0:00   \n",
       "4  Buffalo-Niagara Falls    NY        901  US-Canada Border  12/1/2019 0:00   \n",
       "\n",
       "          Measure  Value       imports       exports  \n",
       "0  Bus Passengers    740           NaN           NaN  \n",
       "1  Bus Passengers     83           NaN           NaN  \n",
       "2  Bus Passengers  17029           NaN           NaN  \n",
       "3  Bus Passengers   4668  3.580000e+11  1.960000e+11  \n",
       "4  Bus Passengers   9910           NaN           NaN  "
      ]
     },
     "execution_count": 41,
     "metadata": {},
     "output_type": "execute_result"
    }
   ],
   "source": [
    "mobility.head()"
   ]
  },
  {
   "cell_type": "code",
   "execution_count": 42,
   "metadata": {},
   "outputs": [],
   "source": [
    "# Include only mobility on the US-MX border\n",
    "borderMX = mobility[(mobility['Border']==\"US-Mexico Border\")]"
   ]
  },
  {
   "cell_type": "code",
   "execution_count": 135,
   "metadata": {},
   "outputs": [
    {
     "data": {
      "text/plain": [
       "27"
      ]
     },
     "execution_count": 135,
     "metadata": {},
     "output_type": "execute_result"
    }
   ],
   "source": [
    "borderMX[\"Port Code\"].nunique()"
   ]
  },
  {
   "cell_type": "code",
   "execution_count": 160,
   "metadata": {},
   "outputs": [
    {
     "data": {
      "text/plain": [
       "array([2301, 2507, 2406, 2601, 2303, 2402, 2305, 2304, 2602, 2604, 2506,\n",
       "       2403, 2310, 2608, 2504, 2408, 2502, 2410, 2503, 2582, 2302, 2603,\n",
       "       2309, 2307, 2606, 2505, 2404], dtype=int64)"
      ]
     },
     "execution_count": 160,
     "metadata": {},
     "output_type": "execute_result"
    }
   ],
   "source": [
    "borderMX[\"Port Code\"].unique()"
   ]
  },
  {
   "cell_type": "code",
   "execution_count": 43,
   "metadata": {},
   "outputs": [
    {
     "data": {
      "text/html": [
       "<div>\n",
       "<style scoped>\n",
       "    .dataframe tbody tr th:only-of-type {\n",
       "        vertical-align: middle;\n",
       "    }\n",
       "\n",
       "    .dataframe tbody tr th {\n",
       "        vertical-align: top;\n",
       "    }\n",
       "\n",
       "    .dataframe thead th {\n",
       "        text-align: right;\n",
       "    }\n",
       "</style>\n",
       "<table border=\"1\" class=\"dataframe\">\n",
       "  <thead>\n",
       "    <tr style=\"text-align: right;\">\n",
       "      <th></th>\n",
       "      <th>Port Name</th>\n",
       "      <th>State</th>\n",
       "      <th>Port Code</th>\n",
       "      <th>Border</th>\n",
       "      <th>Date</th>\n",
       "      <th>Measure</th>\n",
       "      <th>Value</th>\n",
       "      <th>imports</th>\n",
       "      <th>exports</th>\n",
       "    </tr>\n",
       "  </thead>\n",
       "  <tbody>\n",
       "    <tr>\n",
       "      <th>3</th>\n",
       "      <td>Brownsville</td>\n",
       "      <td>TX</td>\n",
       "      <td>2301</td>\n",
       "      <td>US-Mexico Border</td>\n",
       "      <td>12/1/2019 0:00</td>\n",
       "      <td>Bus Passengers</td>\n",
       "      <td>4668</td>\n",
       "      <td>3.580000e+11</td>\n",
       "      <td>1.960000e+11</td>\n",
       "    </tr>\n",
       "    <tr>\n",
       "      <th>6</th>\n",
       "      <td>Calexico East</td>\n",
       "      <td>CA</td>\n",
       "      <td>2507</td>\n",
       "      <td>US-Mexico Border</td>\n",
       "      <td>12/1/2019 0:00</td>\n",
       "      <td>Bus Passengers</td>\n",
       "      <td>4080</td>\n",
       "      <td>3.580000e+11</td>\n",
       "      <td>1.960000e+11</td>\n",
       "    </tr>\n",
       "    <tr>\n",
       "      <th>8</th>\n",
       "      <td>Columbus</td>\n",
       "      <td>NM</td>\n",
       "      <td>2406</td>\n",
       "      <td>US-Mexico Border</td>\n",
       "      <td>12/1/2019 0:00</td>\n",
       "      <td>Bus Passengers</td>\n",
       "      <td>1452</td>\n",
       "      <td>3.580000e+11</td>\n",
       "      <td>1.960000e+11</td>\n",
       "    </tr>\n",
       "    <tr>\n",
       "      <th>11</th>\n",
       "      <td>Douglas</td>\n",
       "      <td>AZ</td>\n",
       "      <td>2601</td>\n",
       "      <td>US-Mexico Border</td>\n",
       "      <td>12/1/2019 0:00</td>\n",
       "      <td>Bus Passengers</td>\n",
       "      <td>107</td>\n",
       "      <td>3.580000e+11</td>\n",
       "      <td>1.960000e+11</td>\n",
       "    </tr>\n",
       "    <tr>\n",
       "      <th>13</th>\n",
       "      <td>Eagle Pass</td>\n",
       "      <td>TX</td>\n",
       "      <td>2303</td>\n",
       "      <td>US-Mexico Border</td>\n",
       "      <td>12/1/2019 0:00</td>\n",
       "      <td>Bus Passengers</td>\n",
       "      <td>8525</td>\n",
       "      <td>3.580000e+11</td>\n",
       "      <td>1.960000e+11</td>\n",
       "    </tr>\n",
       "  </tbody>\n",
       "</table>\n",
       "</div>"
      ],
      "text/plain": [
       "        Port Name State  Port Code            Border            Date  \\\n",
       "3     Brownsville    TX       2301  US-Mexico Border  12/1/2019 0:00   \n",
       "6   Calexico East    CA       2507  US-Mexico Border  12/1/2019 0:00   \n",
       "8        Columbus    NM       2406  US-Mexico Border  12/1/2019 0:00   \n",
       "11        Douglas    AZ       2601  US-Mexico Border  12/1/2019 0:00   \n",
       "13     Eagle Pass    TX       2303  US-Mexico Border  12/1/2019 0:00   \n",
       "\n",
       "           Measure  Value       imports       exports  \n",
       "3   Bus Passengers   4668  3.580000e+11  1.960000e+11  \n",
       "6   Bus Passengers   4080  3.580000e+11  1.960000e+11  \n",
       "8   Bus Passengers   1452  3.580000e+11  1.960000e+11  \n",
       "11  Bus Passengers    107  3.580000e+11  1.960000e+11  \n",
       "13  Bus Passengers   8525  3.580000e+11  1.960000e+11  "
      ]
     },
     "execution_count": 43,
     "metadata": {},
     "output_type": "execute_result"
    }
   ],
   "source": [
    "borderMX.head()"
   ]
  },
  {
   "cell_type": "code",
   "execution_count": 44,
   "metadata": {},
   "outputs": [
    {
     "name": "stderr",
     "output_type": "stream",
     "text": [
      "C:\\Users\\nhinojos\\AppData\\Local\\Continuum\\anaconda\\lib\\site-packages\\ipykernel_launcher.py:3: SettingWithCopyWarning: \n",
      "A value is trying to be set on a copy of a slice from a DataFrame.\n",
      "Try using .loc[row_indexer,col_indexer] = value instead\n",
      "\n",
      "See the caveats in the documentation: http://pandas.pydata.org/pandas-docs/stable/indexing.html#indexing-view-versus-copy\n",
      "  This is separate from the ipykernel package so we can avoid doing imports until\n"
     ]
    }
   ],
   "source": [
    "# Extract year and consolidate year\n",
    "import datetime\n",
    "borderMX['year']= pd.DatetimeIndex(borderMX['Date']).year"
   ]
  },
  {
   "cell_type": "markdown",
   "metadata": {},
   "source": [
    "## Encoding the Categorical Variable State"
   ]
  },
  {
   "cell_type": "code",
   "execution_count": 9,
   "metadata": {},
   "outputs": [],
   "source": [
    "df = borderMX[[\"year\",\"State\",\"Port Code\",\"Value\"]].copy()"
   ]
  },
  {
   "cell_type": "code",
   "execution_count": 106,
   "metadata": {
    "scrolled": true
   },
   "outputs": [
    {
     "name": "stdout",
     "output_type": "stream",
     "text": [
      "[[2019 'TX' 2301 4668]\n",
      " [2019 'CA' 2507 4080]\n",
      " [2019 'NM' 2406 1452]\n",
      " ...\n",
      " [1996 'NM' 2408 4719]\n",
      " [1996 'TX' 2403 645]\n",
      " [1996 'CA' 2505 3228]]\n"
     ]
    }
   ],
   "source": [
    "X1 = df.iloc[:,[0,1,2,3]].values\n",
    "print(X1)"
   ]
  },
  {
   "cell_type": "code",
   "execution_count": 107,
   "metadata": {},
   "outputs": [],
   "source": [
    "# Encoding categorical data\n",
    "# Encoding the independent variable\n",
    "from sklearn.preprocessing import LabelEncoder, OneHotEncoder"
   ]
  },
  {
   "cell_type": "code",
   "execution_count": 108,
   "metadata": {},
   "outputs": [
    {
     "name": "stderr",
     "output_type": "stream",
     "text": [
      "C:\\Users\\nhinojos\\AppData\\Local\\Continuum\\anaconda\\lib\\site-packages\\sklearn\\preprocessing\\_encoders.py:368: FutureWarning: The handling of integer data will change in version 0.22. Currently, the categories are determined based on the range [0, max(values)], while in the future they will be determined based on the unique values.\n",
      "If you want the future behaviour and silence this warning, you can specify \"categories='auto'\".\n",
      "In case you used a LabelEncoder before this OneHotEncoder to convert the categories to integers, then you can now use the OneHotEncoder directly.\n",
      "  warnings.warn(msg, FutureWarning)\n",
      "C:\\Users\\nhinojos\\AppData\\Local\\Continuum\\anaconda\\lib\\site-packages\\sklearn\\preprocessing\\_encoders.py:390: DeprecationWarning: The 'categorical_features' keyword is deprecated in version 0.20 and will be removed in 0.22. You can use the ColumnTransformer instead.\n",
      "  \"use the ColumnTransformer instead.\", DeprecationWarning)\n"
     ]
    }
   ],
   "source": [
    "labelencoder = LabelEncoder()\n",
    "X1[:, 1] = labelencoder.fit_transform(X1[:, 1])\n",
    "onehotencoder = OneHotEncoder(categorical_features = [1])\n",
    "X1 = onehotencoder.fit_transform(X1).toarray()"
   ]
  },
  {
   "cell_type": "code",
   "execution_count": 109,
   "metadata": {},
   "outputs": [
    {
     "name": "stdout",
     "output_type": "stream",
     "text": [
      "(82288, 7)\n"
     ]
    }
   ],
   "source": [
    "# California is Index 1, KEEP\n",
    "print(X1.shape)"
   ]
  },
  {
   "cell_type": "code",
   "execution_count": 110,
   "metadata": {},
   "outputs": [
    {
     "name": "stdout",
     "output_type": "stream",
     "text": [
      "[[0.000e+00 0.000e+00 0.000e+00 ... 2.019e+03 2.301e+03 4.668e+03]\n",
      " [0.000e+00 1.000e+00 0.000e+00 ... 2.019e+03 2.507e+03 4.080e+03]\n",
      " [0.000e+00 0.000e+00 1.000e+00 ... 2.019e+03 2.406e+03 1.452e+03]\n",
      " ...\n",
      " [0.000e+00 0.000e+00 1.000e+00 ... 1.996e+03 2.408e+03 4.719e+03]\n",
      " [0.000e+00 0.000e+00 0.000e+00 ... 1.996e+03 2.403e+03 6.450e+02]\n",
      " [0.000e+00 1.000e+00 0.000e+00 ... 1.996e+03 2.505e+03 3.228e+03]]\n"
     ]
    }
   ],
   "source": [
    "print(X1)"
   ]
  },
  {
   "cell_type": "code",
   "execution_count": 112,
   "metadata": {},
   "outputs": [
    {
     "name": "stdout",
     "output_type": "stream",
     "text": [
      "[[4668. 2301.]\n",
      " [4080. 2507.]\n",
      " [1452. 2406.]\n",
      " ...\n",
      " [4719. 2408.]\n",
      " [ 645. 2403.]\n",
      " [3228. 2505.]]\n"
     ]
    }
   ],
   "source": [
    "# Re-establishing the X matrix: PORT CODE BY MOBILITY\n",
    "X = X1[:,[6,5]]\n",
    "print(X)"
   ]
  },
  {
   "cell_type": "code",
   "execution_count": 113,
   "metadata": {},
   "outputs": [],
   "source": [
    "y = X1[:,1]"
   ]
  },
  {
   "cell_type": "code",
   "execution_count": 114,
   "metadata": {},
   "outputs": [
    {
     "name": "stdout",
     "output_type": "stream",
     "text": [
      "[0. 1. 0. ... 0. 0. 1.]\n"
     ]
    }
   ],
   "source": [
    "print(y)"
   ]
  },
  {
   "cell_type": "code",
   "execution_count": 55,
   "metadata": {},
   "outputs": [
    {
     "data": {
      "text/plain": [
       "(82288,)"
      ]
     },
     "execution_count": 55,
     "metadata": {},
     "output_type": "execute_result"
    }
   ],
   "source": [
    "y.shape"
   ]
  },
  {
   "cell_type": "markdown",
   "metadata": {},
   "source": [
    "## Starting Naive Bayes"
   ]
  },
  {
   "cell_type": "code",
   "execution_count": 115,
   "metadata": {},
   "outputs": [],
   "source": [
    "# Splitting the dataset into the Training set and Test set\n",
    "from sklearn.model_selection import train_test_split\n",
    "X_train, X_test, y_train, y_test = train_test_split(X, y, test_size = 0.2, random_state = 0)\n"
   ]
  },
  {
   "cell_type": "code",
   "execution_count": 116,
   "metadata": {},
   "outputs": [],
   "source": [
    "# Feature Scaling\n",
    "from sklearn.preprocessing import StandardScaler\n",
    "sc = StandardScaler()\n",
    "X_train = sc.fit_transform(X_train)\n",
    "X_test = sc.transform(X_test)"
   ]
  },
  {
   "cell_type": "code",
   "execution_count": 117,
   "metadata": {},
   "outputs": [
    {
     "data": {
      "text/plain": [
       "GaussianNB(priors=None, var_smoothing=1e-09)"
      ]
     },
     "execution_count": 117,
     "metadata": {},
     "output_type": "execute_result"
    }
   ],
   "source": [
    "# Fitting Naive Bayes to the Training set\n",
    "from sklearn.naive_bayes import GaussianNB\n",
    "classifier = GaussianNB()\n",
    "classifier.fit(X_train, y_train)"
   ]
  },
  {
   "cell_type": "code",
   "execution_count": 118,
   "metadata": {},
   "outputs": [],
   "source": [
    "# Predicting the Test set results\n",
    "y_pred = classifier.predict(X_test)"
   ]
  },
  {
   "cell_type": "code",
   "execution_count": 161,
   "metadata": {},
   "outputs": [
    {
     "data": {
      "text/plain": [
       "array([0., 0., 1., 1., 0., 0., 0., 0., 0., 0.])"
      ]
     },
     "execution_count": 161,
     "metadata": {},
     "output_type": "execute_result"
    }
   ],
   "source": [
    "y_pred[:10]"
   ]
  },
  {
   "cell_type": "code",
   "execution_count": 162,
   "metadata": {},
   "outputs": [
    {
     "data": {
      "text/plain": [
       "array([[-0.31122288, -0.36318397],\n",
       "       [-0.31304966, -1.17938058],\n",
       "       [-0.31304966,  0.5045619 ],\n",
       "       [-0.31304966,  0.5045619 ],\n",
       "       [ 0.01444704, -0.32881779],\n",
       "       [-0.31304966, -1.15360595],\n",
       "       [-0.29845987, -0.36318397],\n",
       "       [-0.31195988, -1.20515521],\n",
       "       [ 0.29895327, -1.2223383 ],\n",
       "       [-0.31292741,  1.38949086]])"
      ]
     },
     "execution_count": 162,
     "metadata": {},
     "output_type": "execute_result"
    }
   ],
   "source": [
    "X_test[:10]"
   ]
  },
  {
   "cell_type": "code",
   "execution_count": 130,
   "metadata": {},
   "outputs": [
    {
     "name": "stdout",
     "output_type": "stream",
     "text": [
      "[[-0.31122288 -0.36318397]\n",
      " [-0.31304966 -1.17938058]\n",
      " [-0.31304966  0.5045619 ]\n",
      " ...\n",
      " [-0.31304966  0.5045619 ]\n",
      " [-0.31297282  1.40667395]\n",
      " [-0.31304966 -1.16219749]]\n"
     ]
    }
   ],
   "source": [
    "print(X_test)"
   ]
  },
  {
   "cell_type": "code",
   "execution_count": 132,
   "metadata": {},
   "outputs": [
    {
     "name": "stdout",
     "output_type": "stream",
     "text": [
      "[[-0.31270387 -1.21374675]\n",
      " [-0.31304966  1.36371623]\n",
      " [-0.31292043  1.38949086]\n",
      " ...\n",
      " [-0.0040024   1.35512469]\n",
      " [-0.12452102 -1.21374675]\n",
      " [-0.31304966  1.35512469]]\n"
     ]
    }
   ],
   "source": [
    "print(X_train)"
   ]
  },
  {
   "cell_type": "code",
   "execution_count": 133,
   "metadata": {},
   "outputs": [
    {
     "name": "stdout",
     "output_type": "stream",
     "text": [
      "[[4668. 2301.]\n",
      " [4080. 2507.]\n",
      " [1452. 2406.]\n",
      " ...\n",
      " [4719. 2408.]\n",
      " [ 645. 2403.]\n",
      " [3228. 2505.]]\n"
     ]
    }
   ],
   "source": [
    "print(X)"
   ]
  },
  {
   "cell_type": "code",
   "execution_count": 120,
   "metadata": {},
   "outputs": [
    {
     "name": "stdout",
     "output_type": "stream",
     "text": [
      "[[12516     0]\n",
      " [    7  3935]]\n"
     ]
    }
   ],
   "source": [
    "# Making the Confusion Matrix\n",
    "from sklearn.metrics import confusion_matrix\n",
    "cm = confusion_matrix(y_test, y_pred)\n",
    "print(cm)"
   ]
  },
  {
   "cell_type": "code",
   "execution_count": 129,
   "metadata": {},
   "outputs": [
    {
     "name": "stderr",
     "output_type": "stream",
     "text": [
      "'c' argument looks like a single numeric RGB or RGBA sequence, which should be avoided as value-mapping will have precedence in case its length matches with 'x' & 'y'.  Please use a 2-D array with a single row if you really want to specify the same RGB or RGBA value for all points.\n",
      "'c' argument looks like a single numeric RGB or RGBA sequence, which should be avoided as value-mapping will have precedence in case its length matches with 'x' & 'y'.  Please use a 2-D array with a single row if you really want to specify the same RGB or RGBA value for all points.\n"
     ]
    },
    {
     "data": {
      "image/png": "[encoded data removed]",
      "text/plain": [
       "<Figure size 432x288 with 1 Axes>"
      ]
     },
     "metadata": {
      "needs_background": "light"
     },
     "output_type": "display_data"
    }
   ],
   "source": [
    "# Visualizing the Training set results\n",
    "from matplotlib.colors import ListedColormap\n",
    "X_set, y_set = X_train, y_train\n",
    "X1, X2 = np.meshgrid(np.arange(start = X_set[:, 0].min() - 1, stop = X_set[:, 0].max() + 1, step = 0.01),\n",
    "                     np.arange(start = X_set[:, 1].min() - 1, stop = X_set[:, 1].max() + 1, step = 0.01))\n",
    "plt.contourf(X1, X2, classifier.predict(np.array([X1.ravel(), X2.ravel()]).T).reshape(X1.shape),\n",
    "             alpha = 0.75, cmap = ListedColormap(('aqua', 'navy')))\n",
    "plt.xlim(X1.min(), X1.max())\n",
    "plt.ylim(X2.min(), X2.max())\n",
    "for i, j in enumerate(np.unique(y_set)):\n",
    "    plt.scatter(X_set[y_set == j, 0], X_set[y_set == j, 1],\n",
    "                c = ListedColormap(('aqua', 'navy'))(i), label = j)\n",
    "plt.title('Naive Bayes (Training set): California Entrance')\n",
    "plt.xlabel('Mobility')\n",
    "plt.ylabel('Port Code')\n",
    "plt.legend()\n",
    "plt.show()"
   ]
  },
  {
   "cell_type": "code",
   "execution_count": 128,
   "metadata": {},
   "outputs": [
    {
     "name": "stderr",
     "output_type": "stream",
     "text": [
      "'c' argument looks like a single numeric RGB or RGBA sequence, which should be avoided as value-mapping will have precedence in case its length matches with 'x' & 'y'.  Please use a 2-D array with a single row if you really want to specify the same RGB or RGBA value for all points.\n",
      "'c' argument looks like a single numeric RGB or RGBA sequence, which should be avoided as value-mapping will have precedence in case its length matches with 'x' & 'y'.  Please use a 2-D array with a single row if you really want to specify the same RGB or RGBA value for all points.\n"
     ]
    },
    {
     "data": {
      "image/png": "[encoded data removed]",
      "text/plain": [
       "<Figure size 432x288 with 1 Axes>"
      ]
     },
     "metadata": {
      "needs_background": "light"
     },
     "output_type": "display_data"
    }
   ],
   "source": [
    "\n",
    "# Visualising the Test set results\n",
    "from matplotlib.colors import ListedColormap\n",
    "X_set, y_set = X_test, y_test\n",
    "X1, X2 = np.meshgrid(np.arange(start = X_set[:, 0].min() - 1, stop = X_set[:, 0].max() + 1, step = 0.01),\n",
    "                      np.arange(start = X_set[:, 1].min() - 1, stop = X_set[:, 1].max() + 1, step = 0.01))\n",
    "plt.contourf(X1, X2, classifier.predict(np.array([X1.ravel(), X2.ravel()]).T).reshape(X1.shape),\n",
    "             alpha = 0.75, cmap = ListedColormap(('aqua', 'navy')))\n",
    "plt.xlim(X1.min(), X1.max())\n",
    "plt.ylim(X2.min(), X2.max())\n",
    "for i, j in enumerate(np.unique(y_set)):\n",
    "    plt.scatter(X_set[y_set == j, 0], X_set[y_set == j, 1],\n",
    "                c = ListedColormap(('aqua', 'navy'))(i), label = j)\n",
    "plt.title('Naive Bayes (Test set) - California Entrance')\n",
    "plt.xlabel('Mobility')\n",
    "plt.ylabel('Port Code')\n",
    "plt.legend()\n",
    "plt.show()"
   ]
  },
  {
   "cell_type": "code",
   "execution_count": null,
   "metadata": {},
   "outputs": [],
   "source": []
  }
 ],
 "metadata": {
  "kernelspec": {
   "display_name": "Python 3",
   "language": "python",
   "name": "python3"
  },
  "language_info": {
   "codemirror_mode": {
    "name": "ipython",
    "version": 3
   },
   "file_extension": ".py",
   "mimetype": "text/x-python",
   "name": "python",
   "nbconvert_exporter": "python",
   "pygments_lexer": "ipython3",
   "version": "3.7.1"
  }
 },
 "nbformat": 4,
 "nbformat_minor": 2
}
