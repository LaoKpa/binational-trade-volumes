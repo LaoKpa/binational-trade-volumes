{
 "cells": [
  {
   "cell_type": "markdown",
   "metadata": {},
   "source": [
    "## Exploring Border Entry Dataset"
   ]
  },
  {
   "cell_type": "code",
   "execution_count": 28,
   "metadata": {},
   "outputs": [],
   "source": [
    "import numpy as np\n",
    "import matplotlib.pyplot as plt; plt.rcdefaults()\n",
    "import pandas as pd"
   ]
  },
  {
   "cell_type": "code",
   "execution_count": 29,
   "metadata": {},
   "outputs": [],
   "source": [
    "# importing the dataset\n",
    "dataset = pd.read_csv('./data/usitc/border_crossing_entry_data.csv')"
   ]
  },
  {
   "cell_type": "code",
   "execution_count": 30,
   "metadata": {},
   "outputs": [
    {
     "data": {
      "text/plain": [
       "(353962, 7)"
      ]
     },
     "execution_count": 30,
     "metadata": {},
     "output_type": "execute_result"
    }
   ],
   "source": [
    "#determine shape\n",
    "dataset.shape"
   ]
  },
  {
   "cell_type": "code",
   "execution_count": 31,
   "metadata": {},
   "outputs": [
    {
     "data": {
      "text/plain": [
       "['Port Name', 'State', 'Port Code', 'Border', 'Date', 'Measure', 'Value']"
      ]
     },
     "execution_count": 31,
     "metadata": {},
     "output_type": "execute_result"
    }
   ],
   "source": [
    "list(dataset.columns)"
   ]
  },
  {
   "cell_type": "code",
   "execution_count": 32,
   "metadata": {},
   "outputs": [
    {
     "data": {
      "text/html": [
       "<div>\n",
       "<style scoped>\n",
       "    .dataframe tbody tr th:only-of-type {\n",
       "        vertical-align: middle;\n",
       "    }\n",
       "\n",
       "    .dataframe tbody tr th {\n",
       "        vertical-align: top;\n",
       "    }\n",
       "\n",
       "    .dataframe thead th {\n",
       "        text-align: right;\n",
       "    }\n",
       "</style>\n",
       "<table border=\"1\" class=\"dataframe\">\n",
       "  <thead>\n",
       "    <tr style=\"text-align: right;\">\n",
       "      <th></th>\n",
       "      <th>Port Name</th>\n",
       "      <th>State</th>\n",
       "      <th>Port Code</th>\n",
       "      <th>Border</th>\n",
       "      <th>Date</th>\n",
       "      <th>Measure</th>\n",
       "      <th>Value</th>\n",
       "    </tr>\n",
       "  </thead>\n",
       "  <tbody>\n",
       "    <tr>\n",
       "      <th>0</th>\n",
       "      <td>Alexandria Bay</td>\n",
       "      <td>NY</td>\n",
       "      <td>708</td>\n",
       "      <td>US-Canada Border</td>\n",
       "      <td>12/1/2019 0:00</td>\n",
       "      <td>Bus Passengers</td>\n",
       "      <td>740</td>\n",
       "    </tr>\n",
       "    <tr>\n",
       "      <th>1</th>\n",
       "      <td>Baudette</td>\n",
       "      <td>MN</td>\n",
       "      <td>3424</td>\n",
       "      <td>US-Canada Border</td>\n",
       "      <td>12/1/2019 0:00</td>\n",
       "      <td>Bus Passengers</td>\n",
       "      <td>83</td>\n",
       "    </tr>\n",
       "    <tr>\n",
       "      <th>2</th>\n",
       "      <td>Blaine</td>\n",
       "      <td>WA</td>\n",
       "      <td>3004</td>\n",
       "      <td>US-Canada Border</td>\n",
       "      <td>12/1/2019 0:00</td>\n",
       "      <td>Bus Passengers</td>\n",
       "      <td>17029</td>\n",
       "    </tr>\n",
       "    <tr>\n",
       "      <th>3</th>\n",
       "      <td>Brownsville</td>\n",
       "      <td>TX</td>\n",
       "      <td>2301</td>\n",
       "      <td>US-Mexico Border</td>\n",
       "      <td>12/1/2019 0:00</td>\n",
       "      <td>Bus Passengers</td>\n",
       "      <td>4668</td>\n",
       "    </tr>\n",
       "    <tr>\n",
       "      <th>4</th>\n",
       "      <td>Buffalo-Niagara Falls</td>\n",
       "      <td>NY</td>\n",
       "      <td>901</td>\n",
       "      <td>US-Canada Border</td>\n",
       "      <td>12/1/2019 0:00</td>\n",
       "      <td>Bus Passengers</td>\n",
       "      <td>9910</td>\n",
       "    </tr>\n",
       "  </tbody>\n",
       "</table>\n",
       "</div>"
      ],
      "text/plain": [
       "               Port Name State  Port Code            Border            Date  \\\n",
       "0         Alexandria Bay    NY        708  US-Canada Border  12/1/2019 0:00   \n",
       "1               Baudette    MN       3424  US-Canada Border  12/1/2019 0:00   \n",
       "2                 Blaine    WA       3004  US-Canada Border  12/1/2019 0:00   \n",
       "3            Brownsville    TX       2301  US-Mexico Border  12/1/2019 0:00   \n",
       "4  Buffalo-Niagara Falls    NY        901  US-Canada Border  12/1/2019 0:00   \n",
       "\n",
       "          Measure  Value  \n",
       "0  Bus Passengers    740  \n",
       "1  Bus Passengers     83  \n",
       "2  Bus Passengers  17029  \n",
       "3  Bus Passengers   4668  \n",
       "4  Bus Passengers   9910  "
      ]
     },
     "execution_count": 32,
     "metadata": {},
     "output_type": "execute_result"
    }
   ],
   "source": [
    "#examine top of dataset\n",
    "dataset.head()"
   ]
  },
  {
   "cell_type": "code",
   "execution_count": 33,
   "metadata": {},
   "outputs": [
    {
     "data": {
      "text/plain": [
       "(82288, 7)"
      ]
     },
     "execution_count": 33,
     "metadata": {},
     "output_type": "execute_result"
    }
   ],
   "source": [
    "# create new dataframe for the US-Mexico border crossings only\n",
    "# there are 82288 observances\n",
    "borderMX = dataset[(dataset['Border']==\"US-Mexico Border\")]\n",
    "borderMX.shape"
   ]
  },
  {
   "cell_type": "code",
   "execution_count": 34,
   "metadata": {},
   "outputs": [
    {
     "name": "stdout",
     "output_type": "stream",
     "text": [
      "['Port Name', 'State', 'Port Code', 'Border', 'Date', 'Measure', 'Value']\n"
     ]
    }
   ],
   "source": [
    "variables = list(borderMX.columns)\n",
    "print(variables)"
   ]
  },
  {
   "cell_type": "code",
   "execution_count": 35,
   "metadata": {},
   "outputs": [
    {
     "data": {
      "text/plain": [
       "27"
      ]
     },
     "execution_count": 35,
     "metadata": {},
     "output_type": "execute_result"
    }
   ],
   "source": [
    "#determine how many points of entry are captured\n",
    "borderMX[\"Port Name\"].nunique()"
   ]
  },
  {
   "cell_type": "code",
   "execution_count": 36,
   "metadata": {},
   "outputs": [
    {
     "data": {
      "text/plain": [
       "array(['Brownsville', 'Calexico East', 'Columbus', 'Douglas',\n",
       "       'Eagle Pass', 'El Paso', 'Hidalgo', 'Laredo', 'Lukeville',\n",
       "       'Nogales', 'Otay Mesa', 'Presidio', 'Roma', 'San Luis',\n",
       "       'San Ysidro', 'Santa Teresa', 'Andrade', 'Boquillas', 'Calexico',\n",
       "       'Cross Border Xpress', 'Del Rio', 'Naco', 'Progreso',\n",
       "       'Rio Grande City', 'Sasabe', 'Tecate', 'Tornillo-Fabens'],\n",
       "      dtype=object)"
      ]
     },
     "execution_count": 36,
     "metadata": {},
     "output_type": "execute_result"
    }
   ],
   "source": [
    "# what are the names of the ports of entry\n",
    "borderMX[\"Port Name\"].unique()"
   ]
  },
  {
   "cell_type": "code",
   "execution_count": 38,
   "metadata": {},
   "outputs": [
    {
     "data": {
      "text/plain": [
       "count    8.228800e+04\n",
       "mean     8.863034e+04\n",
       "std      2.833660e+05\n",
       "min      0.000000e+00\n",
       "25%      0.000000e+00\n",
       "50%      8.350000e+02\n",
       "75%      2.759450e+04\n",
       "max      4.447374e+06\n",
       "Name: Value, dtype: float64"
      ]
     },
     "execution_count": 38,
     "metadata": {},
     "output_type": "execute_result"
    }
   ],
   "source": [
    "# Measure variable descriptive statistics\n",
    "borderMX[\"Value\"].describe()"
   ]
  },
  {
   "cell_type": "markdown",
   "metadata": {},
   "source": [
    "## Determine if ports of entry are inconsitently represented in the dataset"
   ]
  },
  {
   "cell_type": "code",
   "execution_count": 10,
   "metadata": {},
   "outputs": [
    {
     "data": {
      "text/plain": [
       "<matplotlib.axes._subplots.AxesSubplot at 0x1deaae2fe10>"
      ]
     },
     "execution_count": 10,
     "metadata": {},
     "output_type": "execute_result"
    },
    {
     "data": {
      "image/png": "[encoded data removed]",
      "text/plain": [
       "<Figure size 432x288 with 1 Axes>"
      ]
     },
     "metadata": {
      "needs_background": "light"
     },
     "output_type": "display_data"
    }
   ],
   "source": [
    "## each port of entry appears to be represented fairly consistently\n",
    "borderMX[\"Port Name\"].value_counts().plot(kind=\"bar\")"
   ]
  },
  {
   "cell_type": "code",
   "execution_count": 11,
   "metadata": {},
   "outputs": [
    {
     "data": {
      "text/html": [
       "<div>\n",
       "<style scoped>\n",
       "    .dataframe tbody tr th:only-of-type {\n",
       "        vertical-align: middle;\n",
       "    }\n",
       "\n",
       "    .dataframe tbody tr th {\n",
       "        vertical-align: top;\n",
       "    }\n",
       "\n",
       "    .dataframe thead th {\n",
       "        text-align: right;\n",
       "    }\n",
       "</style>\n",
       "<table border=\"1\" class=\"dataframe\">\n",
       "  <thead>\n",
       "    <tr style=\"text-align: right;\">\n",
       "      <th></th>\n",
       "      <th>Port Name</th>\n",
       "      <th>State</th>\n",
       "      <th>Port Code</th>\n",
       "      <th>Border</th>\n",
       "      <th>Date</th>\n",
       "      <th>Measure</th>\n",
       "      <th>Value</th>\n",
       "    </tr>\n",
       "  </thead>\n",
       "  <tbody>\n",
       "    <tr>\n",
       "      <th>3</th>\n",
       "      <td>Brownsville</td>\n",
       "      <td>TX</td>\n",
       "      <td>2301</td>\n",
       "      <td>US-Mexico Border</td>\n",
       "      <td>12/1/2019 0:00</td>\n",
       "      <td>Bus Passengers</td>\n",
       "      <td>4668</td>\n",
       "    </tr>\n",
       "    <tr>\n",
       "      <th>6</th>\n",
       "      <td>Calexico East</td>\n",
       "      <td>CA</td>\n",
       "      <td>2507</td>\n",
       "      <td>US-Mexico Border</td>\n",
       "      <td>12/1/2019 0:00</td>\n",
       "      <td>Bus Passengers</td>\n",
       "      <td>4080</td>\n",
       "    </tr>\n",
       "    <tr>\n",
       "      <th>8</th>\n",
       "      <td>Columbus</td>\n",
       "      <td>NM</td>\n",
       "      <td>2406</td>\n",
       "      <td>US-Mexico Border</td>\n",
       "      <td>12/1/2019 0:00</td>\n",
       "      <td>Bus Passengers</td>\n",
       "      <td>1452</td>\n",
       "    </tr>\n",
       "    <tr>\n",
       "      <th>11</th>\n",
       "      <td>Douglas</td>\n",
       "      <td>AZ</td>\n",
       "      <td>2601</td>\n",
       "      <td>US-Mexico Border</td>\n",
       "      <td>12/1/2019 0:00</td>\n",
       "      <td>Bus Passengers</td>\n",
       "      <td>107</td>\n",
       "    </tr>\n",
       "    <tr>\n",
       "      <th>13</th>\n",
       "      <td>Eagle Pass</td>\n",
       "      <td>TX</td>\n",
       "      <td>2303</td>\n",
       "      <td>US-Mexico Border</td>\n",
       "      <td>12/1/2019 0:00</td>\n",
       "      <td>Bus Passengers</td>\n",
       "      <td>8525</td>\n",
       "    </tr>\n",
       "  </tbody>\n",
       "</table>\n",
       "</div>"
      ],
      "text/plain": [
       "        Port Name State  Port Code            Border            Date  \\\n",
       "3     Brownsville    TX       2301  US-Mexico Border  12/1/2019 0:00   \n",
       "6   Calexico East    CA       2507  US-Mexico Border  12/1/2019 0:00   \n",
       "8        Columbus    NM       2406  US-Mexico Border  12/1/2019 0:00   \n",
       "11        Douglas    AZ       2601  US-Mexico Border  12/1/2019 0:00   \n",
       "13     Eagle Pass    TX       2303  US-Mexico Border  12/1/2019 0:00   \n",
       "\n",
       "           Measure  Value  \n",
       "3   Bus Passengers   4668  \n",
       "6   Bus Passengers   4080  \n",
       "8   Bus Passengers   1452  \n",
       "11  Bus Passengers    107  \n",
       "13  Bus Passengers   8525  "
      ]
     },
     "execution_count": 11,
     "metadata": {},
     "output_type": "execute_result"
    }
   ],
   "source": [
    "# determine which ports of entry get the highest traffic\n",
    "borderMX.head()"
   ]
  },
  {
   "cell_type": "code",
   "execution_count": 12,
   "metadata": {},
   "outputs": [
    {
     "data": {
      "text/plain": [
       "12"
      ]
     },
     "execution_count": 12,
     "metadata": {},
     "output_type": "execute_result"
    }
   ],
   "source": [
    "#understand the number of unique measures and the different types unique values\n",
    "borderMX[\"Measure\"].nunique()"
   ]
  },
  {
   "cell_type": "code",
   "execution_count": 13,
   "metadata": {},
   "outputs": [
    {
     "data": {
      "text/plain": [
       "array(['Bus Passengers', 'Buses', 'Pedestrians',\n",
       "       'Personal Vehicle Passengers', 'Personal Vehicles',\n",
       "       'Rail Containers Empty', 'Rail Containers Full',\n",
       "       'Train Passengers', 'Trains', 'Truck Containers Empty',\n",
       "       'Truck Containers Full', 'Trucks'], dtype=object)"
      ]
     },
     "execution_count": 13,
     "metadata": {},
     "output_type": "execute_result"
    }
   ],
   "source": [
    "borderMX[\"Measure\"].unique()"
   ]
  },
  {
   "cell_type": "markdown",
   "metadata": {},
   "source": [
    "## Extract just the year as a new variable in the dataframe\n"
   ]
  },
  {
   "cell_type": "code",
   "execution_count": 40,
   "metadata": {},
   "outputs": [],
   "source": [
    "import numpy as np\n",
    "import datetime"
   ]
  },
  {
   "cell_type": "code",
   "execution_count": 41,
   "metadata": {},
   "outputs": [
    {
     "name": "stderr",
     "output_type": "stream",
     "text": [
      "C:\\Users\\nhinojos\\AppData\\Local\\Continuum\\anaconda\\lib\\site-packages\\ipykernel_launcher.py:1: SettingWithCopyWarning: \n",
      "A value is trying to be set on a copy of a slice from a DataFrame.\n",
      "Try using .loc[row_indexer,col_indexer] = value instead\n",
      "\n",
      "See the caveats in the documentation: http://pandas.pydata.org/pandas-docs/stable/indexing.html#indexing-view-versus-copy\n",
      "  \"\"\"Entry point for launching an IPython kernel.\n"
     ]
    }
   ],
   "source": [
    "borderMX['year']= pd.DatetimeIndex(borderMX['Date']).year"
   ]
  },
  {
   "cell_type": "code",
   "execution_count": 42,
   "metadata": {
    "scrolled": false
   },
   "outputs": [
    {
     "data": {
      "text/html": [
       "<div>\n",
       "<style scoped>\n",
       "    .dataframe tbody tr th:only-of-type {\n",
       "        vertical-align: middle;\n",
       "    }\n",
       "\n",
       "    .dataframe tbody tr th {\n",
       "        vertical-align: top;\n",
       "    }\n",
       "\n",
       "    .dataframe thead th {\n",
       "        text-align: right;\n",
       "    }\n",
       "</style>\n",
       "<table border=\"1\" class=\"dataframe\">\n",
       "  <thead>\n",
       "    <tr style=\"text-align: right;\">\n",
       "      <th></th>\n",
       "      <th>Port Name</th>\n",
       "      <th>State</th>\n",
       "      <th>Port Code</th>\n",
       "      <th>Border</th>\n",
       "      <th>Date</th>\n",
       "      <th>Measure</th>\n",
       "      <th>Value</th>\n",
       "      <th>year</th>\n",
       "    </tr>\n",
       "  </thead>\n",
       "  <tbody>\n",
       "    <tr>\n",
       "      <th>3</th>\n",
       "      <td>Brownsville</td>\n",
       "      <td>TX</td>\n",
       "      <td>2301</td>\n",
       "      <td>US-Mexico Border</td>\n",
       "      <td>12/1/2019 0:00</td>\n",
       "      <td>Bus Passengers</td>\n",
       "      <td>4668</td>\n",
       "      <td>2019</td>\n",
       "    </tr>\n",
       "    <tr>\n",
       "      <th>6</th>\n",
       "      <td>Calexico East</td>\n",
       "      <td>CA</td>\n",
       "      <td>2507</td>\n",
       "      <td>US-Mexico Border</td>\n",
       "      <td>12/1/2019 0:00</td>\n",
       "      <td>Bus Passengers</td>\n",
       "      <td>4080</td>\n",
       "      <td>2019</td>\n",
       "    </tr>\n",
       "    <tr>\n",
       "      <th>8</th>\n",
       "      <td>Columbus</td>\n",
       "      <td>NM</td>\n",
       "      <td>2406</td>\n",
       "      <td>US-Mexico Border</td>\n",
       "      <td>12/1/2019 0:00</td>\n",
       "      <td>Bus Passengers</td>\n",
       "      <td>1452</td>\n",
       "      <td>2019</td>\n",
       "    </tr>\n",
       "    <tr>\n",
       "      <th>11</th>\n",
       "      <td>Douglas</td>\n",
       "      <td>AZ</td>\n",
       "      <td>2601</td>\n",
       "      <td>US-Mexico Border</td>\n",
       "      <td>12/1/2019 0:00</td>\n",
       "      <td>Bus Passengers</td>\n",
       "      <td>107</td>\n",
       "      <td>2019</td>\n",
       "    </tr>\n",
       "    <tr>\n",
       "      <th>13</th>\n",
       "      <td>Eagle Pass</td>\n",
       "      <td>TX</td>\n",
       "      <td>2303</td>\n",
       "      <td>US-Mexico Border</td>\n",
       "      <td>12/1/2019 0:00</td>\n",
       "      <td>Bus Passengers</td>\n",
       "      <td>8525</td>\n",
       "      <td>2019</td>\n",
       "    </tr>\n",
       "    <tr>\n",
       "      <th>14</th>\n",
       "      <td>El Paso</td>\n",
       "      <td>TX</td>\n",
       "      <td>2402</td>\n",
       "      <td>US-Mexico Border</td>\n",
       "      <td>12/1/2019 0:00</td>\n",
       "      <td>Bus Passengers</td>\n",
       "      <td>39745</td>\n",
       "      <td>2019</td>\n",
       "    </tr>\n",
       "    <tr>\n",
       "      <th>18</th>\n",
       "      <td>Hidalgo</td>\n",
       "      <td>TX</td>\n",
       "      <td>2305</td>\n",
       "      <td>US-Mexico Border</td>\n",
       "      <td>12/1/2019 0:00</td>\n",
       "      <td>Bus Passengers</td>\n",
       "      <td>26540</td>\n",
       "      <td>2019</td>\n",
       "    </tr>\n",
       "    <tr>\n",
       "      <th>23</th>\n",
       "      <td>Laredo</td>\n",
       "      <td>TX</td>\n",
       "      <td>2304</td>\n",
       "      <td>US-Mexico Border</td>\n",
       "      <td>12/1/2019 0:00</td>\n",
       "      <td>Bus Passengers</td>\n",
       "      <td>81239</td>\n",
       "      <td>2019</td>\n",
       "    </tr>\n",
       "    <tr>\n",
       "      <th>25</th>\n",
       "      <td>Lukeville</td>\n",
       "      <td>AZ</td>\n",
       "      <td>2602</td>\n",
       "      <td>US-Mexico Border</td>\n",
       "      <td>12/1/2019 0:00</td>\n",
       "      <td>Bus Passengers</td>\n",
       "      <td>491</td>\n",
       "      <td>2019</td>\n",
       "    </tr>\n",
       "    <tr>\n",
       "      <th>29</th>\n",
       "      <td>Nogales</td>\n",
       "      <td>AZ</td>\n",
       "      <td>2604</td>\n",
       "      <td>US-Mexico Border</td>\n",
       "      <td>12/1/2019 0:00</td>\n",
       "      <td>Bus Passengers</td>\n",
       "      <td>17302</td>\n",
       "      <td>2019</td>\n",
       "    </tr>\n",
       "  </tbody>\n",
       "</table>\n",
       "</div>"
      ],
      "text/plain": [
       "        Port Name State  Port Code            Border            Date  \\\n",
       "3     Brownsville    TX       2301  US-Mexico Border  12/1/2019 0:00   \n",
       "6   Calexico East    CA       2507  US-Mexico Border  12/1/2019 0:00   \n",
       "8        Columbus    NM       2406  US-Mexico Border  12/1/2019 0:00   \n",
       "11        Douglas    AZ       2601  US-Mexico Border  12/1/2019 0:00   \n",
       "13     Eagle Pass    TX       2303  US-Mexico Border  12/1/2019 0:00   \n",
       "14        El Paso    TX       2402  US-Mexico Border  12/1/2019 0:00   \n",
       "18        Hidalgo    TX       2305  US-Mexico Border  12/1/2019 0:00   \n",
       "23         Laredo    TX       2304  US-Mexico Border  12/1/2019 0:00   \n",
       "25      Lukeville    AZ       2602  US-Mexico Border  12/1/2019 0:00   \n",
       "29        Nogales    AZ       2604  US-Mexico Border  12/1/2019 0:00   \n",
       "\n",
       "           Measure  Value  year  \n",
       "3   Bus Passengers   4668  2019  \n",
       "6   Bus Passengers   4080  2019  \n",
       "8   Bus Passengers   1452  2019  \n",
       "11  Bus Passengers    107  2019  \n",
       "13  Bus Passengers   8525  2019  \n",
       "14  Bus Passengers  39745  2019  \n",
       "18  Bus Passengers  26540  2019  \n",
       "23  Bus Passengers  81239  2019  \n",
       "25  Bus Passengers    491  2019  \n",
       "29  Bus Passengers  17302  2019  "
      ]
     },
     "execution_count": 42,
     "metadata": {},
     "output_type": "execute_result"
    }
   ],
   "source": [
    "borderMX.head(10)"
   ]
  },
  {
   "cell_type": "code",
   "execution_count": 43,
   "metadata": {},
   "outputs": [
    {
     "data": {
      "text/plain": [
       "(82288, 8)"
      ]
     },
     "execution_count": 43,
     "metadata": {},
     "output_type": "execute_result"
    }
   ],
   "source": [
    "borderMX.shape"
   ]
  },
  {
   "cell_type": "code",
   "execution_count": 44,
   "metadata": {},
   "outputs": [
    {
     "name": "stdout",
     "output_type": "stream",
     "text": [
      "[2019, 2018, 2017, 2016, 2015, 2014, 2013, 2012, 2011, 2010, 2009, 2008, 2007, 2006, 2005, 2004, 2003, 2002, 2001, 2000, 1999, 1998, 1997, 1996]\n"
     ]
    }
   ],
   "source": [
    "years_list = list(borderMX['year'].unique())\n",
    "print(years_list)"
   ]
  },
  {
   "cell_type": "code",
   "execution_count": 19,
   "metadata": {},
   "outputs": [
    {
     "data": {
      "text/plain": [
       "(82288, 3)"
      ]
     },
     "execution_count": 19,
     "metadata": {},
     "output_type": "execute_result"
    }
   ],
   "source": [
    "# create new dataframe with just the \n",
    "relevantDF = borderMX[[\"year\",\"Value\",\"Port Name\"]].copy()\n",
    "relevantDF.shape"
   ]
  },
  {
   "cell_type": "code",
   "execution_count": 45,
   "metadata": {},
   "outputs": [
    {
     "data": {
      "text/plain": [
       "count    8.228800e+04\n",
       "mean     8.863034e+04\n",
       "std      2.833660e+05\n",
       "min      0.000000e+00\n",
       "25%      0.000000e+00\n",
       "50%      8.350000e+02\n",
       "75%      2.759450e+04\n",
       "max      4.447374e+06\n",
       "Name: Value, dtype: float64"
      ]
     },
     "execution_count": 45,
     "metadata": {},
     "output_type": "execute_result"
    }
   ],
   "source": [
    "relevantDF[\"Value\"].describe()"
   ]
  },
  {
   "cell_type": "code",
   "execution_count": 20,
   "metadata": {},
   "outputs": [
    {
     "data": {
      "text/plain": [
       "(3600, 3)"
      ]
     },
     "execution_count": 20,
     "metadata": {},
     "output_type": "execute_result"
    }
   ],
   "source": [
    "## testing for loop accuracy\n",
    "testing1996 = relevantDF[relevantDF[\"year\"]==1996]\n",
    "testing1996.shape"
   ]
  },
  {
   "cell_type": "markdown",
   "metadata": {},
   "source": [
    "## Sum the variable value for each dataframe "
   ]
  },
  {
   "cell_type": "markdown",
   "metadata": {},
   "source": [
    "#### Building a function to get the column sum of the years"
   ]
  },
  {
   "cell_type": "code",
   "execution_count": 21,
   "metadata": {},
   "outputs": [],
   "source": [
    "# importing library to use sum method across columns\n",
    "import scipy.stats"
   ]
  },
  {
   "cell_type": "code",
   "execution_count": 22,
   "metadata": {},
   "outputs": [],
   "source": [
    "value_list=[]\n",
    "\n",
    "def create_df(year):\n",
    "    print(\"Creating a new data frame for\",year,\"- note that the df name will not change.\")\n",
    "    name = relevantDF[relevantDF[\"year\"]==year]\n",
    "    value = name[\"Value\"].sum(axis=0)\n",
    "    value_list.append(value)\n",
    "    print(\"Shape of the new data frame is\",name.shape)\n",
    "    print(\"The sum of the value column for\",year,\"is:\",value,\"\\n---------------------------\")\n"
   ]
  },
  {
   "cell_type": "code",
   "execution_count": 23,
   "metadata": {},
   "outputs": [
    {
     "name": "stdout",
     "output_type": "stream",
     "text": [
      "[]\n"
     ]
    }
   ],
   "source": [
    "print(value_list)"
   ]
  },
  {
   "cell_type": "code",
   "execution_count": 24,
   "metadata": {},
   "outputs": [
    {
     "name": "stdout",
     "output_type": "stream",
     "text": [
      "0\n"
     ]
    }
   ],
   "source": [
    "print(len(value_list))"
   ]
  },
  {
   "cell_type": "code",
   "execution_count": 25,
   "metadata": {},
   "outputs": [
    {
     "name": "stdout",
     "output_type": "stream",
     "text": [
      "Creating a new data frame for 2019 - note that the df name will not change.\n",
      "Shape of the new data frame is (2321, 3)\n",
      "The sum of the value column for 2019 is: 275538145 \n",
      "---------------------------\n",
      "Creating a new data frame for 2018 - note that the df name will not change.\n",
      "Shape of the new data frame is (2313, 3)\n",
      "The sum of the value column for 2018 is: 283743197 \n",
      "---------------------------\n",
      "Creating a new data frame for 2017 - note that the df name will not change.\n",
      "Shape of the new data frame is (2331, 3)\n",
      "The sum of the value column for 2017 is: 278703002 \n",
      "---------------------------\n",
      "Creating a new data frame for 2016 - note that the df name will not change.\n",
      "Shape of the new data frame is (3179, 3)\n",
      "The sum of the value column for 2016 is: 273532405 \n",
      "---------------------------\n",
      "Creating a new data frame for 2015 - note that the df name will not change.\n",
      "Shape of the new data frame is (3744, 3)\n",
      "The sum of the value column for 2015 is: 267663436 \n",
      "---------------------------\n",
      "Creating a new data frame for 2014 - note that the df name will not change.\n",
      "Shape of the new data frame is (3600, 3)\n",
      "The sum of the value column for 2014 is: 254746277 \n",
      "---------------------------\n",
      "Creating a new data frame for 2013 - note that the df name will not change.\n",
      "Shape of the new data frame is (3600, 3)\n",
      "The sum of the value column for 2013 is: 243982227 \n",
      "---------------------------\n",
      "Creating a new data frame for 2012 - note that the df name will not change.\n",
      "Shape of the new data frame is (3600, 3)\n",
      "The sum of the value column for 2012 is: 232999664 \n",
      "---------------------------\n",
      "Creating a new data frame for 2011 - note that the df name will not change.\n",
      "Shape of the new data frame is (3600, 3)\n",
      "The sum of the value column for 2011 is: 225541089 \n",
      "---------------------------\n",
      "Creating a new data frame for 2010 - note that the df name will not change.\n",
      "Shape of the new data frame is (3600, 3)\n",
      "The sum of the value column for 2010 is: 242776894 \n",
      "---------------------------\n",
      "Creating a new data frame for 2009 - note that the df name will not change.\n",
      "Shape of the new data frame is (3600, 3)\n",
      "The sum of the value column for 2009 is: 264450245 \n",
      "---------------------------\n",
      "Creating a new data frame for 2008 - note that the df name will not change.\n",
      "Shape of the new data frame is (3600, 3)\n",
      "The sum of the value column for 2008 is: 295921230 \n",
      "---------------------------\n",
      "Creating a new data frame for 2007 - note that the df name will not change.\n",
      "Shape of the new data frame is (3600, 3)\n",
      "The sum of the value column for 2007 is: 310095754 \n",
      "---------------------------\n",
      "Creating a new data frame for 2006 - note that the df name will not change.\n",
      "Shape of the new data frame is (3600, 3)\n",
      "The sum of the value column for 2006 is: 327588026 \n",
      "---------------------------\n",
      "Creating a new data frame for 2005 - note that the df name will not change.\n",
      "Shape of the new data frame is (3600, 3)\n",
      "The sum of the value column for 2005 is: 336990567 \n",
      "---------------------------\n",
      "Creating a new data frame for 2004 - note that the df name will not change.\n",
      "Shape of the new data frame is (3600, 3)\n",
      "The sum of the value column for 2004 is: 343524676 \n",
      "---------------------------\n",
      "Creating a new data frame for 2003 - note that the df name will not change.\n",
      "Shape of the new data frame is (3600, 3)\n",
      "The sum of the value column for 2003 is: 343654239 \n",
      "---------------------------\n",
      "Creating a new data frame for 2002 - note that the df name will not change.\n",
      "Shape of the new data frame is (3600, 3)\n",
      "The sum of the value column for 2002 is: 352870123 \n",
      "---------------------------\n",
      "Creating a new data frame for 2001 - note that the df name will not change.\n",
      "Shape of the new data frame is (3600, 3)\n",
      "The sum of the value column for 2001 is: 362991511 \n",
      "---------------------------\n",
      "Creating a new data frame for 2000 - note that the df name will not change.\n",
      "Shape of the new data frame is (3600, 3)\n",
      "The sum of the value column for 2000 is: 392231869 \n",
      "---------------------------\n",
      "Creating a new data frame for 1999 - note that the df name will not change.\n",
      "Shape of the new data frame is (3600, 3)\n",
      "The sum of the value column for 1999 is: 391959396 \n",
      "---------------------------\n",
      "Creating a new data frame for 1998 - note that the df name will not change.\n",
      "Shape of the new data frame is (3600, 3)\n",
      "The sum of the value column for 1998 is: 366296614 \n",
      "---------------------------\n",
      "Creating a new data frame for 1997 - note that the df name will not change.\n",
      "Shape of the new data frame is (3600, 3)\n",
      "The sum of the value column for 1997 is: 348661488 \n",
      "---------------------------\n",
      "Creating a new data frame for 1996 - note that the df name will not change.\n",
      "Shape of the new data frame is (3600, 3)\n",
      "The sum of the value column for 1996 is: 276751448 \n",
      "---------------------------\n"
     ]
    }
   ],
   "source": [
    "## creating a for loop to create data frames for each year, and this will make my life easier, yay\n",
    "for year in years_list:\n",
    "    create_df(year)"
   ]
  },
  {
   "cell_type": "code",
   "execution_count": null,
   "metadata": {},
   "outputs": [],
   "source": []
  }
 ],
 "metadata": {
  "kernelspec": {
   "display_name": "Python 3",
   "language": "python",
   "name": "python3"
  },
  "language_info": {
   "codemirror_mode": {
    "name": "ipython",
    "version": 3
   },
   "file_extension": ".py",
   "mimetype": "text/x-python",
   "name": "python",
   "nbconvert_exporter": "python",
   "pygments_lexer": "ipython3",
   "version": "3.7.1"
  }
 },
 "nbformat": 4,
 "nbformat_minor": 2
}
