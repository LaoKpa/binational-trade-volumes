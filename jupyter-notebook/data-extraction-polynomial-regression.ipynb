{
 "cells": [
  {
   "cell_type": "markdown",
   "metadata": {},
   "source": [
    "## Polynomial Regression"
   ]
  },
  {
   "cell_type": "code",
   "execution_count": 1,
   "metadata": {},
   "outputs": [],
   "source": [
    "# Importing the libraries\n",
    "import numpy as np\n",
    "import matplotlib.pyplot as plt\n",
    "import pandas as pd"
   ]
  },
  {
   "cell_type": "code",
   "execution_count": 2,
   "metadata": {},
   "outputs": [
    {
     "data": {
      "text/plain": [
       "(24, 5)"
      ]
     },
     "execution_count": 2,
     "metadata": {},
     "output_type": "execute_result"
    }
   ],
   "source": [
    "dataset = pd.read_csv('./data/usitc/tradeVariables-mxcan.csv')\n",
    "dataset.shape"
   ]
  },
  {
   "cell_type": "code",
   "execution_count": 3,
   "metadata": {},
   "outputs": [
    {
     "data": {
      "text/html": [
       "<div>\n",
       "<style scoped>\n",
       "    .dataframe tbody tr th:only-of-type {\n",
       "        vertical-align: middle;\n",
       "    }\n",
       "\n",
       "    .dataframe tbody tr th {\n",
       "        vertical-align: top;\n",
       "    }\n",
       "\n",
       "    .dataframe thead th {\n",
       "        text-align: right;\n",
       "    }\n",
       "</style>\n",
       "<table border=\"1\" class=\"dataframe\">\n",
       "  <thead>\n",
       "    <tr style=\"text-align: right;\">\n",
       "      <th></th>\n",
       "      <th>year</th>\n",
       "      <th>exports</th>\n",
       "      <th>imports</th>\n",
       "      <th>travel_mx</th>\n",
       "      <th>travel_can</th>\n",
       "    </tr>\n",
       "  </thead>\n",
       "  <tbody>\n",
       "    <tr>\n",
       "      <th>0</th>\n",
       "      <td>1996</td>\n",
       "      <td>5.468587e+10</td>\n",
       "      <td>7.296319e+10</td>\n",
       "      <td>276751448</td>\n",
       "      <td>153038903</td>\n",
       "    </tr>\n",
       "    <tr>\n",
       "      <th>1</th>\n",
       "      <td>1997</td>\n",
       "      <td>6.839322e+10</td>\n",
       "      <td>8.587234e+10</td>\n",
       "      <td>348661488</td>\n",
       "      <td>145512710</td>\n",
       "    </tr>\n",
       "    <tr>\n",
       "      <th>2</th>\n",
       "      <td>1998</td>\n",
       "      <td>7.536930e+10</td>\n",
       "      <td>9.470867e+10</td>\n",
       "      <td>366296614</td>\n",
       "      <td>142291790</td>\n",
       "    </tr>\n",
       "    <tr>\n",
       "      <th>3</th>\n",
       "      <td>1999</td>\n",
       "      <td>8.138074e+10</td>\n",
       "      <td>1.100000e+11</td>\n",
       "      <td>391959396</td>\n",
       "      <td>146497328</td>\n",
       "    </tr>\n",
       "    <tr>\n",
       "      <th>4</th>\n",
       "      <td>2000</td>\n",
       "      <td>1.000000e+11</td>\n",
       "      <td>1.360000e+11</td>\n",
       "      <td>392231869</td>\n",
       "      <td>147789673</td>\n",
       "    </tr>\n",
       "  </tbody>\n",
       "</table>\n",
       "</div>"
      ],
      "text/plain": [
       "   year       exports       imports  travel_mx  travel_can\n",
       "0  1996  5.468587e+10  7.296319e+10  276751448   153038903\n",
       "1  1997  6.839322e+10  8.587234e+10  348661488   145512710\n",
       "2  1998  7.536930e+10  9.470867e+10  366296614   142291790\n",
       "3  1999  8.138074e+10  1.100000e+11  391959396   146497328\n",
       "4  2000  1.000000e+11  1.360000e+11  392231869   147789673"
      ]
     },
     "execution_count": 3,
     "metadata": {},
     "output_type": "execute_result"
    }
   ],
   "source": [
    "dataset.head()"
   ]
  },
  {
   "cell_type": "code",
   "execution_count": 4,
   "metadata": {},
   "outputs": [
    {
     "data": {
      "text/plain": [
       "[<matplotlib.lines.Line2D at 0x1c94a949438>]"
      ]
     },
     "execution_count": 4,
     "metadata": {},
     "output_type": "execute_result"
    },
    {
     "data": {
      "image/png": "[encoded data removed]",
      "text/plain": [
       "<Figure size 432x288 with 1 Axes>"
      ]
     },
     "metadata": {
      "needs_background": "light"
     },
     "output_type": "display_data"
    }
   ],
   "source": [
    "#travel visualization\n",
    "plt.plot(dataset[\"year\"],dataset[\"travel_mx\"])"
   ]
  },
  {
   "cell_type": "code",
   "execution_count": 23,
   "metadata": {},
   "outputs": [
    {
     "data": {
      "text/plain": [
       "(24, 3)"
      ]
     },
     "execution_count": 23,
     "metadata": {},
     "output_type": "execute_result"
    }
   ],
   "source": [
    "newdf = dataset[[\"exports\",\"imports\",\"travel_mx\"]].copy()\n",
    "newdf.shape"
   ]
  },
  {
   "cell_type": "code",
   "execution_count": 38,
   "metadata": {},
   "outputs": [
    {
     "data": {
      "text/html": [
       "<div>\n",
       "<style scoped>\n",
       "    .dataframe tbody tr th:only-of-type {\n",
       "        vertical-align: middle;\n",
       "    }\n",
       "\n",
       "    .dataframe tbody tr th {\n",
       "        vertical-align: top;\n",
       "    }\n",
       "\n",
       "    .dataframe thead th {\n",
       "        text-align: right;\n",
       "    }\n",
       "</style>\n",
       "<table border=\"1\" class=\"dataframe\">\n",
       "  <thead>\n",
       "    <tr style=\"text-align: right;\">\n",
       "      <th></th>\n",
       "      <th>exports</th>\n",
       "      <th>imports</th>\n",
       "      <th>travel_mx</th>\n",
       "    </tr>\n",
       "  </thead>\n",
       "  <tbody>\n",
       "    <tr>\n",
       "      <th>0</th>\n",
       "      <td>5.468587e+10</td>\n",
       "      <td>7.296319e+10</td>\n",
       "      <td>276751448</td>\n",
       "    </tr>\n",
       "    <tr>\n",
       "      <th>1</th>\n",
       "      <td>6.839322e+10</td>\n",
       "      <td>8.587234e+10</td>\n",
       "      <td>348661488</td>\n",
       "    </tr>\n",
       "    <tr>\n",
       "      <th>2</th>\n",
       "      <td>7.536930e+10</td>\n",
       "      <td>9.470867e+10</td>\n",
       "      <td>366296614</td>\n",
       "    </tr>\n",
       "    <tr>\n",
       "      <th>3</th>\n",
       "      <td>8.138074e+10</td>\n",
       "      <td>1.100000e+11</td>\n",
       "      <td>391959396</td>\n",
       "    </tr>\n",
       "    <tr>\n",
       "      <th>4</th>\n",
       "      <td>1.000000e+11</td>\n",
       "      <td>1.360000e+11</td>\n",
       "      <td>392231869</td>\n",
       "    </tr>\n",
       "  </tbody>\n",
       "</table>\n",
       "</div>"
      ],
      "text/plain": [
       "        exports       imports  travel_mx\n",
       "0  5.468587e+10  7.296319e+10  276751448\n",
       "1  6.839322e+10  8.587234e+10  348661488\n",
       "2  7.536930e+10  9.470867e+10  366296614\n",
       "3  8.138074e+10  1.100000e+11  391959396\n",
       "4  1.000000e+11  1.360000e+11  392231869"
      ]
     },
     "execution_count": 38,
     "metadata": {},
     "output_type": "execute_result"
    }
   ],
   "source": [
    "newdf.head()"
   ]
  },
  {
   "cell_type": "code",
   "execution_count": 7,
   "metadata": {},
   "outputs": [],
   "source": [
    "X = newdf.iloc[:, :-2].values\n",
    "y = newdf.iloc[:, 2].values"
   ]
  },
  {
   "cell_type": "code",
   "execution_count": 22,
   "metadata": {},
   "outputs": [
    {
     "name": "stdout",
     "output_type": "stream",
     "text": [
      "(24, 1)\n"
     ]
    }
   ],
   "source": [
    "# matrix\n",
    "print(X.shape) "
   ]
  },
  {
   "cell_type": "code",
   "execution_count": 37,
   "metadata": {},
   "outputs": [
    {
     "name": "stdout",
     "output_type": "stream",
     "text": [
      "[[5.46858652e+10]\n",
      " [6.83932194e+10]\n",
      " [7.53693001e+10]\n",
      " [8.13807402e+10]\n",
      " [1.00000000e+11]\n",
      " [9.05374338e+10]\n",
      " [8.60760818e+10]\n",
      " [8.31080960e+10]\n",
      " [9.30177032e+10]\n",
      " [1.02000000e+11]\n",
      " [1.15000000e+11]\n",
      " [1.19000000e+11]\n",
      " [1.32000000e+11]\n",
      " [1.06000000e+11]\n",
      " [1.32000000e+11]\n",
      " [1.60000000e+11]\n",
      " [1.75000000e+11]\n",
      " [1.82000000e+11]\n",
      " [1.93000000e+11]\n",
      " [1.86000000e+11]\n",
      " [1.77000000e+11]\n",
      " [1.87000000e+11]\n",
      " [2.04000000e+11]\n",
      " [1.96000000e+11]]\n"
     ]
    }
   ],
   "source": [
    "print(X)"
   ]
  },
  {
   "cell_type": "code",
   "execution_count": 9,
   "metadata": {},
   "outputs": [],
   "source": [
    "# Splitting the dataset into the Training set and Test set\n",
    "from sklearn.model_selection import train_test_split\n",
    "X_train, X_test, y_train, y_test = train_test_split(X, y, test_size = 0.2, random_state = 0)\n"
   ]
  },
  {
   "cell_type": "code",
   "execution_count": 10,
   "metadata": {},
   "outputs": [
    {
     "data": {
      "text/plain": [
       "LinearRegression(copy_X=True, fit_intercept=True, n_jobs=None,\n",
       "         normalize=False)"
      ]
     },
     "execution_count": 10,
     "metadata": {},
     "output_type": "execute_result"
    }
   ],
   "source": [
    "# Fitting linear regression to the dataset\n",
    "from sklearn.linear_model import LinearRegression\n",
    "lin_reg = LinearRegression()\n",
    "lin_reg.fit(X,y)"
   ]
  },
  {
   "cell_type": "code",
   "execution_count": 11,
   "metadata": {},
   "outputs": [
    {
     "data": {
      "text/plain": [
       "LinearRegression(copy_X=True, fit_intercept=True, n_jobs=None,\n",
       "         normalize=False)"
      ]
     },
     "execution_count": 11,
     "metadata": {},
     "output_type": "execute_result"
    }
   ],
   "source": [
    "# Fitting polynomial regression to the dataset\n",
    "# Note the new class that will be imported\n",
    "from sklearn.preprocessing import PolynomialFeatures\n",
    "\n",
    "# new matrix of features, x poly, and x^2 - x^n\n",
    "# it will transform x into a new matrix\n",
    "poly_reg = PolynomialFeatures(degree=5)\n",
    "X_poly = poly_reg.fit_transform(X)\n",
    "\n",
    "# create a new linear regression object\n",
    "lin_reg_2 = LinearRegression()\n",
    "lin_reg_2.fit(X_poly,y)"
   ]
  },
  {
   "cell_type": "code",
   "execution_count": 12,
   "metadata": {},
   "outputs": [
    {
     "data": {
      "image/png": "[encoded data removed]",
      "text/plain": [
       "<Figure size 432x288 with 1 Axes>"
      ]
     },
     "metadata": {
      "needs_background": "light"
     },
     "output_type": "display_data"
    }
   ],
   "source": [
    "# Visualizing the linear regression results\n",
    "plt.scatter(X, y, color=\"green\")\n",
    "plt.plot(X, lin_reg.predict(X), color=\"blue\")\n",
    "plt.title(\"Imports by Movement US-MX - Linear\")\n",
    "plt.xlabel(\"Imports\")\n",
    "plt.ylabel(\"Movement\")\n",
    "plt.show()\n",
    "\n",
    "#Insight: linear regression doesn't work well here"
   ]
  },
  {
   "cell_type": "code",
   "execution_count": 39,
   "metadata": {},
   "outputs": [
    {
     "data": {
      "image/png": "[encoded data removed]",
      "text/plain": [
       "<Figure size 432x288 with 1 Axes>"
      ]
     },
     "metadata": {
      "needs_background": "light"
     },
     "output_type": "display_data"
    }
   ],
   "source": [
    "# Visualizing the Polynomial Regression Results\n",
    "plt.scatter(X, y, color=\"green\")\n",
    "plt.plot(X, lin_reg_2.predict(poly_reg.fit_transform(X)), color=\"blue\")\n",
    "plt.title(\"Exports by Movement US-MX - Polynomial\")\n",
    "plt.xlabel(\"Exports\")\n",
    "plt.ylabel(\"Movement\")\n",
    "plt.show()"
   ]
  },
  {
   "cell_type": "code",
   "execution_count": 14,
   "metadata": {},
   "outputs": [
    {
     "data": {
      "text/plain": [
       "count    2.400000e+01\n",
       "mean     2.077727e+11\n",
       "std      8.632668e+10\n",
       "min      7.296319e+10\n",
       "25%      1.357500e+11\n",
       "50%      2.045000e+11\n",
       "75%      2.842500e+11\n",
       "max      3.580000e+11\n",
       "Name: imports, dtype: float64"
      ]
     },
     "execution_count": 14,
     "metadata": {},
     "output_type": "execute_result"
    }
   ],
   "source": [
    "# Predicting the results for the average import levels: 2.07\n",
    "dataset[\"imports\"].describe()"
   ]
  },
  {
   "cell_type": "code",
   "execution_count": 15,
   "metadata": {},
   "outputs": [
    {
     "data": {
      "text/plain": [
       "array([2.44807907e+08])"
      ]
     },
     "execution_count": 15,
     "metadata": {},
     "output_type": "execute_result"
    }
   ],
   "source": [
    "# Linear Option\n",
    "lin_reg.predict([[2.077727e+11]])"
   ]
  },
  {
   "cell_type": "code",
   "execution_count": 16,
   "metadata": {},
   "outputs": [
    {
     "data": {
      "text/plain": [
       "array([3.11393762e+08])"
      ]
     },
     "execution_count": 16,
     "metadata": {},
     "output_type": "execute_result"
    }
   ],
   "source": [
    "# Polynomial Option\n",
    "lin_reg_2.predict(poly_reg.fit_transform([[2.077727e+11]]))"
   ]
  },
  {
   "cell_type": "markdown",
   "metadata": {},
   "source": [
    "## Extracting datapoints from figures"
   ]
  },
  {
   "cell_type": "markdown",
   "metadata": {},
   "source": [
    "#### regression"
   ]
  },
  {
   "cell_type": "code",
   "execution_count": 18,
   "metadata": {},
   "outputs": [
    {
     "name": "stdout",
     "output_type": "stream",
     "text": [
      "[3.60233718e+08 3.54919718e+08 3.51025369e+08 3.46953844e+08\n",
      " 3.29953373e+08 3.39422483e+08 3.43294424e+08 3.45656988e+08\n",
      " 3.37103886e+08 3.27741221e+08 3.11784683e+08 3.06416598e+08\n",
      " 2.88170208e+08 3.23110102e+08 2.88170208e+08 2.53707168e+08\n",
      " 2.47333949e+08 2.50029862e+08 2.64651056e+08 2.53716243e+08\n",
      " 2.47660866e+08 2.54912471e+08 2.95921534e+08 2.71323550e+08]\n"
     ]
    }
   ],
   "source": [
    "# y-coordinate for line plot, regressor\n",
    "poly_pred =  lin_reg_2.predict(poly_reg.fit_transform(X))\n",
    "print(poly_pred)"
   ]
  },
  {
   "cell_type": "code",
   "execution_count": 20,
   "metadata": {},
   "outputs": [
    {
     "data": {
      "text/plain": [
       "[(247333948.87788045,),\n",
       " (247660865.76691002,),\n",
       " (250029862.3666898,),\n",
       " (253707168.30555433,),\n",
       " (253716243.0289656,),\n",
       " (254912470.56843603,),\n",
       " (264651055.87475693,),\n",
       " (271323550.1746001,),\n",
       " (288170208.18756664,),\n",
       " (288170208.18756664,),\n",
       " (295921534.42742705,),\n",
       " (306416598.07566285,),\n",
       " (311784682.6455825,),\n",
       " (323110102.05560833,),\n",
       " (327741221.48519903,),\n",
       " (329953373.0371256,),\n",
       " (337103885.79613113,),\n",
       " (339422482.5917653,),\n",
       " (343294424.3080751,),\n",
       " (345656987.59816945,),\n",
       " (346953843.7472768,),\n",
       " (351025369.31222814,),\n",
       " (354919717.5159156,),\n",
       " (360233718.0649079,)]"
      ]
     },
     "execution_count": 20,
     "metadata": {},
     "output_type": "execute_result"
    }
   ],
   "source": [
    "# Sorting the values\n",
    "sorted(zip(poly_pred))"
   ]
  },
  {
   "cell_type": "code",
   "execution_count": 30,
   "metadata": {},
   "outputs": [
    {
     "name": "stdout",
     "output_type": "stream",
     "text": [
      "[5.46858652e+10 6.83932194e+10 7.53693001e+10 8.13807402e+10\n",
      " 1.00000000e+11 9.05374338e+10 8.60760818e+10 8.31080960e+10\n",
      " 9.30177032e+10 1.02000000e+11 1.15000000e+11 1.19000000e+11\n",
      " 1.32000000e+11 1.06000000e+11 1.32000000e+11 1.60000000e+11\n",
      " 1.75000000e+11 1.82000000e+11 1.93000000e+11 1.86000000e+11\n",
      " 1.77000000e+11 1.87000000e+11 2.04000000e+11 1.96000000e+11]\n"
     ]
    }
   ],
   "source": [
    "# x-coordinate for line plot\n",
    "x_coor = newdf.iloc[:, 0].values\n",
    "print(x_coor)"
   ]
  },
  {
   "cell_type": "code",
   "execution_count": 45,
   "metadata": {},
   "outputs": [
    {
     "name": "stdout",
     "output_type": "stream",
     "text": [
      "[ 54685865249.0 ,\n",
      "[ 68393219447.0 ,\n",
      "[ 75369300051.0 ,\n",
      "[ 81380740167.0 ,\n",
      "[ 100000000000.0 ,\n",
      "[ 90537433805.0 ,\n",
      "[ 86076081837.0 ,\n",
      "[ 83108095962.0 ,\n",
      "[ 93017703250.0 ,\n",
      "[ 102000000000.0 ,\n",
      "[ 115000000000.0 ,\n",
      "[ 119000000000.0 ,\n",
      "[ 132000000000.0 ,\n",
      "[ 106000000000.0 ,\n",
      "[ 132000000000.0 ,\n",
      "[ 160000000000.0 ,\n",
      "[ 175000000000.0 ,\n",
      "[ 182000000000.0 ,\n",
      "[ 193000000000.0 ,\n",
      "[ 186000000000.0 ,\n",
      "[ 177000000000.0 ,\n",
      "[ 187000000000.0 ,\n",
      "[ 204000000000.0 ,\n",
      "[ 196000000000.0 ,\n"
     ]
    }
   ],
   "source": [
    "for x in x_coor:\n",
    "    print(\"[\",x,\",\")"
   ]
  },
  {
   "cell_type": "code",
   "execution_count": 27,
   "metadata": {},
   "outputs": [
    {
     "data": {
      "text/plain": [
       "[(54685865249.0,),\n",
       " (68393219447.0,),\n",
       " (75369300051.0,),\n",
       " (81380740167.0,),\n",
       " (83108095962.0,),\n",
       " (86076081837.0,),\n",
       " (90537433805.0,),\n",
       " (93017703250.0,),\n",
       " (100000000000.0,),\n",
       " (102000000000.0,),\n",
       " (106000000000.0,),\n",
       " (115000000000.0,),\n",
       " (119000000000.0,),\n",
       " (132000000000.0,),\n",
       " (132000000000.0,),\n",
       " (160000000000.0,),\n",
       " (175000000000.0,),\n",
       " (177000000000.0,),\n",
       " (182000000000.0,),\n",
       " (186000000000.0,),\n",
       " (187000000000.0,),\n",
       " (193000000000.0,),\n",
       " (196000000000.0,),\n",
       " (204000000000.0,)]"
      ]
     },
     "execution_count": 27,
     "metadata": {},
     "output_type": "execute_result"
    }
   ],
   "source": [
    "# Sorting and organizing the values\n",
    "sorted(zip(x_coor))"
   ]
  },
  {
   "cell_type": "markdown",
   "metadata": {},
   "source": [
    "##### training dataset\n"
   ]
  },
  {
   "cell_type": "code",
   "execution_count": 34,
   "metadata": {},
   "outputs": [
    {
     "name": "stdout",
     "output_type": "stream",
     "text": [
      "[276751448 348661488 366296614 391959396 392231869 362991511 352870123\n",
      " 343654239 343524676 336990567 327588026 310095754 295921230 264450245\n",
      " 242776894 225541089 232999664 243982227 254746277 267663436 273532405\n",
      " 278703002 283743197 275538145]\n"
     ]
    }
   ],
   "source": [
    "print(y)"
   ]
  },
  {
   "cell_type": "code",
   "execution_count": 41,
   "metadata": {},
   "outputs": [
    {
     "name": "stdout",
     "output_type": "stream",
     "text": [
      "[276751448 348661488 366296614 391959396 392231869 362991511 352870123\n",
      " 343654239 343524676 336990567 327588026 310095754 295921230 264450245\n",
      " 242776894 225541089 232999664 243982227 254746277 267663436 273532405\n",
      " 278703002 283743197 275538145]\n"
     ]
    }
   ],
   "source": [
    "y_coor = newdf.iloc[:, 2].values\n",
    "print(y_coor)"
   ]
  },
  {
   "cell_type": "code",
   "execution_count": 43,
   "metadata": {},
   "outputs": [
    {
     "name": "stdout",
     "output_type": "stream",
     "text": [
      "276751448 ],\n",
      "348661488 ],\n",
      "366296614 ],\n",
      "391959396 ],\n",
      "392231869 ],\n",
      "362991511 ],\n",
      "352870123 ],\n",
      "343654239 ],\n",
      "343524676 ],\n",
      "336990567 ],\n",
      "327588026 ],\n",
      "310095754 ],\n",
      "295921230 ],\n",
      "264450245 ],\n",
      "242776894 ],\n",
      "225541089 ],\n",
      "232999664 ],\n",
      "243982227 ],\n",
      "254746277 ],\n",
      "267663436 ],\n",
      "273532405 ],\n",
      "278703002 ],\n",
      "283743197 ],\n",
      "275538145 ],\n"
     ]
    }
   ],
   "source": [
    "for num in y_coor:\n",
    "        print(num,\"],\")"
   ]
  },
  {
   "cell_type": "code",
   "execution_count": 28,
   "metadata": {},
   "outputs": [
    {
     "data": {
      "text/plain": [
       "[(225541089,),\n",
       " (232999664,),\n",
       " (242776894,),\n",
       " (243982227,),\n",
       " (254746277,),\n",
       " (264450245,),\n",
       " (267663436,),\n",
       " (273532405,),\n",
       " (275538145,),\n",
       " (276751448,),\n",
       " (278703002,),\n",
       " (283743197,),\n",
       " (295921230,),\n",
       " (310095754,),\n",
       " (327588026,),\n",
       " (336990567,),\n",
       " (343524676,),\n",
       " (343654239,),\n",
       " (348661488,),\n",
       " (352870123,),\n",
       " (362991511,),\n",
       " (366296614,),\n",
       " (391959396,),\n",
       " (392231869,)]"
      ]
     },
     "execution_count": 28,
     "metadata": {},
     "output_type": "execute_result"
    }
   ],
   "source": [
    "# y vector is travel from the US-MX border to \n",
    "sorted(zip(y))"
   ]
  },
  {
   "cell_type": "markdown",
   "metadata": {},
   "source": [
    "## Using numpy methods"
   ]
  },
  {
   "cell_type": "code",
   "execution_count": 33,
   "metadata": {},
   "outputs": [
    {
     "data": {
      "text/plain": [
       "array([[5.46858652e+10, 3.60233718e+08],\n",
       "       [6.83932194e+10, 3.54919718e+08],\n",
       "       [7.53693001e+10, 3.51025369e+08],\n",
       "       [8.13807402e+10, 3.46953844e+08],\n",
       "       [1.00000000e+11, 3.29953373e+08],\n",
       "       [9.05374338e+10, 3.39422483e+08],\n",
       "       [8.60760818e+10, 3.43294424e+08],\n",
       "       [8.31080960e+10, 3.45656988e+08],\n",
       "       [9.30177032e+10, 3.37103886e+08],\n",
       "       [1.02000000e+11, 3.27741221e+08],\n",
       "       [1.15000000e+11, 3.11784683e+08],\n",
       "       [1.19000000e+11, 3.06416598e+08],\n",
       "       [1.32000000e+11, 2.88170208e+08],\n",
       "       [1.06000000e+11, 3.23110102e+08],\n",
       "       [1.32000000e+11, 2.88170208e+08],\n",
       "       [1.60000000e+11, 2.53707168e+08],\n",
       "       [1.75000000e+11, 2.47333949e+08],\n",
       "       [1.82000000e+11, 2.50029862e+08],\n",
       "       [1.93000000e+11, 2.64651056e+08],\n",
       "       [1.86000000e+11, 2.53716243e+08],\n",
       "       [1.77000000e+11, 2.47660866e+08],\n",
       "       [1.87000000e+11, 2.54912471e+08],\n",
       "       [2.04000000e+11, 2.95921534e+08],\n",
       "       [1.96000000e+11, 2.71323550e+08]])"
      ]
     },
     "execution_count": 33,
     "metadata": {},
     "output_type": "execute_result"
    },
    {
     "data": {
      "image/png": "[encoded data removed]",
      "text/plain": [
       "<Figure size 432x288 with 1 Axes>"
      ]
     },
     "metadata": {
      "needs_background": "light"
     },
     "output_type": "display_data"
    }
   ],
   "source": [
    "plt.plot(X, lin_reg_2.predict(poly_reg.fit_transform(X)), color=\"blue\")\n",
    "ax = plt.gca()\n",
    "line = ax.lines[0]\n",
    "\n",
    "line.get_xydata()"
   ]
  },
  {
   "cell_type": "code",
   "execution_count": null,
   "metadata": {},
   "outputs": [],
   "source": []
  }
 ],
 "metadata": {
  "kernelspec": {
   "display_name": "Python 3",
   "language": "python",
   "name": "python3"
  },
  "language_info": {
   "codemirror_mode": {
    "name": "ipython",
    "version": 3
   },
   "file_extension": ".py",
   "mimetype": "text/x-python",
   "name": "python",
   "nbconvert_exporter": "python",
   "pygments_lexer": "ipython3",
   "version": "3.7.1"
  }
 },
 "nbformat": 4,
 "nbformat_minor": 2
}
