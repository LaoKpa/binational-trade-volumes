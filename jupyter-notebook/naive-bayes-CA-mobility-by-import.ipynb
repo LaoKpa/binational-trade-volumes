{
 "cells": [
  {
   "cell_type": "markdown",
   "metadata": {},
   "source": [
    "## Can Trade Values Predict the if there will be higher mobility in CA?"
   ]
  },
  {
   "cell_type": "code",
   "execution_count": 1,
   "metadata": {},
   "outputs": [],
   "source": [
    "# Importing the libraries\n",
    "import numpy as np\n",
    "import matplotlib.pyplot as plt\n",
    "import pandas as pd"
   ]
  },
  {
   "cell_type": "code",
   "execution_count": 2,
   "metadata": {},
   "outputs": [],
   "source": [
    "# Import the dataset for mobility\n",
    "mobility = pd.read_csv(\"../data/usitc/border_crossing_entry_data_trade.csv\")"
   ]
  },
  {
   "cell_type": "code",
   "execution_count": 3,
   "metadata": {},
   "outputs": [
    {
     "data": {
      "text/html": [
       "<div>\n",
       "<style scoped>\n",
       "    .dataframe tbody tr th:only-of-type {\n",
       "        vertical-align: middle;\n",
       "    }\n",
       "\n",
       "    .dataframe tbody tr th {\n",
       "        vertical-align: top;\n",
       "    }\n",
       "\n",
       "    .dataframe thead th {\n",
       "        text-align: right;\n",
       "    }\n",
       "</style>\n",
       "<table border=\"1\" class=\"dataframe\">\n",
       "  <thead>\n",
       "    <tr style=\"text-align: right;\">\n",
       "      <th></th>\n",
       "      <th>Port Name</th>\n",
       "      <th>State</th>\n",
       "      <th>Port Code</th>\n",
       "      <th>Border</th>\n",
       "      <th>Date</th>\n",
       "      <th>Measure</th>\n",
       "      <th>Value</th>\n",
       "      <th>imports</th>\n",
       "      <th>exports</th>\n",
       "    </tr>\n",
       "  </thead>\n",
       "  <tbody>\n",
       "    <tr>\n",
       "      <th>0</th>\n",
       "      <td>Alexandria Bay</td>\n",
       "      <td>NY</td>\n",
       "      <td>708</td>\n",
       "      <td>US-Canada Border</td>\n",
       "      <td>12/1/2019 0:00</td>\n",
       "      <td>Bus Passengers</td>\n",
       "      <td>740</td>\n",
       "      <td>NaN</td>\n",
       "      <td>NaN</td>\n",
       "    </tr>\n",
       "    <tr>\n",
       "      <th>1</th>\n",
       "      <td>Baudette</td>\n",
       "      <td>MN</td>\n",
       "      <td>3424</td>\n",
       "      <td>US-Canada Border</td>\n",
       "      <td>12/1/2019 0:00</td>\n",
       "      <td>Bus Passengers</td>\n",
       "      <td>83</td>\n",
       "      <td>NaN</td>\n",
       "      <td>NaN</td>\n",
       "    </tr>\n",
       "    <tr>\n",
       "      <th>2</th>\n",
       "      <td>Blaine</td>\n",
       "      <td>WA</td>\n",
       "      <td>3004</td>\n",
       "      <td>US-Canada Border</td>\n",
       "      <td>12/1/2019 0:00</td>\n",
       "      <td>Bus Passengers</td>\n",
       "      <td>17029</td>\n",
       "      <td>NaN</td>\n",
       "      <td>NaN</td>\n",
       "    </tr>\n",
       "    <tr>\n",
       "      <th>3</th>\n",
       "      <td>Brownsville</td>\n",
       "      <td>TX</td>\n",
       "      <td>2301</td>\n",
       "      <td>US-Mexico Border</td>\n",
       "      <td>12/1/2019 0:00</td>\n",
       "      <td>Bus Passengers</td>\n",
       "      <td>4668</td>\n",
       "      <td>3.580000e+11</td>\n",
       "      <td>1.960000e+11</td>\n",
       "    </tr>\n",
       "    <tr>\n",
       "      <th>4</th>\n",
       "      <td>Buffalo-Niagara Falls</td>\n",
       "      <td>NY</td>\n",
       "      <td>901</td>\n",
       "      <td>US-Canada Border</td>\n",
       "      <td>12/1/2019 0:00</td>\n",
       "      <td>Bus Passengers</td>\n",
       "      <td>9910</td>\n",
       "      <td>NaN</td>\n",
       "      <td>NaN</td>\n",
       "    </tr>\n",
       "  </tbody>\n",
       "</table>\n",
       "</div>"
      ],
      "text/plain": [
       "               Port Name State  Port Code            Border            Date  \\\n",
       "0         Alexandria Bay    NY        708  US-Canada Border  12/1/2019 0:00   \n",
       "1               Baudette    MN       3424  US-Canada Border  12/1/2019 0:00   \n",
       "2                 Blaine    WA       3004  US-Canada Border  12/1/2019 0:00   \n",
       "3            Brownsville    TX       2301  US-Mexico Border  12/1/2019 0:00   \n",
       "4  Buffalo-Niagara Falls    NY        901  US-Canada Border  12/1/2019 0:00   \n",
       "\n",
       "          Measure  Value       imports       exports  \n",
       "0  Bus Passengers    740           NaN           NaN  \n",
       "1  Bus Passengers     83           NaN           NaN  \n",
       "2  Bus Passengers  17029           NaN           NaN  \n",
       "3  Bus Passengers   4668  3.580000e+11  1.960000e+11  \n",
       "4  Bus Passengers   9910           NaN           NaN  "
      ]
     },
     "execution_count": 3,
     "metadata": {},
     "output_type": "execute_result"
    }
   ],
   "source": [
    "mobility.head()"
   ]
  },
  {
   "cell_type": "code",
   "execution_count": 4,
   "metadata": {},
   "outputs": [],
   "source": [
    "# Include only mobility on the US-MX border\n",
    "borderMX = mobility[(mobility['Border']==\"US-Mexico Border\")]"
   ]
  },
  {
   "cell_type": "code",
   "execution_count": 5,
   "metadata": {},
   "outputs": [
    {
     "data": {
      "text/html": [
       "<div>\n",
       "<style scoped>\n",
       "    .dataframe tbody tr th:only-of-type {\n",
       "        vertical-align: middle;\n",
       "    }\n",
       "\n",
       "    .dataframe tbody tr th {\n",
       "        vertical-align: top;\n",
       "    }\n",
       "\n",
       "    .dataframe thead th {\n",
       "        text-align: right;\n",
       "    }\n",
       "</style>\n",
       "<table border=\"1\" class=\"dataframe\">\n",
       "  <thead>\n",
       "    <tr style=\"text-align: right;\">\n",
       "      <th></th>\n",
       "      <th>Port Name</th>\n",
       "      <th>State</th>\n",
       "      <th>Port Code</th>\n",
       "      <th>Border</th>\n",
       "      <th>Date</th>\n",
       "      <th>Measure</th>\n",
       "      <th>Value</th>\n",
       "      <th>imports</th>\n",
       "      <th>exports</th>\n",
       "    </tr>\n",
       "  </thead>\n",
       "  <tbody>\n",
       "    <tr>\n",
       "      <th>3</th>\n",
       "      <td>Brownsville</td>\n",
       "      <td>TX</td>\n",
       "      <td>2301</td>\n",
       "      <td>US-Mexico Border</td>\n",
       "      <td>12/1/2019 0:00</td>\n",
       "      <td>Bus Passengers</td>\n",
       "      <td>4668</td>\n",
       "      <td>3.580000e+11</td>\n",
       "      <td>1.960000e+11</td>\n",
       "    </tr>\n",
       "    <tr>\n",
       "      <th>6</th>\n",
       "      <td>Calexico East</td>\n",
       "      <td>CA</td>\n",
       "      <td>2507</td>\n",
       "      <td>US-Mexico Border</td>\n",
       "      <td>12/1/2019 0:00</td>\n",
       "      <td>Bus Passengers</td>\n",
       "      <td>4080</td>\n",
       "      <td>3.580000e+11</td>\n",
       "      <td>1.960000e+11</td>\n",
       "    </tr>\n",
       "    <tr>\n",
       "      <th>8</th>\n",
       "      <td>Columbus</td>\n",
       "      <td>NM</td>\n",
       "      <td>2406</td>\n",
       "      <td>US-Mexico Border</td>\n",
       "      <td>12/1/2019 0:00</td>\n",
       "      <td>Bus Passengers</td>\n",
       "      <td>1452</td>\n",
       "      <td>3.580000e+11</td>\n",
       "      <td>1.960000e+11</td>\n",
       "    </tr>\n",
       "    <tr>\n",
       "      <th>11</th>\n",
       "      <td>Douglas</td>\n",
       "      <td>AZ</td>\n",
       "      <td>2601</td>\n",
       "      <td>US-Mexico Border</td>\n",
       "      <td>12/1/2019 0:00</td>\n",
       "      <td>Bus Passengers</td>\n",
       "      <td>107</td>\n",
       "      <td>3.580000e+11</td>\n",
       "      <td>1.960000e+11</td>\n",
       "    </tr>\n",
       "    <tr>\n",
       "      <th>13</th>\n",
       "      <td>Eagle Pass</td>\n",
       "      <td>TX</td>\n",
       "      <td>2303</td>\n",
       "      <td>US-Mexico Border</td>\n",
       "      <td>12/1/2019 0:00</td>\n",
       "      <td>Bus Passengers</td>\n",
       "      <td>8525</td>\n",
       "      <td>3.580000e+11</td>\n",
       "      <td>1.960000e+11</td>\n",
       "    </tr>\n",
       "  </tbody>\n",
       "</table>\n",
       "</div>"
      ],
      "text/plain": [
       "        Port Name State  Port Code            Border            Date  \\\n",
       "3     Brownsville    TX       2301  US-Mexico Border  12/1/2019 0:00   \n",
       "6   Calexico East    CA       2507  US-Mexico Border  12/1/2019 0:00   \n",
       "8        Columbus    NM       2406  US-Mexico Border  12/1/2019 0:00   \n",
       "11        Douglas    AZ       2601  US-Mexico Border  12/1/2019 0:00   \n",
       "13     Eagle Pass    TX       2303  US-Mexico Border  12/1/2019 0:00   \n",
       "\n",
       "           Measure  Value       imports       exports  \n",
       "3   Bus Passengers   4668  3.580000e+11  1.960000e+11  \n",
       "6   Bus Passengers   4080  3.580000e+11  1.960000e+11  \n",
       "8   Bus Passengers   1452  3.580000e+11  1.960000e+11  \n",
       "11  Bus Passengers    107  3.580000e+11  1.960000e+11  \n",
       "13  Bus Passengers   8525  3.580000e+11  1.960000e+11  "
      ]
     },
     "execution_count": 5,
     "metadata": {},
     "output_type": "execute_result"
    }
   ],
   "source": [
    "borderMX.head()"
   ]
  },
  {
   "cell_type": "code",
   "execution_count": 6,
   "metadata": {},
   "outputs": [
    {
     "name": "stderr",
     "output_type": "stream",
     "text": [
      "C:\\Users\\nhinojos\\AppData\\Local\\Continuum\\anaconda\\lib\\site-packages\\ipykernel_launcher.py:3: SettingWithCopyWarning: \n",
      "A value is trying to be set on a copy of a slice from a DataFrame.\n",
      "Try using .loc[row_indexer,col_indexer] = value instead\n",
      "\n",
      "See the caveats in the documentation: http://pandas.pydata.org/pandas-docs/stable/indexing.html#indexing-view-versus-copy\n",
      "  This is separate from the ipykernel package so we can avoid doing imports until\n"
     ]
    }
   ],
   "source": [
    "# Extract year and consolidate year\n",
    "import datetime\n",
    "borderMX['year']= pd.DatetimeIndex(borderMX['Date']).year"
   ]
  },
  {
   "cell_type": "markdown",
   "metadata": {},
   "source": [
    "## Encoding the categorial variable"
   ]
  },
  {
   "cell_type": "code",
   "execution_count": 213,
   "metadata": {},
   "outputs": [],
   "source": [
    "df = borderMX[[\"year\",\"State\",\"Port Code\",\"Value\"]].copy()"
   ]
  },
  {
   "cell_type": "code",
   "execution_count": 214,
   "metadata": {},
   "outputs": [
    {
     "name": "stdout",
     "output_type": "stream",
     "text": [
      "[[2019 'TX' 2301 4668]\n",
      " [2019 'CA' 2507 4080]\n",
      " [2019 'NM' 2406 1452]\n",
      " ...\n",
      " [1996 'NM' 2408 4719]\n",
      " [1996 'TX' 2403 645]\n",
      " [1996 'CA' 2505 3228]]\n"
     ]
    }
   ],
   "source": [
    "X1 = df.iloc[:,[0,1,2,3]].values\n",
    "print(X1)"
   ]
  },
  {
   "cell_type": "code",
   "execution_count": 215,
   "metadata": {},
   "outputs": [],
   "source": [
    "# Encoding categorical data\n",
    "# Encoding the independent variable\n",
    "from sklearn.preprocessing import LabelEncoder, OneHotEncoder"
   ]
  },
  {
   "cell_type": "code",
   "execution_count": 216,
   "metadata": {},
   "outputs": [
    {
     "name": "stderr",
     "output_type": "stream",
     "text": [
      "C:\\Users\\nhinojos\\AppData\\Local\\Continuum\\anaconda\\lib\\site-packages\\sklearn\\preprocessing\\_encoders.py:368: FutureWarning: The handling of integer data will change in version 0.22. Currently, the categories are determined based on the range [0, max(values)], while in the future they will be determined based on the unique values.\n",
      "If you want the future behaviour and silence this warning, you can specify \"categories='auto'\".\n",
      "In case you used a LabelEncoder before this OneHotEncoder to convert the categories to integers, then you can now use the OneHotEncoder directly.\n",
      "  warnings.warn(msg, FutureWarning)\n",
      "C:\\Users\\nhinojos\\AppData\\Local\\Continuum\\anaconda\\lib\\site-packages\\sklearn\\preprocessing\\_encoders.py:390: DeprecationWarning: The 'categorical_features' keyword is deprecated in version 0.20 and will be removed in 0.22. You can use the ColumnTransformer instead.\n",
      "  \"use the ColumnTransformer instead.\", DeprecationWarning)\n"
     ]
    }
   ],
   "source": [
    "labelencoder = LabelEncoder()\n",
    "X1[:, 1] = labelencoder.fit_transform(X1[:, 1])\n",
    "onehotencoder = OneHotEncoder(categorical_features = [1])\n",
    "X1 = onehotencoder.fit_transform(X1).toarray()"
   ]
  },
  {
   "cell_type": "code",
   "execution_count": 217,
   "metadata": {},
   "outputs": [
    {
     "name": "stdout",
     "output_type": "stream",
     "text": [
      "(82288, 7)\n"
     ]
    }
   ],
   "source": [
    "# California is Index 1, KEEP\n",
    "print(X1.shape)"
   ]
  },
  {
   "cell_type": "code",
   "execution_count": 218,
   "metadata": {},
   "outputs": [],
   "source": [
    "# Create imports matrix for trade data\n",
    "im = borderMX.iloc[:,[7]].values"
   ]
  },
  {
   "cell_type": "code",
   "execution_count": 219,
   "metadata": {},
   "outputs": [
    {
     "name": "stdout",
     "output_type": "stream",
     "text": [
      "[[3.58000000e+11]\n",
      " [3.58000000e+11]\n",
      " [3.58000000e+11]\n",
      " ...\n",
      " [7.29631894e+10]\n",
      " [7.29631894e+10]\n",
      " [7.29631894e+10]]\n"
     ]
    }
   ],
   "source": [
    "print(im)"
   ]
  },
  {
   "cell_type": "code",
   "execution_count": 220,
   "metadata": {},
   "outputs": [],
   "source": [
    "X1 = np.append(arr=X1, values= im.astype(float),axis=1)"
   ]
  },
  {
   "cell_type": "code",
   "execution_count": 221,
   "metadata": {
    "scrolled": true
   },
   "outputs": [
    {
     "name": "stdout",
     "output_type": "stream",
     "text": [
      "[[0.00000000e+00 0.00000000e+00 0.00000000e+00 ... 2.30100000e+03\n",
      "  4.66800000e+03 3.58000000e+11]\n",
      " [0.00000000e+00 1.00000000e+00 0.00000000e+00 ... 2.50700000e+03\n",
      "  4.08000000e+03 3.58000000e+11]\n",
      " [0.00000000e+00 0.00000000e+00 1.00000000e+00 ... 2.40600000e+03\n",
      "  1.45200000e+03 3.58000000e+11]\n",
      " ...\n",
      " [0.00000000e+00 0.00000000e+00 1.00000000e+00 ... 2.40800000e+03\n",
      "  4.71900000e+03 7.29631894e+10]\n",
      " [0.00000000e+00 0.00000000e+00 0.00000000e+00 ... 2.40300000e+03\n",
      "  6.45000000e+02 7.29631894e+10]\n",
      " [0.00000000e+00 1.00000000e+00 0.00000000e+00 ... 2.50500000e+03\n",
      "  3.22800000e+03 7.29631894e+10]]\n"
     ]
    }
   ],
   "source": [
    "print(X1)"
   ]
  },
  {
   "cell_type": "markdown",
   "metadata": {},
   "source": [
    "## Prepping for Naive Bayes"
   ]
  },
  {
   "cell_type": "code",
   "execution_count": 222,
   "metadata": {},
   "outputs": [
    {
     "name": "stdout",
     "output_type": "stream",
     "text": [
      "[[2.01900000e+03 3.58000000e+11]\n",
      " [2.01900000e+03 3.58000000e+11]\n",
      " [2.01900000e+03 3.58000000e+11]\n",
      " ...\n",
      " [1.99600000e+03 7.29631894e+10]\n",
      " [1.99600000e+03 7.29631894e+10]\n",
      " [1.99600000e+03 7.29631894e+10]]\n"
     ]
    }
   ],
   "source": [
    "# Re-establishing the X matrix:\n",
    "X = X1[:,[4,7]]\n",
    "print(X)"
   ]
  },
  {
   "cell_type": "code",
   "execution_count": 223,
   "metadata": {},
   "outputs": [],
   "source": [
    "y = X1[:,1]"
   ]
  },
  {
   "cell_type": "code",
   "execution_count": 224,
   "metadata": {},
   "outputs": [
    {
     "name": "stdout",
     "output_type": "stream",
     "text": [
      "[0. 1. 0. ... 0. 0. 1.]\n"
     ]
    }
   ],
   "source": [
    "print(y)"
   ]
  },
  {
   "cell_type": "code",
   "execution_count": 225,
   "metadata": {},
   "outputs": [
    {
     "data": {
      "text/plain": [
       "(82288,)"
      ]
     },
     "execution_count": 225,
     "metadata": {},
     "output_type": "execute_result"
    }
   ],
   "source": [
    "y.shape"
   ]
  },
  {
   "cell_type": "code",
   "execution_count": 226,
   "metadata": {},
   "outputs": [
    {
     "data": {
      "text/plain": [
       "(82288, 2)"
      ]
     },
     "execution_count": 226,
     "metadata": {},
     "output_type": "execute_result"
    }
   ],
   "source": [
    "X.shape"
   ]
  },
  {
   "cell_type": "markdown",
   "metadata": {},
   "source": [
    "## Starting Naive Bayes"
   ]
  },
  {
   "cell_type": "code",
   "execution_count": 227,
   "metadata": {},
   "outputs": [],
   "source": [
    "# Splitting the dataset into the Training set and Test set\n",
    "from sklearn.model_selection import train_test_split\n",
    "X_train, X_test, y_train, y_test = train_test_split(X, y, test_size = 0.2, random_state = 0)\n"
   ]
  },
  {
   "cell_type": "code",
   "execution_count": 228,
   "metadata": {},
   "outputs": [],
   "source": [
    "# Feature Scaling\n",
    "from sklearn.preprocessing import StandardScaler\n",
    "sc = StandardScaler()\n",
    "X_train = sc.fit_transform(X_train)\n",
    "X_test = sc.transform(X_test)"
   ]
  },
  {
   "cell_type": "code",
   "execution_count": 229,
   "metadata": {},
   "outputs": [
    {
     "data": {
      "text/plain": [
       "GaussianNB(priors=None, var_smoothing=1e-09)"
      ]
     },
     "execution_count": 229,
     "metadata": {},
     "output_type": "execute_result"
    }
   ],
   "source": [
    "# Fitting Naive Bayes to the Training set\n",
    "from sklearn.naive_bayes import GaussianNB\n",
    "classifier = GaussianNB()\n",
    "classifier.fit(X_train, y_train)"
   ]
  },
  {
   "cell_type": "code",
   "execution_count": 230,
   "metadata": {},
   "outputs": [],
   "source": [
    "# Predicting the Test set results\n",
    "y_pred = classifier.predict(X_test)"
   ]
  },
  {
   "cell_type": "code",
   "execution_count": 231,
   "metadata": {},
   "outputs": [
    {
     "name": "stdout",
     "output_type": "stream",
     "text": [
      "[[12516     0]\n",
      " [ 3942     0]]\n"
     ]
    }
   ],
   "source": [
    "# Making the Confusion Matrix\n",
    "from sklearn.metrics import confusion_matrix\n",
    "cm = confusion_matrix(y_test, y_pred)\n",
    "print(cm)"
   ]
  },
  {
   "cell_type": "code",
   "execution_count": 235,
   "metadata": {},
   "outputs": [
    {
     "name": "stderr",
     "output_type": "stream",
     "text": [
      "'c' argument looks like a single numeric RGB or RGBA sequence, which should be avoided as value-mapping will have precedence in case its length matches with 'x' & 'y'.  Please use a 2-D array with a single row if you really want to specify the same RGB or RGBA value for all points.\n",
      "'c' argument looks like a single numeric RGB or RGBA sequence, which should be avoided as value-mapping will have precedence in case its length matches with 'x' & 'y'.  Please use a 2-D array with a single row if you really want to specify the same RGB or RGBA value for all points.\n"
     ]
    },
    {
     "data": {
      "image/png": "[encoded data removed]",
      "text/plain": [
       "<Figure size 432x288 with 1 Axes>"
      ]
     },
     "metadata": {
      "needs_background": "light"
     },
     "output_type": "display_data"
    }
   ],
   "source": [
    "# Visualizing the Training set results\n",
    "from matplotlib.colors import ListedColormap\n",
    "X_set, y_set = X_train, y_train\n",
    "X1, X2 = np.meshgrid(np.arange(start = X_set[:, 0].min() - 1, stop = X_set[:, 0].max() + 1, step = 0.01),\n",
    "                     np.arange(start = X_set[:, 1].min() - 1, stop = X_set[:, 1].max() + 1, step = 0.01))\n",
    "plt.contourf(X1, X2, classifier.predict(np.array([X1.ravel(), X2.ravel()]).T).reshape(X1.shape),\n",
    "             alpha = 0.75, cmap = ListedColormap(('aqua', 'navy')))\n",
    "plt.xlim(X1.min(), X1.max())\n",
    "plt.ylim(X2.min(), X2.max())\n",
    "for i, j in enumerate(np.unique(y_set)):\n",
    "    plt.scatter(X_set[y_set == j, 0], X_set[y_set == j, 1],\n",
    "                c = ListedColormap(('aqua', 'navy'))(i), label = j)\n",
    "plt.title('Naive Bayes (Training set): California Entrance')\n",
    "plt.xlabel('Year')\n",
    "plt.ylabel('Imports')\n",
    "plt.legend()\n",
    "plt.show()"
   ]
  },
  {
   "cell_type": "code",
   "execution_count": 234,
   "metadata": {},
   "outputs": [
    {
     "name": "stderr",
     "output_type": "stream",
     "text": [
      "'c' argument looks like a single numeric RGB or RGBA sequence, which should be avoided as value-mapping will have precedence in case its length matches with 'x' & 'y'.  Please use a 2-D array with a single row if you really want to specify the same RGB or RGBA value for all points.\n",
      "'c' argument looks like a single numeric RGB or RGBA sequence, which should be avoided as value-mapping will have precedence in case its length matches with 'x' & 'y'.  Please use a 2-D array with a single row if you really want to specify the same RGB or RGBA value for all points.\n"
     ]
    },
    {
     "data": {
      "image/png": "[encoded data removed]",
      "text/plain": [
       "<Figure size 432x288 with 1 Axes>"
      ]
     },
     "metadata": {
      "needs_background": "light"
     },
     "output_type": "display_data"
    }
   ],
   "source": [
    "\n",
    "# Visualising the Test set results\n",
    "from matplotlib.colors import ListedColormap\n",
    "X_set, y_set = X_test, y_test\n",
    "X1, X2 = np.meshgrid(np.arange(start = X_set[:, 0].min() - 1, stop = X_set[:, 0].max() + 1, step = 0.01),\n",
    "                      np.arange(start = X_set[:, 1].min() - 1, stop = X_set[:, 1].max() + 1, step = 0.01))\n",
    "plt.contourf(X1, X2, classifier.predict(np.array([X1.ravel(), X2.ravel()]).T).reshape(X1.shape),\n",
    "             alpha = 0.75, cmap = ListedColormap(('aqua', 'navy')))\n",
    "plt.xlim(X1.min(), X1.max())\n",
    "plt.ylim(X2.min(), X2.max())\n",
    "for i, j in enumerate(np.unique(y_set)):\n",
    "    plt.scatter(X_set[y_set == j, 0], X_set[y_set == j, 1],\n",
    "                c = ListedColormap(('aqua', 'navy'))(i), label = j)\n",
    "plt.title('Naive Bayes (Test set) - California Entrance')\n",
    "plt.xlabel('Year')\n",
    "plt.ylabel('Imports')\n",
    "plt.legend()\n",
    "plt.show()"
   ]
  },
  {
   "cell_type": "code",
   "execution_count": null,
   "metadata": {},
   "outputs": [],
   "source": []
  }
 ],
 "metadata": {
  "kernelspec": {
   "display_name": "Python 3",
   "language": "python",
   "name": "python3"
  },
  "language_info": {
   "codemirror_mode": {
    "name": "ipython",
    "version": 3
   },
   "file_extension": ".py",
   "mimetype": "text/x-python",
   "name": "python",
   "nbconvert_exporter": "python",
   "pygments_lexer": "ipython3",
   "version": "3.7.1"
  }
 },
 "nbformat": 4,
 "nbformat_minor": 2
}
