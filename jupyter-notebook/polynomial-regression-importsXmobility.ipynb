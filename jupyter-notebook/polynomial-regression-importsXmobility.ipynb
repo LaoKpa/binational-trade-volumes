{
 "cells": [
  {
   "cell_type": "markdown",
   "metadata": {},
   "source": [
    "## Polynomial Regression"
   ]
  },
  {
   "cell_type": "code",
   "execution_count": 1,
   "metadata": {},
   "outputs": [],
   "source": [
    "# Importing the libraries\n",
    "import numpy as np\n",
    "import matplotlib.pyplot as plt\n",
    "import pandas as pd"
   ]
  },
  {
   "cell_type": "code",
   "execution_count": 2,
   "metadata": {},
   "outputs": [
    {
     "data": {
      "text/plain": [
       "(24, 5)"
      ]
     },
     "execution_count": 2,
     "metadata": {},
     "output_type": "execute_result"
    }
   ],
   "source": [
    "dataset = pd.read_csv('./data/usitc/tradeVariables-mxcan.csv')\n",
    "dataset.shape"
   ]
  },
  {
   "cell_type": "code",
   "execution_count": 3,
   "metadata": {},
   "outputs": [
    {
     "data": {
      "text/html": [
       "<div>\n",
       "<style scoped>\n",
       "    .dataframe tbody tr th:only-of-type {\n",
       "        vertical-align: middle;\n",
       "    }\n",
       "\n",
       "    .dataframe tbody tr th {\n",
       "        vertical-align: top;\n",
       "    }\n",
       "\n",
       "    .dataframe thead th {\n",
       "        text-align: right;\n",
       "    }\n",
       "</style>\n",
       "<table border=\"1\" class=\"dataframe\">\n",
       "  <thead>\n",
       "    <tr style=\"text-align: right;\">\n",
       "      <th></th>\n",
       "      <th>year</th>\n",
       "      <th>exports</th>\n",
       "      <th>imports</th>\n",
       "      <th>travel_mx</th>\n",
       "      <th>travel_can</th>\n",
       "    </tr>\n",
       "  </thead>\n",
       "  <tbody>\n",
       "    <tr>\n",
       "      <th>0</th>\n",
       "      <td>1996</td>\n",
       "      <td>5.468587e+10</td>\n",
       "      <td>7.296319e+10</td>\n",
       "      <td>276751448</td>\n",
       "      <td>153038903</td>\n",
       "    </tr>\n",
       "    <tr>\n",
       "      <th>1</th>\n",
       "      <td>1997</td>\n",
       "      <td>6.839322e+10</td>\n",
       "      <td>8.587234e+10</td>\n",
       "      <td>348661488</td>\n",
       "      <td>145512710</td>\n",
       "    </tr>\n",
       "    <tr>\n",
       "      <th>2</th>\n",
       "      <td>1998</td>\n",
       "      <td>7.536930e+10</td>\n",
       "      <td>9.470867e+10</td>\n",
       "      <td>366296614</td>\n",
       "      <td>142291790</td>\n",
       "    </tr>\n",
       "    <tr>\n",
       "      <th>3</th>\n",
       "      <td>1999</td>\n",
       "      <td>8.138074e+10</td>\n",
       "      <td>1.100000e+11</td>\n",
       "      <td>391959396</td>\n",
       "      <td>146497328</td>\n",
       "    </tr>\n",
       "    <tr>\n",
       "      <th>4</th>\n",
       "      <td>2000</td>\n",
       "      <td>1.000000e+11</td>\n",
       "      <td>1.360000e+11</td>\n",
       "      <td>392231869</td>\n",
       "      <td>147789673</td>\n",
       "    </tr>\n",
       "  </tbody>\n",
       "</table>\n",
       "</div>"
      ],
      "text/plain": [
       "   year       exports       imports  travel_mx  travel_can\n",
       "0  1996  5.468587e+10  7.296319e+10  276751448   153038903\n",
       "1  1997  6.839322e+10  8.587234e+10  348661488   145512710\n",
       "2  1998  7.536930e+10  9.470867e+10  366296614   142291790\n",
       "3  1999  8.138074e+10  1.100000e+11  391959396   146497328\n",
       "4  2000  1.000000e+11  1.360000e+11  392231869   147789673"
      ]
     },
     "execution_count": 3,
     "metadata": {},
     "output_type": "execute_result"
    }
   ],
   "source": [
    "dataset.head()"
   ]
  },
  {
   "cell_type": "code",
   "execution_count": 6,
   "metadata": {},
   "outputs": [],
   "source": [
    "# Matrix of independent variables should include imports\n",
    "# Vector of dependent variables should include travel_mx\n",
    "X = dataset.iloc[:, 2:3].values\n",
    "y = dataset.iloc[:, 3].values"
   ]
  },
  {
   "cell_type": "code",
   "execution_count": 8,
   "metadata": {
    "scrolled": true
   },
   "outputs": [
    {
     "name": "stdout",
     "output_type": "stream",
     "text": [
      "[[7.29631894e+10]\n",
      " [8.58723447e+10]\n",
      " [9.47086660e+10]\n",
      " [1.10000000e+11]\n",
      " [1.36000000e+11]\n",
      " [1.31000000e+11]\n",
      " [1.35000000e+11]\n",
      " [1.38000000e+11]\n",
      " [1.56000000e+11]\n",
      " [1.70000000e+11]\n",
      " [1.98000000e+11]\n",
      " [2.11000000e+11]\n",
      " [2.16000000e+11]\n",
      " [1.77000000e+11]\n",
      " [2.30000000e+11]\n",
      " [2.63000000e+11]\n",
      " [2.78000000e+11]\n",
      " [2.81000000e+11]\n",
      " [2.96000000e+11]\n",
      " [2.96000000e+11]\n",
      " [2.94000000e+11]\n",
      " [3.13000000e+11]\n",
      " [3.46000000e+11]\n",
      " [3.58000000e+11]]\n",
      "[276751448 348661488 366296614 391959396 392231869 362991511 352870123\n",
      " 343654239 343524676 336990567 327588026 310095754 295921230 264450245\n",
      " 242776894 225541089 232999664 243982227 254746277 267663436 273532405\n",
      " 278703002 283743197 275538145]\n"
     ]
    }
   ],
   "source": [
    "print(X)\n",
    "print(y)"
   ]
  },
  {
   "cell_type": "code",
   "execution_count": 9,
   "metadata": {},
   "outputs": [],
   "source": [
    "## Split the dataset into the training set and the test set\n",
    "from sklearn.model_selection import train_test_split\n",
    "X_train, X_test, y_train, y_test = train_test_split(X, y, test_size = 0.2, random_state = 0)\n"
   ]
  },
  {
   "cell_type": "code",
   "execution_count": 10,
   "metadata": {},
   "outputs": [
    {
     "data": {
      "text/plain": [
       "LinearRegression(copy_X=True, fit_intercept=True, n_jobs=None,\n",
       "         normalize=False)"
      ]
     },
     "execution_count": 10,
     "metadata": {},
     "output_type": "execute_result"
    }
   ],
   "source": [
    "# Fitting linear regression to the dataset\n",
    "from sklearn.linear_model import LinearRegression\n",
    "lin_reg = LinearRegression()\n",
    "lin_reg.fit(X_train,y_train)"
   ]
  },
  {
   "cell_type": "code",
   "execution_count": 31,
   "metadata": {},
   "outputs": [
    {
     "data": {
      "text/plain": [
       "LinearRegression(copy_X=True, fit_intercept=True, n_jobs=None,\n",
       "         normalize=False)"
      ]
     },
     "execution_count": 31,
     "metadata": {},
     "output_type": "execute_result"
    }
   ],
   "source": [
    "# Fitting polynomial regression to the dataset\n",
    "# Note the new class that will be imported\n",
    "from sklearn.preprocessing import PolynomialFeatures\n",
    "\n",
    "# New matrix of features, x poly, and x^2 - x^n\n",
    "# It will transform x into a new matrix\n",
    "poly_reg = PolynomialFeatures(degree=6)\n",
    "X_poly = poly_reg.fit_transform(X)\n",
    "\n",
    "# Create a new linear regression object\n",
    "lin_reg_2 = LinearRegression()\n",
    "lin_reg_2.fit(X_poly,y)"
   ]
  },
  {
   "cell_type": "markdown",
   "metadata": {},
   "source": [
    "### Visualization"
   ]
  },
  {
   "cell_type": "code",
   "execution_count": 13,
   "metadata": {},
   "outputs": [
    {
     "data": {
      "image/png": "[encoded data removed]",
      "text/plain": [
       "<Figure size 432x288 with 1 Axes>"
      ]
     },
     "metadata": {
      "needs_background": "light"
     },
     "output_type": "display_data"
    }
   ],
   "source": [
    "# Visualizing the linear regression results\n",
    "plt.scatter(X_train, y_train, color=\"green\")\n",
    "plt.plot(X_train, lin_reg.predict(X_train), color=\"blue\")\n",
    "plt.title(\"Imports by Movement US-MX - Linear\")\n",
    "plt.xlabel(\"Imports\")\n",
    "plt.ylabel(\"Movement\")\n",
    "plt.show()\n",
    "\n",
    "#Insight: linear regression doesn't work well here"
   ]
  },
  {
   "cell_type": "code",
   "execution_count": 32,
   "metadata": {},
   "outputs": [
    {
     "data": {
      "image/png": "[encoded data removed]",
      "text/plain": [
       "<Figure size 432x288 with 1 Axes>"
      ]
     },
     "metadata": {
      "needs_background": "light"
     },
     "output_type": "display_data"
    }
   ],
   "source": [
    "# Visualizing the Polynomial Regression Results\n",
    "plt.scatter(X, y, color=\"green\")\n",
    "plt.plot(X, lin_reg_2.predict(poly_reg.fit_transform(X)), color=\"blue\")\n",
    "plt.title(\"Imports by Movement US-MX - Polynomial\")\n",
    "plt.xlabel(\"Imports\")\n",
    "plt.ylabel(\"Movement\")\n",
    "plt.show()"
   ]
  },
  {
   "cell_type": "markdown",
   "metadata": {},
   "source": [
    "## Extracting the datapoints"
   ]
  },
  {
   "cell_type": "code",
   "execution_count": 33,
   "metadata": {},
   "outputs": [
    {
     "data": {
      "text/plain": [
       "array([[7.29631894e+10, 3.47088645e+08],\n",
       "       [8.58723447e+10, 3.46662229e+08],\n",
       "       [9.47086660e+10, 3.46200719e+08],\n",
       "       [1.10000000e+11, 3.44949478e+08],\n",
       "       [1.36000000e+11, 3.40935414e+08],\n",
       "       [1.31000000e+11, 3.41934191e+08],\n",
       "       [1.35000000e+11, 3.41144930e+08],\n",
       "       [1.38000000e+11, 3.40501276e+08],\n",
       "       [1.56000000e+11, 3.35608407e+08],\n",
       "       [1.70000000e+11, 3.30432687e+08],\n",
       "       [1.98000000e+11, 3.16046581e+08],\n",
       "       [2.11000000e+11, 3.07528799e+08],\n",
       "       [2.16000000e+11, 3.03969150e+08],\n",
       "       [1.77000000e+11, 3.27351630e+08],\n",
       "       [2.30000000e+11, 2.93295578e+08],\n",
       "       [2.63000000e+11, 2.66313233e+08],\n",
       "       [2.78000000e+11, 2.55218376e+08],\n",
       "       [2.81000000e+11, 2.53264394e+08],\n",
       "       [2.96000000e+11, 2.45599989e+08],\n",
       "       [2.96000000e+11, 2.45599989e+08],\n",
       "       [2.94000000e+11, 2.46377548e+08],\n",
       "       [3.13000000e+11, 2.43219827e+08],\n",
       "       [3.46000000e+11, 2.72893179e+08],\n",
       "       [3.58000000e+11, 3.01077272e+08]])"
      ]
     },
     "execution_count": 33,
     "metadata": {},
     "output_type": "execute_result"
    },
    {
     "data": {
      "image/png": "[encoded data removed]",
      "text/plain": [
       "<Figure size 432x288 with 1 Axes>"
      ]
     },
     "metadata": {
      "needs_background": "light"
     },
     "output_type": "display_data"
    }
   ],
   "source": [
    "# Regression\n",
    "plt.plot(X, lin_reg_2.predict(poly_reg.fit_transform(X)), color=\"blue\")\n",
    "ax = plt.gca() # get axis handle\n",
    "line = ax.lines[0] # get the first line, there might be more\n",
    "\n",
    "line.get_xydata()"
   ]
  },
  {
   "cell_type": "code",
   "execution_count": 34,
   "metadata": {},
   "outputs": [
    {
     "name": "stdout",
     "output_type": "stream",
     "text": [
      "[[7.29631894e+10]\n",
      " [8.58723447e+10]\n",
      " [9.47086660e+10]\n",
      " [1.10000000e+11]\n",
      " [1.36000000e+11]\n",
      " [1.31000000e+11]\n",
      " [1.35000000e+11]\n",
      " [1.38000000e+11]\n",
      " [1.56000000e+11]\n",
      " [1.70000000e+11]\n",
      " [1.98000000e+11]\n",
      " [2.11000000e+11]\n",
      " [2.16000000e+11]\n",
      " [1.77000000e+11]\n",
      " [2.30000000e+11]\n",
      " [2.63000000e+11]\n",
      " [2.78000000e+11]\n",
      " [2.81000000e+11]\n",
      " [2.96000000e+11]\n",
      " [2.96000000e+11]\n",
      " [2.94000000e+11]\n",
      " [3.13000000e+11]\n",
      " [3.46000000e+11]\n",
      " [3.58000000e+11]]\n"
     ]
    }
   ],
   "source": [
    "print(X)"
   ]
  },
  {
   "cell_type": "code",
   "execution_count": 35,
   "metadata": {},
   "outputs": [
    {
     "name": "stdout",
     "output_type": "stream",
     "text": [
      "[276751448 348661488 366296614 391959396 392231869 362991511 352870123\n",
      " 343654239 343524676 336990567 327588026 310095754 295921230 264450245\n",
      " 242776894 225541089 232999664 243982227 254746277 267663436 273532405\n",
      " 278703002 283743197 275538145]\n"
     ]
    }
   ],
   "source": [
    "print(y)"
   ]
  },
  {
   "cell_type": "code",
   "execution_count": 36,
   "metadata": {},
   "outputs": [
    {
     "name": "stdout",
     "output_type": "stream",
     "text": [
      "[276751448 348661488 366296614 391959396 392231869 362991511 352870123\n",
      " 343654239 343524676 336990567 327588026 310095754 295921230 264450245\n",
      " 242776894 225541089 232999664 243982227 254746277 267663436 273532405\n",
      " 278703002 283743197 275538145]\n"
     ]
    }
   ],
   "source": [
    "y_coor = y\n",
    "print(y_coor)"
   ]
  },
  {
   "cell_type": "code",
   "execution_count": 37,
   "metadata": {},
   "outputs": [
    {
     "name": "stdout",
     "output_type": "stream",
     "text": [
      "276751448\n",
      "348661488\n",
      "366296614\n",
      "391959396\n",
      "392231869\n",
      "362991511\n",
      "352870123\n",
      "343654239\n",
      "343524676\n",
      "336990567\n",
      "327588026\n",
      "310095754\n",
      "295921230\n",
      "264450245\n",
      "242776894\n",
      "225541089\n",
      "232999664\n",
      "243982227\n",
      "254746277\n",
      "267663436\n",
      "273532405\n",
      "278703002\n",
      "283743197\n",
      "275538145\n"
     ]
    }
   ],
   "source": [
    "for y in y_coor:\n",
    "    print(y)"
   ]
  },
  {
   "cell_type": "code",
   "execution_count": null,
   "metadata": {},
   "outputs": [],
   "source": []
  }
 ],
 "metadata": {
  "kernelspec": {
   "display_name": "Python 3",
   "language": "python",
   "name": "python3"
  },
  "language_info": {
   "codemirror_mode": {
    "name": "ipython",
    "version": 3
   },
   "file_extension": ".py",
   "mimetype": "text/x-python",
   "name": "python",
   "nbconvert_exporter": "python",
   "pygments_lexer": "ipython3",
   "version": "3.7.1"
  }
 },
 "nbformat": 4,
 "nbformat_minor": 2
}
