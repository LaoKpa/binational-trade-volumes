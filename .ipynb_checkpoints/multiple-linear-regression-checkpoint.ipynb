{
 "cells": [
  {
   "cell_type": "markdown",
   "metadata": {},
   "source": [
    "## Multiple Linear Regression for the Linear Variables in the trade variables dataset"
   ]
  },
  {
   "cell_type": "code",
   "execution_count": 1,
   "metadata": {},
   "outputs": [],
   "source": [
    "# Importing the libraries\n",
    "import numpy as np\n",
    "import matplotlib.pyplot as plt\n",
    "import pandas as pd"
   ]
  },
  {
   "cell_type": "code",
   "execution_count": 3,
   "metadata": {},
   "outputs": [
    {
     "data": {
      "text/html": [
       "<div>\n",
       "<style scoped>\n",
       "    .dataframe tbody tr th:only-of-type {\n",
       "        vertical-align: middle;\n",
       "    }\n",
       "\n",
       "    .dataframe tbody tr th {\n",
       "        vertical-align: top;\n",
       "    }\n",
       "\n",
       "    .dataframe thead th {\n",
       "        text-align: right;\n",
       "    }\n",
       "</style>\n",
       "<table border=\"1\" class=\"dataframe\">\n",
       "  <thead>\n",
       "    <tr style=\"text-align: right;\">\n",
       "      <th></th>\n",
       "      <th>year</th>\n",
       "      <th>exports</th>\n",
       "      <th>imports</th>\n",
       "      <th>travel_mx</th>\n",
       "      <th>travel_can</th>\n",
       "    </tr>\n",
       "  </thead>\n",
       "  <tbody>\n",
       "    <tr>\n",
       "      <th>0</th>\n",
       "      <td>1996</td>\n",
       "      <td>5.468587e+10</td>\n",
       "      <td>7.296319e+10</td>\n",
       "      <td>276751448</td>\n",
       "      <td>153038903</td>\n",
       "    </tr>\n",
       "    <tr>\n",
       "      <th>1</th>\n",
       "      <td>1997</td>\n",
       "      <td>6.839322e+10</td>\n",
       "      <td>8.587234e+10</td>\n",
       "      <td>348661488</td>\n",
       "      <td>145512710</td>\n",
       "    </tr>\n",
       "    <tr>\n",
       "      <th>2</th>\n",
       "      <td>1998</td>\n",
       "      <td>7.536930e+10</td>\n",
       "      <td>9.470867e+10</td>\n",
       "      <td>366296614</td>\n",
       "      <td>142291790</td>\n",
       "    </tr>\n",
       "    <tr>\n",
       "      <th>3</th>\n",
       "      <td>1999</td>\n",
       "      <td>8.138074e+10</td>\n",
       "      <td>1.100000e+11</td>\n",
       "      <td>391959396</td>\n",
       "      <td>146497328</td>\n",
       "    </tr>\n",
       "    <tr>\n",
       "      <th>4</th>\n",
       "      <td>2000</td>\n",
       "      <td>1.000000e+11</td>\n",
       "      <td>1.360000e+11</td>\n",
       "      <td>392231869</td>\n",
       "      <td>147789673</td>\n",
       "    </tr>\n",
       "  </tbody>\n",
       "</table>\n",
       "</div>"
      ],
      "text/plain": [
       "   year       exports       imports  travel_mx  travel_can\n",
       "0  1996  5.468587e+10  7.296319e+10  276751448   153038903\n",
       "1  1997  6.839322e+10  8.587234e+10  348661488   145512710\n",
       "2  1998  7.536930e+10  9.470867e+10  366296614   142291790\n",
       "3  1999  8.138074e+10  1.100000e+11  391959396   146497328\n",
       "4  2000  1.000000e+11  1.360000e+11  392231869   147789673"
      ]
     },
     "execution_count": 3,
     "metadata": {},
     "output_type": "execute_result"
    }
   ],
   "source": [
    "# Importing the dataset\n",
    "dataset = pd.read_csv('./data/usitc/tradeVariables-mxcan.csv')\n",
    "dataset.head()"
   ]
  },
  {
   "cell_type": "code",
   "execution_count": 4,
   "metadata": {},
   "outputs": [],
   "source": [
    "X = dataset.iloc[:, :-3].values\n",
    "y = dataset.iloc[:, 2].values"
   ]
  },
  {
   "cell_type": "code",
   "execution_count": 7,
   "metadata": {},
   "outputs": [],
   "source": [
    "# Split the dataset into the Training set and Test set\n",
    "from sklearn.model_selection import train_test_split\n",
    "X_train, X_test, y_train, y_test = train_test_split(X, y, test_size = 0.2, random_state = 0)\n"
   ]
  },
  {
   "cell_type": "code",
   "execution_count": 9,
   "metadata": {},
   "outputs": [
    {
     "data": {
      "text/plain": [
       "LinearRegression(copy_X=True, fit_intercept=True, n_jobs=None,\n",
       "         normalize=False)"
      ]
     },
     "execution_count": 9,
     "metadata": {},
     "output_type": "execute_result"
    }
   ],
   "source": [
    "# Fit Multiple Lear Regression to the Training Set\n",
    "from sklearn.linear_model import LinearRegression\n",
    "# Create regressor object of the linear regression class\n",
    "regressor = LinearRegression()\n",
    "# Fit the multple linear regressor to the training set\n",
    "# Very similar to the simple linear regression\n",
    "regressor.fit(X_train,y_train)"
   ]
  },
  {
   "cell_type": "code",
   "execution_count": 11,
   "metadata": {},
   "outputs": [],
   "source": [
    "# Test the performance of the multiple linear regression model to the test set\n",
    "# Prediction of the test set results\n",
    "# Creating the vector of predictions\n",
    "y_pred = regressor.predict(X_test) #X_test includes the matrix of independent variables\n",
    "\n"
   ]
  },
  {
   "cell_type": "code",
   "execution_count": 16,
   "metadata": {},
   "outputs": [
    {
     "name": "stdout",
     "output_type": "stream",
     "text": [
      "[1.93952201e+11 1.84202592e+11 3.38863104e+11 2.24119691e+11\n",
      " 3.01909278e+11]\n"
     ]
    }
   ],
   "source": [
    "# Contains the real numbers for exports\n",
    "print(y_pred)"
   ]
  },
  {
   "cell_type": "code",
   "execution_count": 15,
   "metadata": {},
   "outputs": [
    {
     "name": "stdout",
     "output_type": "stream",
     "text": [
      "[2.11e+11 1.98e+11 3.46e+11 2.30e+11 2.94e+11]\n"
     ]
    }
   ],
   "source": [
    "# Contains the real numbers for imports\n",
    "print(y_test)"
   ]
  }
 ],
 "metadata": {
  "kernelspec": {
   "display_name": "Python 3",
   "language": "python",
   "name": "python3"
  },
  "language_info": {
   "codemirror_mode": {
    "name": "ipython",
    "version": 3
   },
   "file_extension": ".py",
   "mimetype": "text/x-python",
   "name": "python",
   "nbconvert_exporter": "python",
   "pygments_lexer": "ipython3",
   "version": "3.7.1"
  }
 },
 "nbformat": 4,
 "nbformat_minor": 2
}
