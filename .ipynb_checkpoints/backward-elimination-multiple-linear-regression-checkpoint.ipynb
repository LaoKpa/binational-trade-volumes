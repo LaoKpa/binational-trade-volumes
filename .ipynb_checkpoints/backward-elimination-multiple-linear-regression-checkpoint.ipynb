{
 "cells": [
  {
   "cell_type": "markdown",
   "metadata": {},
   "source": [
    "## Multiple Linear Regression Determining p-values and Adjusted R2"
   ]
  },
  {
   "cell_type": "code",
   "execution_count": 1,
   "metadata": {},
   "outputs": [],
   "source": [
    "# Importing the libraries\n",
    "import numpy as np\n",
    "import matplotlib.pyplot as plt\n",
    "import pandas as pd"
   ]
  },
  {
   "cell_type": "code",
   "execution_count": 2,
   "metadata": {},
   "outputs": [
    {
     "data": {
      "text/html": [
       "<div>\n",
       "<style scoped>\n",
       "    .dataframe tbody tr th:only-of-type {\n",
       "        vertical-align: middle;\n",
       "    }\n",
       "\n",
       "    .dataframe tbody tr th {\n",
       "        vertical-align: top;\n",
       "    }\n",
       "\n",
       "    .dataframe thead th {\n",
       "        text-align: right;\n",
       "    }\n",
       "</style>\n",
       "<table border=\"1\" class=\"dataframe\">\n",
       "  <thead>\n",
       "    <tr style=\"text-align: right;\">\n",
       "      <th></th>\n",
       "      <th>year</th>\n",
       "      <th>exports</th>\n",
       "      <th>imports</th>\n",
       "      <th>travel_mx</th>\n",
       "      <th>travel_can</th>\n",
       "    </tr>\n",
       "  </thead>\n",
       "  <tbody>\n",
       "    <tr>\n",
       "      <th>0</th>\n",
       "      <td>1996</td>\n",
       "      <td>5.468587e+10</td>\n",
       "      <td>7.296319e+10</td>\n",
       "      <td>276751448</td>\n",
       "      <td>153038903</td>\n",
       "    </tr>\n",
       "    <tr>\n",
       "      <th>1</th>\n",
       "      <td>1997</td>\n",
       "      <td>6.839322e+10</td>\n",
       "      <td>8.587234e+10</td>\n",
       "      <td>348661488</td>\n",
       "      <td>145512710</td>\n",
       "    </tr>\n",
       "    <tr>\n",
       "      <th>2</th>\n",
       "      <td>1998</td>\n",
       "      <td>7.536930e+10</td>\n",
       "      <td>9.470867e+10</td>\n",
       "      <td>366296614</td>\n",
       "      <td>142291790</td>\n",
       "    </tr>\n",
       "    <tr>\n",
       "      <th>3</th>\n",
       "      <td>1999</td>\n",
       "      <td>8.138074e+10</td>\n",
       "      <td>1.100000e+11</td>\n",
       "      <td>391959396</td>\n",
       "      <td>146497328</td>\n",
       "    </tr>\n",
       "    <tr>\n",
       "      <th>4</th>\n",
       "      <td>2000</td>\n",
       "      <td>1.000000e+11</td>\n",
       "      <td>1.360000e+11</td>\n",
       "      <td>392231869</td>\n",
       "      <td>147789673</td>\n",
       "    </tr>\n",
       "  </tbody>\n",
       "</table>\n",
       "</div>"
      ],
      "text/plain": [
       "   year       exports       imports  travel_mx  travel_can\n",
       "0  1996  5.468587e+10  7.296319e+10  276751448   153038903\n",
       "1  1997  6.839322e+10  8.587234e+10  348661488   145512710\n",
       "2  1998  7.536930e+10  9.470867e+10  366296614   142291790\n",
       "3  1999  8.138074e+10  1.100000e+11  391959396   146497328\n",
       "4  2000  1.000000e+11  1.360000e+11  392231869   147789673"
      ]
     },
     "execution_count": 2,
     "metadata": {},
     "output_type": "execute_result"
    }
   ],
   "source": [
    "# Importing the dataset\n",
    "dataset = pd.read_csv('./data/usitc/tradeVariables-mxcan.csv')\n",
    "dataset.head()"
   ]
  },
  {
   "cell_type": "code",
   "execution_count": 3,
   "metadata": {},
   "outputs": [
    {
     "data": {
      "text/plain": [
       "(24, 2)"
      ]
     },
     "execution_count": 3,
     "metadata": {},
     "output_type": "execute_result"
    }
   ],
   "source": [
    "variablesMX = dataset[[\"exports\",\"imports\"]].copy()\n",
    "variablesMX.shape"
   ]
  },
  {
   "cell_type": "code",
   "execution_count": 4,
   "metadata": {},
   "outputs": [
    {
     "data": {
      "text/html": [
       "<div>\n",
       "<style scoped>\n",
       "    .dataframe tbody tr th:only-of-type {\n",
       "        vertical-align: middle;\n",
       "    }\n",
       "\n",
       "    .dataframe tbody tr th {\n",
       "        vertical-align: top;\n",
       "    }\n",
       "\n",
       "    .dataframe thead th {\n",
       "        text-align: right;\n",
       "    }\n",
       "</style>\n",
       "<table border=\"1\" class=\"dataframe\">\n",
       "  <thead>\n",
       "    <tr style=\"text-align: right;\">\n",
       "      <th></th>\n",
       "      <th>exports</th>\n",
       "      <th>imports</th>\n",
       "    </tr>\n",
       "  </thead>\n",
       "  <tbody>\n",
       "    <tr>\n",
       "      <th>0</th>\n",
       "      <td>5.468587e+10</td>\n",
       "      <td>7.296319e+10</td>\n",
       "    </tr>\n",
       "    <tr>\n",
       "      <th>1</th>\n",
       "      <td>6.839322e+10</td>\n",
       "      <td>8.587234e+10</td>\n",
       "    </tr>\n",
       "    <tr>\n",
       "      <th>2</th>\n",
       "      <td>7.536930e+10</td>\n",
       "      <td>9.470867e+10</td>\n",
       "    </tr>\n",
       "    <tr>\n",
       "      <th>3</th>\n",
       "      <td>8.138074e+10</td>\n",
       "      <td>1.100000e+11</td>\n",
       "    </tr>\n",
       "    <tr>\n",
       "      <th>4</th>\n",
       "      <td>1.000000e+11</td>\n",
       "      <td>1.360000e+11</td>\n",
       "    </tr>\n",
       "  </tbody>\n",
       "</table>\n",
       "</div>"
      ],
      "text/plain": [
       "        exports       imports\n",
       "0  5.468587e+10  7.296319e+10\n",
       "1  6.839322e+10  8.587234e+10\n",
       "2  7.536930e+10  9.470867e+10\n",
       "3  8.138074e+10  1.100000e+11\n",
       "4  1.000000e+11  1.360000e+11"
      ]
     },
     "execution_count": 4,
     "metadata": {},
     "output_type": "execute_result"
    }
   ],
   "source": [
    "variablesMX.head()"
   ]
  },
  {
   "cell_type": "code",
   "execution_count": 5,
   "metadata": {},
   "outputs": [],
   "source": [
    "X = dataset.iloc[:,:-2].values\n",
    "y = dataset.iloc[:,3].values"
   ]
  },
  {
   "cell_type": "code",
   "execution_count": 6,
   "metadata": {},
   "outputs": [],
   "source": [
    "# Building the optimal model using backward elimination\n",
    "# Accounting for B0\n",
    "X = np.append(arr=np.ones((24,1)).astype(int),values =X, axis =1)"
   ]
  },
  {
   "cell_type": "code",
   "execution_count": 7,
   "metadata": {
    "scrolled": true
   },
   "outputs": [
    {
     "name": "stdout",
     "output_type": "stream",
     "text": [
      "[[1.00000000e+00 1.99600000e+03 5.46858652e+10 7.29631894e+10]\n",
      " [1.00000000e+00 1.99700000e+03 6.83932194e+10 8.58723447e+10]\n",
      " [1.00000000e+00 1.99800000e+03 7.53693001e+10 9.47086660e+10]\n",
      " [1.00000000e+00 1.99900000e+03 8.13807402e+10 1.10000000e+11]\n",
      " [1.00000000e+00 2.00000000e+03 1.00000000e+11 1.36000000e+11]\n",
      " [1.00000000e+00 2.00100000e+03 9.05374338e+10 1.31000000e+11]\n",
      " [1.00000000e+00 2.00200000e+03 8.60760818e+10 1.35000000e+11]\n",
      " [1.00000000e+00 2.00300000e+03 8.31080960e+10 1.38000000e+11]\n",
      " [1.00000000e+00 2.00400000e+03 9.30177032e+10 1.56000000e+11]\n",
      " [1.00000000e+00 2.00500000e+03 1.02000000e+11 1.70000000e+11]\n",
      " [1.00000000e+00 2.00600000e+03 1.15000000e+11 1.98000000e+11]\n",
      " [1.00000000e+00 2.00700000e+03 1.19000000e+11 2.11000000e+11]\n",
      " [1.00000000e+00 2.00800000e+03 1.32000000e+11 2.16000000e+11]\n",
      " [1.00000000e+00 2.00900000e+03 1.06000000e+11 1.77000000e+11]\n",
      " [1.00000000e+00 2.01000000e+03 1.32000000e+11 2.30000000e+11]\n",
      " [1.00000000e+00 2.01100000e+03 1.60000000e+11 2.63000000e+11]\n",
      " [1.00000000e+00 2.01200000e+03 1.75000000e+11 2.78000000e+11]\n",
      " [1.00000000e+00 2.01300000e+03 1.82000000e+11 2.81000000e+11]\n",
      " [1.00000000e+00 2.01400000e+03 1.93000000e+11 2.96000000e+11]\n",
      " [1.00000000e+00 2.01500000e+03 1.86000000e+11 2.96000000e+11]\n",
      " [1.00000000e+00 2.01600000e+03 1.77000000e+11 2.94000000e+11]\n",
      " [1.00000000e+00 2.01700000e+03 1.87000000e+11 3.13000000e+11]\n",
      " [1.00000000e+00 2.01800000e+03 2.04000000e+11 3.46000000e+11]\n",
      " [1.00000000e+00 2.01900000e+03 1.96000000e+11 3.58000000e+11]]\n"
     ]
    }
   ],
   "source": [
    "print(X)"
   ]
  },
  {
   "cell_type": "code",
   "execution_count": 8,
   "metadata": {
    "scrolled": true
   },
   "outputs": [
    {
     "name": "stdout",
     "output_type": "stream",
     "text": [
      "[[1.00000000e+00 1.99600000e+03 5.46858652e+10 7.29631894e+10]\n",
      " [1.00000000e+00 1.99700000e+03 6.83932194e+10 8.58723447e+10]\n",
      " [1.00000000e+00 1.99800000e+03 7.53693001e+10 9.47086660e+10]\n",
      " [1.00000000e+00 1.99900000e+03 8.13807402e+10 1.10000000e+11]\n",
      " [1.00000000e+00 2.00000000e+03 1.00000000e+11 1.36000000e+11]\n",
      " [1.00000000e+00 2.00100000e+03 9.05374338e+10 1.31000000e+11]\n",
      " [1.00000000e+00 2.00200000e+03 8.60760818e+10 1.35000000e+11]\n",
      " [1.00000000e+00 2.00300000e+03 8.31080960e+10 1.38000000e+11]\n",
      " [1.00000000e+00 2.00400000e+03 9.30177032e+10 1.56000000e+11]\n",
      " [1.00000000e+00 2.00500000e+03 1.02000000e+11 1.70000000e+11]\n",
      " [1.00000000e+00 2.00600000e+03 1.15000000e+11 1.98000000e+11]\n",
      " [1.00000000e+00 2.00700000e+03 1.19000000e+11 2.11000000e+11]\n",
      " [1.00000000e+00 2.00800000e+03 1.32000000e+11 2.16000000e+11]\n",
      " [1.00000000e+00 2.00900000e+03 1.06000000e+11 1.77000000e+11]\n",
      " [1.00000000e+00 2.01000000e+03 1.32000000e+11 2.30000000e+11]\n",
      " [1.00000000e+00 2.01100000e+03 1.60000000e+11 2.63000000e+11]\n",
      " [1.00000000e+00 2.01200000e+03 1.75000000e+11 2.78000000e+11]\n",
      " [1.00000000e+00 2.01300000e+03 1.82000000e+11 2.81000000e+11]\n",
      " [1.00000000e+00 2.01400000e+03 1.93000000e+11 2.96000000e+11]\n",
      " [1.00000000e+00 2.01500000e+03 1.86000000e+11 2.96000000e+11]\n",
      " [1.00000000e+00 2.01600000e+03 1.77000000e+11 2.94000000e+11]\n",
      " [1.00000000e+00 2.01700000e+03 1.87000000e+11 3.13000000e+11]\n",
      " [1.00000000e+00 2.01800000e+03 2.04000000e+11 3.46000000e+11]\n",
      " [1.00000000e+00 2.01900000e+03 1.96000000e+11 3.58000000e+11]]\n"
     ]
    }
   ],
   "source": [
    "X_optimzed = X[:, [0,1,2,3]]\n",
    "print(X_optimzed)"
   ]
  },
  {
   "cell_type": "code",
   "execution_count": 9,
   "metadata": {},
   "outputs": [],
   "source": [
    "import statsmodels.api as sm"
   ]
  },
  {
   "cell_type": "code",
   "execution_count": 10,
   "metadata": {},
   "outputs": [],
   "source": [
    "regressor_OLS = sm.OLS(endog = y, exog= X_optimzed).fit()"
   ]
  },
  {
   "cell_type": "code",
   "execution_count": 11,
   "metadata": {},
   "outputs": [
    {
     "data": {
      "text/html": [
       "<table class=\"simpletable\">\n",
       "<caption>OLS Regression Results</caption>\n",
       "<tr>\n",
       "  <th>Dep. Variable:</th>            <td>y</td>        <th>  R-squared:         </th> <td>   0.536</td>\n",
       "</tr>\n",
       "<tr>\n",
       "  <th>Model:</th>                   <td>OLS</td>       <th>  Adj. R-squared:    </th> <td>   0.466</td>\n",
       "</tr>\n",
       "<tr>\n",
       "  <th>Method:</th>             <td>Least Squares</td>  <th>  F-statistic:       </th> <td>   7.698</td>\n",
       "</tr>\n",
       "<tr>\n",
       "  <th>Date:</th>             <td>Wed, 25 Mar 2020</td> <th>  Prob (F-statistic):</th>  <td>0.00130</td>\n",
       "</tr>\n",
       "<tr>\n",
       "  <th>Time:</th>                 <td>23:10:15</td>     <th>  Log-Likelihood:    </th> <td> -450.21</td>\n",
       "</tr>\n",
       "<tr>\n",
       "  <th>No. Observations:</th>      <td>    24</td>      <th>  AIC:               </th> <td>   908.4</td>\n",
       "</tr>\n",
       "<tr>\n",
       "  <th>Df Residuals:</th>          <td>    20</td>      <th>  BIC:               </th> <td>   913.1</td>\n",
       "</tr>\n",
       "<tr>\n",
       "  <th>Df Model:</th>              <td>     3</td>      <th>                     </th>     <td> </td>   \n",
       "</tr>\n",
       "<tr>\n",
       "  <th>Covariance Type:</th>      <td>nonrobust</td>    <th>                     </th>     <td> </td>   \n",
       "</tr>\n",
       "</table>\n",
       "<table class=\"simpletable\">\n",
       "<tr>\n",
       "    <td></td>       <th>coef</th>     <th>std err</th>      <th>t</th>      <th>P>|t|</th>  <th>[0.025</th>    <th>0.975]</th>  \n",
       "</tr>\n",
       "<tr>\n",
       "  <th>const</th> <td> 1.591e+10</td> <td> 1.41e+10</td> <td>    1.132</td> <td> 0.271</td> <td>-1.34e+10</td> <td> 4.52e+10</td>\n",
       "</tr>\n",
       "<tr>\n",
       "  <th>x1</th>    <td> -7.79e+06</td> <td> 7.06e+06</td> <td>   -1.104</td> <td> 0.283</td> <td>-2.25e+07</td> <td> 6.93e+06</td>\n",
       "</tr>\n",
       "<tr>\n",
       "  <th>x2</th>    <td>   -0.0005</td> <td>    0.001</td> <td>   -0.493</td> <td> 0.627</td> <td>   -0.003</td> <td>    0.002</td>\n",
       "</tr>\n",
       "<tr>\n",
       "  <th>x3</th>    <td>    0.0005</td> <td>    0.001</td> <td>    0.523</td> <td> 0.607</td> <td>   -0.001</td> <td>    0.002</td>\n",
       "</tr>\n",
       "</table>\n",
       "<table class=\"simpletable\">\n",
       "<tr>\n",
       "  <th>Omnibus:</th>       <td> 4.994</td> <th>  Durbin-Watson:     </th> <td>   0.418</td>\n",
       "</tr>\n",
       "<tr>\n",
       "  <th>Prob(Omnibus):</th> <td> 0.082</td> <th>  Jarque-Bera (JB):  </th> <td>   3.557</td>\n",
       "</tr>\n",
       "<tr>\n",
       "  <th>Skew:</th>          <td>-0.935</td> <th>  Prob(JB):          </th> <td>   0.169</td>\n",
       "</tr>\n",
       "<tr>\n",
       "  <th>Kurtosis:</th>      <td> 3.244</td> <th>  Cond. No.          </th> <td>4.87e+14</td>\n",
       "</tr>\n",
       "</table><br/><br/>Warnings:<br/>[1] Standard Errors assume that the covariance matrix of the errors is correctly specified.<br/>[2] The condition number is large, 4.87e+14. This might indicate that there are<br/>strong multicollinearity or other numerical problems."
      ],
      "text/plain": [
       "<class 'statsmodels.iolib.summary.Summary'>\n",
       "\"\"\"\n",
       "                            OLS Regression Results                            \n",
       "==============================================================================\n",
       "Dep. Variable:                      y   R-squared:                       0.536\n",
       "Model:                            OLS   Adj. R-squared:                  0.466\n",
       "Method:                 Least Squares   F-statistic:                     7.698\n",
       "Date:                Wed, 25 Mar 2020   Prob (F-statistic):            0.00130\n",
       "Time:                        23:10:15   Log-Likelihood:                -450.21\n",
       "No. Observations:                  24   AIC:                             908.4\n",
       "Df Residuals:                      20   BIC:                             913.1\n",
       "Df Model:                           3                                         \n",
       "Covariance Type:            nonrobust                                         \n",
       "==============================================================================\n",
       "                 coef    std err          t      P>|t|      [0.025      0.975]\n",
       "------------------------------------------------------------------------------\n",
       "const       1.591e+10   1.41e+10      1.132      0.271   -1.34e+10    4.52e+10\n",
       "x1          -7.79e+06   7.06e+06     -1.104      0.283   -2.25e+07    6.93e+06\n",
       "x2            -0.0005      0.001     -0.493      0.627      -0.003       0.002\n",
       "x3             0.0005      0.001      0.523      0.607      -0.001       0.002\n",
       "==============================================================================\n",
       "Omnibus:                        4.994   Durbin-Watson:                   0.418\n",
       "Prob(Omnibus):                  0.082   Jarque-Bera (JB):                3.557\n",
       "Skew:                          -0.935   Prob(JB):                        0.169\n",
       "Kurtosis:                       3.244   Cond. No.                     4.87e+14\n",
       "==============================================================================\n",
       "\n",
       "Warnings:\n",
       "[1] Standard Errors assume that the covariance matrix of the errors is correctly specified.\n",
       "[2] The condition number is large, 4.87e+14. This might indicate that there are\n",
       "strong multicollinearity or other numerical problems.\n",
       "\"\"\""
      ]
     },
     "execution_count": 11,
     "metadata": {},
     "output_type": "execute_result"
    }
   ],
   "source": [
    "regressor_OLS.summary()"
   ]
  },
  {
   "cell_type": "markdown",
   "metadata": {},
   "source": [
    "## Fitting the linear regression model"
   ]
  },
  {
   "cell_type": "code",
   "execution_count": 12,
   "metadata": {},
   "outputs": [],
   "source": [
    "X1 = variablesMX.iloc[:,:-1].values\n",
    "y1 = variablesMX.iloc[:,1].values"
   ]
  },
  {
   "cell_type": "code",
   "execution_count": 13,
   "metadata": {},
   "outputs": [
    {
     "name": "stdout",
     "output_type": "stream",
     "text": [
      "24\n"
     ]
    }
   ],
   "source": [
    "print(X1.size)"
   ]
  },
  {
   "cell_type": "code",
   "execution_count": 14,
   "metadata": {
    "scrolled": true
   },
   "outputs": [
    {
     "name": "stdout",
     "output_type": "stream",
     "text": [
      "[[5.46858652e+10]\n",
      " [6.83932194e+10]\n",
      " [7.53693001e+10]\n",
      " [8.13807402e+10]\n",
      " [1.00000000e+11]\n",
      " [9.05374338e+10]\n",
      " [8.60760818e+10]\n",
      " [8.31080960e+10]\n",
      " [9.30177032e+10]\n",
      " [1.02000000e+11]\n",
      " [1.15000000e+11]\n",
      " [1.19000000e+11]\n",
      " [1.32000000e+11]\n",
      " [1.06000000e+11]\n",
      " [1.32000000e+11]\n",
      " [1.60000000e+11]\n",
      " [1.75000000e+11]\n",
      " [1.82000000e+11]\n",
      " [1.93000000e+11]\n",
      " [1.86000000e+11]\n",
      " [1.77000000e+11]\n",
      " [1.87000000e+11]\n",
      " [2.04000000e+11]\n",
      " [1.96000000e+11]]\n"
     ]
    }
   ],
   "source": [
    "print(X1)"
   ]
  },
  {
   "cell_type": "code",
   "execution_count": 15,
   "metadata": {
    "scrolled": true
   },
   "outputs": [
    {
     "name": "stdout",
     "output_type": "stream",
     "text": [
      "[7.29631894e+10 8.58723447e+10 9.47086660e+10 1.10000000e+11\n",
      " 1.36000000e+11 1.31000000e+11 1.35000000e+11 1.38000000e+11\n",
      " 1.56000000e+11 1.70000000e+11 1.98000000e+11 2.11000000e+11\n",
      " 2.16000000e+11 1.77000000e+11 2.30000000e+11 2.63000000e+11\n",
      " 2.78000000e+11 2.81000000e+11 2.96000000e+11 2.96000000e+11\n",
      " 2.94000000e+11 3.13000000e+11 3.46000000e+11 3.58000000e+11]\n"
     ]
    }
   ],
   "source": [
    "print(y1)"
   ]
  },
  {
   "cell_type": "code",
   "execution_count": 16,
   "metadata": {},
   "outputs": [
    {
     "name": "stdout",
     "output_type": "stream",
     "text": [
      "[[1.00000000e+00 5.46858652e+10]\n",
      " [1.00000000e+00 6.83932194e+10]\n",
      " [1.00000000e+00 7.53693001e+10]\n",
      " [1.00000000e+00 8.13807402e+10]\n",
      " [1.00000000e+00 1.00000000e+11]\n",
      " [1.00000000e+00 9.05374338e+10]\n",
      " [1.00000000e+00 8.60760818e+10]\n",
      " [1.00000000e+00 8.31080960e+10]\n",
      " [1.00000000e+00 9.30177032e+10]\n",
      " [1.00000000e+00 1.02000000e+11]\n",
      " [1.00000000e+00 1.15000000e+11]\n",
      " [1.00000000e+00 1.19000000e+11]\n",
      " [1.00000000e+00 1.32000000e+11]\n",
      " [1.00000000e+00 1.06000000e+11]\n",
      " [1.00000000e+00 1.32000000e+11]\n",
      " [1.00000000e+00 1.60000000e+11]\n",
      " [1.00000000e+00 1.75000000e+11]\n",
      " [1.00000000e+00 1.82000000e+11]\n",
      " [1.00000000e+00 1.93000000e+11]\n",
      " [1.00000000e+00 1.86000000e+11]\n",
      " [1.00000000e+00 1.77000000e+11]\n",
      " [1.00000000e+00 1.87000000e+11]\n",
      " [1.00000000e+00 2.04000000e+11]\n",
      " [1.00000000e+00 1.96000000e+11]]\n"
     ]
    }
   ],
   "source": [
    "# Building the optimal model using backward elimination\n",
    "# Accounting for B0\n",
    "X1 = np.append(arr=np.ones((24,1)).astype(int),values =X1, axis =1)\n",
    "print(X1)"
   ]
  },
  {
   "cell_type": "code",
   "execution_count": 17,
   "metadata": {},
   "outputs": [
    {
     "name": "stdout",
     "output_type": "stream",
     "text": [
      "[[1.00000000e+00 5.46858652e+10]\n",
      " [1.00000000e+00 6.83932194e+10]\n",
      " [1.00000000e+00 7.53693001e+10]\n",
      " [1.00000000e+00 8.13807402e+10]\n",
      " [1.00000000e+00 1.00000000e+11]\n",
      " [1.00000000e+00 9.05374338e+10]\n",
      " [1.00000000e+00 8.60760818e+10]\n",
      " [1.00000000e+00 8.31080960e+10]\n",
      " [1.00000000e+00 9.30177032e+10]\n",
      " [1.00000000e+00 1.02000000e+11]\n",
      " [1.00000000e+00 1.15000000e+11]\n",
      " [1.00000000e+00 1.19000000e+11]\n",
      " [1.00000000e+00 1.32000000e+11]\n",
      " [1.00000000e+00 1.06000000e+11]\n",
      " [1.00000000e+00 1.32000000e+11]\n",
      " [1.00000000e+00 1.60000000e+11]\n",
      " [1.00000000e+00 1.75000000e+11]\n",
      " [1.00000000e+00 1.82000000e+11]\n",
      " [1.00000000e+00 1.93000000e+11]\n",
      " [1.00000000e+00 1.86000000e+11]\n",
      " [1.00000000e+00 1.77000000e+11]\n",
      " [1.00000000e+00 1.87000000e+11]\n",
      " [1.00000000e+00 2.04000000e+11]\n",
      " [1.00000000e+00 1.96000000e+11]]\n"
     ]
    }
   ],
   "source": [
    "X1_optimzed = X1\n",
    "print(X1_optimzed)"
   ]
  },
  {
   "cell_type": "code",
   "execution_count": 18,
   "metadata": {},
   "outputs": [],
   "source": [
    "regressor_OLS2 = sm.OLS(endog = y, exog= X1_optimzed).fit()"
   ]
  },
  {
   "cell_type": "code",
   "execution_count": 19,
   "metadata": {},
   "outputs": [
    {
     "data": {
      "text/html": [
       "<table class=\"simpletable\">\n",
       "<caption>OLS Regression Results</caption>\n",
       "<tr>\n",
       "  <th>Dep. Variable:</th>            <td>y</td>        <th>  R-squared:         </th> <td>   0.497</td>\n",
       "</tr>\n",
       "<tr>\n",
       "  <th>Model:</th>                   <td>OLS</td>       <th>  Adj. R-squared:    </th> <td>   0.474</td>\n",
       "</tr>\n",
       "<tr>\n",
       "  <th>Method:</th>             <td>Least Squares</td>  <th>  F-statistic:       </th> <td>   21.76</td>\n",
       "</tr>\n",
       "<tr>\n",
       "  <th>Date:</th>             <td>Wed, 25 Mar 2020</td> <th>  Prob (F-statistic):</th> <td>0.000119</td>\n",
       "</tr>\n",
       "<tr>\n",
       "  <th>Time:</th>                 <td>23:10:15</td>     <th>  Log-Likelihood:    </th> <td> -451.17</td>\n",
       "</tr>\n",
       "<tr>\n",
       "  <th>No. Observations:</th>      <td>    24</td>      <th>  AIC:               </th> <td>   906.3</td>\n",
       "</tr>\n",
       "<tr>\n",
       "  <th>Df Residuals:</th>          <td>    22</td>      <th>  BIC:               </th> <td>   908.7</td>\n",
       "</tr>\n",
       "<tr>\n",
       "  <th>Df Model:</th>              <td>     1</td>      <th>                     </th>     <td> </td>   \n",
       "</tr>\n",
       "<tr>\n",
       "  <th>Covariance Type:</th>      <td>nonrobust</td>    <th>                     </th>     <td> </td>   \n",
       "</tr>\n",
       "</table>\n",
       "<table class=\"simpletable\">\n",
       "<tr>\n",
       "    <td></td>       <th>coef</th>     <th>std err</th>      <th>t</th>      <th>P>|t|</th>  <th>[0.025</th>    <th>0.975]</th>  \n",
       "</tr>\n",
       "<tr>\n",
       "  <th>const</th> <td> 4.008e+08</td> <td> 2.21e+07</td> <td>   18.130</td> <td> 0.000</td> <td> 3.55e+08</td> <td> 4.47e+08</td>\n",
       "</tr>\n",
       "<tr>\n",
       "  <th>x1</th>    <td>   -0.0008</td> <td>    0.000</td> <td>   -4.664</td> <td> 0.000</td> <td>   -0.001</td> <td>   -0.000</td>\n",
       "</tr>\n",
       "</table>\n",
       "<table class=\"simpletable\">\n",
       "<tr>\n",
       "  <th>Omnibus:</th>       <td> 2.222</td> <th>  Durbin-Watson:     </th> <td>   0.489</td>\n",
       "</tr>\n",
       "<tr>\n",
       "  <th>Prob(Omnibus):</th> <td> 0.329</td> <th>  Jarque-Bera (JB):  </th> <td>   1.442</td>\n",
       "</tr>\n",
       "<tr>\n",
       "  <th>Skew:</th>          <td>-0.600</td> <th>  Prob(JB):          </th> <td>   0.486</td>\n",
       "</tr>\n",
       "<tr>\n",
       "  <th>Kurtosis:</th>      <td> 2.983</td> <th>  Cond. No.          </th> <td>4.03e+11</td>\n",
       "</tr>\n",
       "</table><br/><br/>Warnings:<br/>[1] Standard Errors assume that the covariance matrix of the errors is correctly specified.<br/>[2] The condition number is large, 4.03e+11. This might indicate that there are<br/>strong multicollinearity or other numerical problems."
      ],
      "text/plain": [
       "<class 'statsmodels.iolib.summary.Summary'>\n",
       "\"\"\"\n",
       "                            OLS Regression Results                            \n",
       "==============================================================================\n",
       "Dep. Variable:                      y   R-squared:                       0.497\n",
       "Model:                            OLS   Adj. R-squared:                  0.474\n",
       "Method:                 Least Squares   F-statistic:                     21.76\n",
       "Date:                Wed, 25 Mar 2020   Prob (F-statistic):           0.000119\n",
       "Time:                        23:10:15   Log-Likelihood:                -451.17\n",
       "No. Observations:                  24   AIC:                             906.3\n",
       "Df Residuals:                      22   BIC:                             908.7\n",
       "Df Model:                           1                                         \n",
       "Covariance Type:            nonrobust                                         \n",
       "==============================================================================\n",
       "                 coef    std err          t      P>|t|      [0.025      0.975]\n",
       "------------------------------------------------------------------------------\n",
       "const       4.008e+08   2.21e+07     18.130      0.000    3.55e+08    4.47e+08\n",
       "x1            -0.0008      0.000     -4.664      0.000      -0.001      -0.000\n",
       "==============================================================================\n",
       "Omnibus:                        2.222   Durbin-Watson:                   0.489\n",
       "Prob(Omnibus):                  0.329   Jarque-Bera (JB):                1.442\n",
       "Skew:                          -0.600   Prob(JB):                        0.486\n",
       "Kurtosis:                       2.983   Cond. No.                     4.03e+11\n",
       "==============================================================================\n",
       "\n",
       "Warnings:\n",
       "[1] Standard Errors assume that the covariance matrix of the errors is correctly specified.\n",
       "[2] The condition number is large, 4.03e+11. This might indicate that there are\n",
       "strong multicollinearity or other numerical problems.\n",
       "\"\"\""
      ]
     },
     "execution_count": 19,
     "metadata": {},
     "output_type": "execute_result"
    }
   ],
   "source": [
    "# Running regression results\n",
    "regressor_OLS2.summary()"
   ]
  },
  {
   "cell_type": "markdown",
   "metadata": {},
   "source": [
    "## Fitting the import, export, and travel variable"
   ]
  },
  {
   "cell_type": "code",
   "execution_count": 20,
   "metadata": {},
   "outputs": [
    {
     "name": "stdout",
     "output_type": "stream",
     "text": [
      "[[1.00000000e+00 5.46858652e+10 7.29631894e+10]\n",
      " [1.00000000e+00 6.83932194e+10 8.58723447e+10]\n",
      " [1.00000000e+00 7.53693001e+10 9.47086660e+10]\n",
      " [1.00000000e+00 8.13807402e+10 1.10000000e+11]\n",
      " [1.00000000e+00 1.00000000e+11 1.36000000e+11]\n",
      " [1.00000000e+00 9.05374338e+10 1.31000000e+11]\n",
      " [1.00000000e+00 8.60760818e+10 1.35000000e+11]\n",
      " [1.00000000e+00 8.31080960e+10 1.38000000e+11]\n",
      " [1.00000000e+00 9.30177032e+10 1.56000000e+11]\n",
      " [1.00000000e+00 1.02000000e+11 1.70000000e+11]\n",
      " [1.00000000e+00 1.15000000e+11 1.98000000e+11]\n",
      " [1.00000000e+00 1.19000000e+11 2.11000000e+11]\n",
      " [1.00000000e+00 1.32000000e+11 2.16000000e+11]\n",
      " [1.00000000e+00 1.06000000e+11 1.77000000e+11]\n",
      " [1.00000000e+00 1.32000000e+11 2.30000000e+11]\n",
      " [1.00000000e+00 1.60000000e+11 2.63000000e+11]\n",
      " [1.00000000e+00 1.75000000e+11 2.78000000e+11]\n",
      " [1.00000000e+00 1.82000000e+11 2.81000000e+11]\n",
      " [1.00000000e+00 1.93000000e+11 2.96000000e+11]\n",
      " [1.00000000e+00 1.86000000e+11 2.96000000e+11]\n",
      " [1.00000000e+00 1.77000000e+11 2.94000000e+11]\n",
      " [1.00000000e+00 1.87000000e+11 3.13000000e+11]\n",
      " [1.00000000e+00 2.04000000e+11 3.46000000e+11]\n",
      " [1.00000000e+00 1.96000000e+11 3.58000000e+11]]\n"
     ]
    }
   ],
   "source": [
    "# Include only the import, export and travel variable\n",
    "X_optimzed = X[:, [0,2,3]]\n",
    "print(X_optimzed)"
   ]
  },
  {
   "cell_type": "code",
   "execution_count": 21,
   "metadata": {},
   "outputs": [],
   "source": [
    "# Refitting model without the year variable\n",
    "regressor_OLS = sm.OLS(endog = y, exog= X_optimzed).fit()"
   ]
  },
  {
   "cell_type": "code",
   "execution_count": 22,
   "metadata": {},
   "outputs": [
    {
     "data": {
      "text/html": [
       "<table class=\"simpletable\">\n",
       "<caption>OLS Regression Results</caption>\n",
       "<tr>\n",
       "  <th>Dep. Variable:</th>            <td>y</td>        <th>  R-squared:         </th> <td>   0.508</td>\n",
       "</tr>\n",
       "<tr>\n",
       "  <th>Model:</th>                   <td>OLS</td>       <th>  Adj. R-squared:    </th> <td>   0.461</td>\n",
       "</tr>\n",
       "<tr>\n",
       "  <th>Method:</th>             <td>Least Squares</td>  <th>  F-statistic:       </th> <td>   10.82</td>\n",
       "</tr>\n",
       "<tr>\n",
       "  <th>Date:</th>             <td>Wed, 25 Mar 2020</td> <th>  Prob (F-statistic):</th> <td>0.000588</td>\n",
       "</tr>\n",
       "<tr>\n",
       "  <th>Time:</th>                 <td>23:10:15</td>     <th>  Log-Likelihood:    </th> <td> -450.92</td>\n",
       "</tr>\n",
       "<tr>\n",
       "  <th>No. Observations:</th>      <td>    24</td>      <th>  AIC:               </th> <td>   907.8</td>\n",
       "</tr>\n",
       "<tr>\n",
       "  <th>Df Residuals:</th>          <td>    21</td>      <th>  BIC:               </th> <td>   911.4</td>\n",
       "</tr>\n",
       "<tr>\n",
       "  <th>Df Model:</th>              <td>     2</td>      <th>                     </th>     <td> </td>   \n",
       "</tr>\n",
       "<tr>\n",
       "  <th>Covariance Type:</th>      <td>nonrobust</td>    <th>                     </th>     <td> </td>   \n",
       "</tr>\n",
       "</table>\n",
       "<table class=\"simpletable\">\n",
       "<tr>\n",
       "    <td></td>       <th>coef</th>     <th>std err</th>      <th>t</th>      <th>P>|t|</th>  <th>[0.025</th>    <th>0.975]</th>  \n",
       "</tr>\n",
       "<tr>\n",
       "  <th>const</th> <td> 3.931e+08</td> <td> 2.52e+07</td> <td>   15.581</td> <td> 0.000</td> <td> 3.41e+08</td> <td> 4.46e+08</td>\n",
       "</tr>\n",
       "<tr>\n",
       "  <th>x1</th>    <td>   -0.0001</td> <td>    0.001</td> <td>   -0.133</td> <td> 0.896</td> <td>   -0.002</td> <td>    0.002</td>\n",
       "</tr>\n",
       "<tr>\n",
       "  <th>x2</th>    <td>   -0.0004</td> <td>    0.001</td> <td>   -0.667</td> <td> 0.512</td> <td>   -0.001</td> <td>    0.001</td>\n",
       "</tr>\n",
       "</table>\n",
       "<table class=\"simpletable\">\n",
       "<tr>\n",
       "  <th>Omnibus:</th>       <td> 2.397</td> <th>  Durbin-Watson:     </th> <td>   0.443</td>\n",
       "</tr>\n",
       "<tr>\n",
       "  <th>Prob(Omnibus):</th> <td> 0.302</td> <th>  Jarque-Bera (JB):  </th> <td>   1.809</td>\n",
       "</tr>\n",
       "<tr>\n",
       "  <th>Skew:</th>          <td>-0.664</td> <th>  Prob(JB):          </th> <td>   0.405</td>\n",
       "</tr>\n",
       "<tr>\n",
       "  <th>Kurtosis:</th>      <td> 2.786</td> <th>  Cond. No.          </th> <td>8.70e+11</td>\n",
       "</tr>\n",
       "</table><br/><br/>Warnings:<br/>[1] Standard Errors assume that the covariance matrix of the errors is correctly specified.<br/>[2] The condition number is large, 8.7e+11. This might indicate that there are<br/>strong multicollinearity or other numerical problems."
      ],
      "text/plain": [
       "<class 'statsmodels.iolib.summary.Summary'>\n",
       "\"\"\"\n",
       "                            OLS Regression Results                            \n",
       "==============================================================================\n",
       "Dep. Variable:                      y   R-squared:                       0.508\n",
       "Model:                            OLS   Adj. R-squared:                  0.461\n",
       "Method:                 Least Squares   F-statistic:                     10.82\n",
       "Date:                Wed, 25 Mar 2020   Prob (F-statistic):           0.000588\n",
       "Time:                        23:10:15   Log-Likelihood:                -450.92\n",
       "No. Observations:                  24   AIC:                             907.8\n",
       "Df Residuals:                      21   BIC:                             911.4\n",
       "Df Model:                           2                                         \n",
       "Covariance Type:            nonrobust                                         \n",
       "==============================================================================\n",
       "                 coef    std err          t      P>|t|      [0.025      0.975]\n",
       "------------------------------------------------------------------------------\n",
       "const       3.931e+08   2.52e+07     15.581      0.000    3.41e+08    4.46e+08\n",
       "x1            -0.0001      0.001     -0.133      0.896      -0.002       0.002\n",
       "x2            -0.0004      0.001     -0.667      0.512      -0.001       0.001\n",
       "==============================================================================\n",
       "Omnibus:                        2.397   Durbin-Watson:                   0.443\n",
       "Prob(Omnibus):                  0.302   Jarque-Bera (JB):                1.809\n",
       "Skew:                          -0.664   Prob(JB):                        0.405\n",
       "Kurtosis:                       2.786   Cond. No.                     8.70e+11\n",
       "==============================================================================\n",
       "\n",
       "Warnings:\n",
       "[1] Standard Errors assume that the covariance matrix of the errors is correctly specified.\n",
       "[2] The condition number is large, 8.7e+11. This might indicate that there are\n",
       "strong multicollinearity or other numerical problems.\n",
       "\"\"\""
      ]
     },
     "execution_count": 22,
     "metadata": {},
     "output_type": "execute_result"
    }
   ],
   "source": [
    "regressor_OLS.summary()"
   ]
  },
  {
   "cell_type": "markdown",
   "metadata": {},
   "source": [
    "## Fitting export  by mobility"
   ]
  },
  {
   "cell_type": "code",
   "execution_count": 39,
   "metadata": {},
   "outputs": [
    {
     "name": "stdout",
     "output_type": "stream",
     "text": [
      "[[1.00000000e+00 5.46858652e+10]\n",
      " [1.00000000e+00 6.83932194e+10]\n",
      " [1.00000000e+00 7.53693001e+10]\n",
      " [1.00000000e+00 8.13807402e+10]\n",
      " [1.00000000e+00 1.00000000e+11]\n",
      " [1.00000000e+00 9.05374338e+10]\n",
      " [1.00000000e+00 8.60760818e+10]\n",
      " [1.00000000e+00 8.31080960e+10]\n",
      " [1.00000000e+00 9.30177032e+10]\n",
      " [1.00000000e+00 1.02000000e+11]\n",
      " [1.00000000e+00 1.15000000e+11]\n",
      " [1.00000000e+00 1.19000000e+11]\n",
      " [1.00000000e+00 1.32000000e+11]\n",
      " [1.00000000e+00 1.06000000e+11]\n",
      " [1.00000000e+00 1.32000000e+11]\n",
      " [1.00000000e+00 1.60000000e+11]\n",
      " [1.00000000e+00 1.75000000e+11]\n",
      " [1.00000000e+00 1.82000000e+11]\n",
      " [1.00000000e+00 1.93000000e+11]\n",
      " [1.00000000e+00 1.86000000e+11]\n",
      " [1.00000000e+00 1.77000000e+11]\n",
      " [1.00000000e+00 1.87000000e+11]\n",
      " [1.00000000e+00 2.04000000e+11]\n",
      " [1.00000000e+00 1.96000000e+11]]\n"
     ]
    }
   ],
   "source": [
    "X_optimzed = X[:, [0,2]]\n",
    "print(X_optimzed)"
   ]
  },
  {
   "cell_type": "code",
   "execution_count": 40,
   "metadata": {},
   "outputs": [
    {
     "name": "stdout",
     "output_type": "stream",
     "text": [
      "[276751448 348661488 366296614 391959396 392231869 362991511 352870123\n",
      " 343654239 343524676 336990567 327588026 310095754 295921230 264450245\n",
      " 242776894 225541089 232999664 243982227 254746277 267663436 273532405\n",
      " 278703002 283743197 275538145]\n"
     ]
    }
   ],
   "source": [
    "print(y)"
   ]
  },
  {
   "cell_type": "code",
   "execution_count": 41,
   "metadata": {},
   "outputs": [],
   "source": [
    "# Re-run statistical significance testing and refitting the model\n",
    "regressor_OLS = sm.OLS(endog = y, exog= X_optimzed).fit()"
   ]
  },
  {
   "cell_type": "code",
   "execution_count": 42,
   "metadata": {},
   "outputs": [
    {
     "data": {
      "text/html": [
       "<table class=\"simpletable\">\n",
       "<caption>OLS Regression Results</caption>\n",
       "<tr>\n",
       "  <th>Dep. Variable:</th>            <td>y</td>        <th>  R-squared:         </th> <td>   0.497</td>\n",
       "</tr>\n",
       "<tr>\n",
       "  <th>Model:</th>                   <td>OLS</td>       <th>  Adj. R-squared:    </th> <td>   0.474</td>\n",
       "</tr>\n",
       "<tr>\n",
       "  <th>Method:</th>             <td>Least Squares</td>  <th>  F-statistic:       </th> <td>   21.76</td>\n",
       "</tr>\n",
       "<tr>\n",
       "  <th>Date:</th>             <td>Wed, 25 Mar 2020</td> <th>  Prob (F-statistic):</th> <td>0.000119</td>\n",
       "</tr>\n",
       "<tr>\n",
       "  <th>Time:</th>                 <td>23:29:24</td>     <th>  Log-Likelihood:    </th> <td> -451.17</td>\n",
       "</tr>\n",
       "<tr>\n",
       "  <th>No. Observations:</th>      <td>    24</td>      <th>  AIC:               </th> <td>   906.3</td>\n",
       "</tr>\n",
       "<tr>\n",
       "  <th>Df Residuals:</th>          <td>    22</td>      <th>  BIC:               </th> <td>   908.7</td>\n",
       "</tr>\n",
       "<tr>\n",
       "  <th>Df Model:</th>              <td>     1</td>      <th>                     </th>     <td> </td>   \n",
       "</tr>\n",
       "<tr>\n",
       "  <th>Covariance Type:</th>      <td>nonrobust</td>    <th>                     </th>     <td> </td>   \n",
       "</tr>\n",
       "</table>\n",
       "<table class=\"simpletable\">\n",
       "<tr>\n",
       "    <td></td>       <th>coef</th>     <th>std err</th>      <th>t</th>      <th>P>|t|</th>  <th>[0.025</th>    <th>0.975]</th>  \n",
       "</tr>\n",
       "<tr>\n",
       "  <th>const</th> <td> 4.008e+08</td> <td> 2.21e+07</td> <td>   18.130</td> <td> 0.000</td> <td> 3.55e+08</td> <td> 4.47e+08</td>\n",
       "</tr>\n",
       "<tr>\n",
       "  <th>x1</th>    <td>   -0.0008</td> <td>    0.000</td> <td>   -4.664</td> <td> 0.000</td> <td>   -0.001</td> <td>   -0.000</td>\n",
       "</tr>\n",
       "</table>\n",
       "<table class=\"simpletable\">\n",
       "<tr>\n",
       "  <th>Omnibus:</th>       <td> 2.222</td> <th>  Durbin-Watson:     </th> <td>   0.489</td>\n",
       "</tr>\n",
       "<tr>\n",
       "  <th>Prob(Omnibus):</th> <td> 0.329</td> <th>  Jarque-Bera (JB):  </th> <td>   1.442</td>\n",
       "</tr>\n",
       "<tr>\n",
       "  <th>Skew:</th>          <td>-0.600</td> <th>  Prob(JB):          </th> <td>   0.486</td>\n",
       "</tr>\n",
       "<tr>\n",
       "  <th>Kurtosis:</th>      <td> 2.983</td> <th>  Cond. No.          </th> <td>4.03e+11</td>\n",
       "</tr>\n",
       "</table><br/><br/>Warnings:<br/>[1] Standard Errors assume that the covariance matrix of the errors is correctly specified.<br/>[2] The condition number is large, 4.03e+11. This might indicate that there are<br/>strong multicollinearity or other numerical problems."
      ],
      "text/plain": [
       "<class 'statsmodels.iolib.summary.Summary'>\n",
       "\"\"\"\n",
       "                            OLS Regression Results                            \n",
       "==============================================================================\n",
       "Dep. Variable:                      y   R-squared:                       0.497\n",
       "Model:                            OLS   Adj. R-squared:                  0.474\n",
       "Method:                 Least Squares   F-statistic:                     21.76\n",
       "Date:                Wed, 25 Mar 2020   Prob (F-statistic):           0.000119\n",
       "Time:                        23:29:24   Log-Likelihood:                -451.17\n",
       "No. Observations:                  24   AIC:                             906.3\n",
       "Df Residuals:                      22   BIC:                             908.7\n",
       "Df Model:                           1                                         \n",
       "Covariance Type:            nonrobust                                         \n",
       "==============================================================================\n",
       "                 coef    std err          t      P>|t|      [0.025      0.975]\n",
       "------------------------------------------------------------------------------\n",
       "const       4.008e+08   2.21e+07     18.130      0.000    3.55e+08    4.47e+08\n",
       "x1            -0.0008      0.000     -4.664      0.000      -0.001      -0.000\n",
       "==============================================================================\n",
       "Omnibus:                        2.222   Durbin-Watson:                   0.489\n",
       "Prob(Omnibus):                  0.329   Jarque-Bera (JB):                1.442\n",
       "Skew:                          -0.600   Prob(JB):                        0.486\n",
       "Kurtosis:                       2.983   Cond. No.                     4.03e+11\n",
       "==============================================================================\n",
       "\n",
       "Warnings:\n",
       "[1] Standard Errors assume that the covariance matrix of the errors is correctly specified.\n",
       "[2] The condition number is large, 4.03e+11. This might indicate that there are\n",
       "strong multicollinearity or other numerical problems.\n",
       "\"\"\""
      ]
     },
     "execution_count": 42,
     "metadata": {},
     "output_type": "execute_result"
    }
   ],
   "source": [
    "# Running regression results\n",
    "regressor_OLS.summary()"
   ]
  },
  {
   "cell_type": "markdown",
   "metadata": {},
   "source": [
    "## Fitting import by mobility"
   ]
  },
  {
   "cell_type": "code",
   "execution_count": 43,
   "metadata": {},
   "outputs": [
    {
     "name": "stdout",
     "output_type": "stream",
     "text": [
      "[[1.00000000e+00 7.29631894e+10]\n",
      " [1.00000000e+00 8.58723447e+10]\n",
      " [1.00000000e+00 9.47086660e+10]\n",
      " [1.00000000e+00 1.10000000e+11]\n",
      " [1.00000000e+00 1.36000000e+11]\n",
      " [1.00000000e+00 1.31000000e+11]\n",
      " [1.00000000e+00 1.35000000e+11]\n",
      " [1.00000000e+00 1.38000000e+11]\n",
      " [1.00000000e+00 1.56000000e+11]\n",
      " [1.00000000e+00 1.70000000e+11]\n",
      " [1.00000000e+00 1.98000000e+11]\n",
      " [1.00000000e+00 2.11000000e+11]\n",
      " [1.00000000e+00 2.16000000e+11]\n",
      " [1.00000000e+00 1.77000000e+11]\n",
      " [1.00000000e+00 2.30000000e+11]\n",
      " [1.00000000e+00 2.63000000e+11]\n",
      " [1.00000000e+00 2.78000000e+11]\n",
      " [1.00000000e+00 2.81000000e+11]\n",
      " [1.00000000e+00 2.96000000e+11]\n",
      " [1.00000000e+00 2.96000000e+11]\n",
      " [1.00000000e+00 2.94000000e+11]\n",
      " [1.00000000e+00 3.13000000e+11]\n",
      " [1.00000000e+00 3.46000000e+11]\n",
      " [1.00000000e+00 3.58000000e+11]]\n"
     ]
    }
   ],
   "source": [
    "X_optimzed = X[:, [0,3]]\n",
    "print(X_optimzed)"
   ]
  },
  {
   "cell_type": "code",
   "execution_count": 44,
   "metadata": {},
   "outputs": [],
   "source": [
    "# Re-run statistical significance testing and refitting the model\n",
    "regressor_OLS = sm.OLS(endog = y, exog= X_optimzed).fit()"
   ]
  },
  {
   "cell_type": "code",
   "execution_count": 45,
   "metadata": {},
   "outputs": [
    {
     "data": {
      "text/html": [
       "<table class=\"simpletable\">\n",
       "<caption>OLS Regression Results</caption>\n",
       "<tr>\n",
       "  <th>Dep. Variable:</th>            <td>y</td>        <th>  R-squared:         </th> <td>   0.507</td>\n",
       "</tr>\n",
       "<tr>\n",
       "  <th>Model:</th>                   <td>OLS</td>       <th>  Adj. R-squared:    </th> <td>   0.485</td>\n",
       "</tr>\n",
       "<tr>\n",
       "  <th>Method:</th>             <td>Least Squares</td>  <th>  F-statistic:       </th> <td>   22.64</td>\n",
       "</tr>\n",
       "<tr>\n",
       "  <th>Date:</th>             <td>Wed, 25 Mar 2020</td> <th>  Prob (F-statistic):</th> <td>9.47e-05</td>\n",
       "</tr>\n",
       "<tr>\n",
       "  <th>Time:</th>                 <td>23:29:35</td>     <th>  Log-Likelihood:    </th> <td> -450.93</td>\n",
       "</tr>\n",
       "<tr>\n",
       "  <th>No. Observations:</th>      <td>    24</td>      <th>  AIC:               </th> <td>   905.9</td>\n",
       "</tr>\n",
       "<tr>\n",
       "  <th>Df Residuals:</th>          <td>    22</td>      <th>  BIC:               </th> <td>   908.2</td>\n",
       "</tr>\n",
       "<tr>\n",
       "  <th>Df Model:</th>              <td>     1</td>      <th>                     </th>     <td> </td>   \n",
       "</tr>\n",
       "<tr>\n",
       "  <th>Covariance Type:</th>      <td>nonrobust</td>    <th>                     </th>     <td> </td>   \n",
       "</tr>\n",
       "</table>\n",
       "<table class=\"simpletable\">\n",
       "<tr>\n",
       "    <td></td>       <th>coef</th>     <th>std err</th>      <th>t</th>      <th>P>|t|</th>  <th>[0.025</th>    <th>0.975]</th>  \n",
       "</tr>\n",
       "<tr>\n",
       "  <th>const</th> <td> 3.911e+08</td> <td> 1.98e+07</td> <td>   19.767</td> <td> 0.000</td> <td>  3.5e+08</td> <td> 4.32e+08</td>\n",
       "</tr>\n",
       "<tr>\n",
       "  <th>x1</th>    <td>   -0.0004</td> <td> 8.82e-05</td> <td>   -4.758</td> <td> 0.000</td> <td>   -0.001</td> <td>   -0.000</td>\n",
       "</tr>\n",
       "</table>\n",
       "<table class=\"simpletable\">\n",
       "<tr>\n",
       "  <th>Omnibus:</th>       <td> 2.358</td> <th>  Durbin-Watson:     </th> <td>   0.434</td>\n",
       "</tr>\n",
       "<tr>\n",
       "  <th>Prob(Omnibus):</th> <td> 0.308</td> <th>  Jarque-Bera (JB):  </th> <td>   1.838</td>\n",
       "</tr>\n",
       "<tr>\n",
       "  <th>Skew:</th>          <td>-0.664</td> <th>  Prob(JB):          </th> <td>   0.399</td>\n",
       "</tr>\n",
       "<tr>\n",
       "  <th>Kurtosis:</th>      <td> 2.728</td> <th>  Cond. No.          </th> <td>5.95e+11</td>\n",
       "</tr>\n",
       "</table><br/><br/>Warnings:<br/>[1] Standard Errors assume that the covariance matrix of the errors is correctly specified.<br/>[2] The condition number is large, 5.95e+11. This might indicate that there are<br/>strong multicollinearity or other numerical problems."
      ],
      "text/plain": [
       "<class 'statsmodels.iolib.summary.Summary'>\n",
       "\"\"\"\n",
       "                            OLS Regression Results                            \n",
       "==============================================================================\n",
       "Dep. Variable:                      y   R-squared:                       0.507\n",
       "Model:                            OLS   Adj. R-squared:                  0.485\n",
       "Method:                 Least Squares   F-statistic:                     22.64\n",
       "Date:                Wed, 25 Mar 2020   Prob (F-statistic):           9.47e-05\n",
       "Time:                        23:29:35   Log-Likelihood:                -450.93\n",
       "No. Observations:                  24   AIC:                             905.9\n",
       "Df Residuals:                      22   BIC:                             908.2\n",
       "Df Model:                           1                                         \n",
       "Covariance Type:            nonrobust                                         \n",
       "==============================================================================\n",
       "                 coef    std err          t      P>|t|      [0.025      0.975]\n",
       "------------------------------------------------------------------------------\n",
       "const       3.911e+08   1.98e+07     19.767      0.000     3.5e+08    4.32e+08\n",
       "x1            -0.0004   8.82e-05     -4.758      0.000      -0.001      -0.000\n",
       "==============================================================================\n",
       "Omnibus:                        2.358   Durbin-Watson:                   0.434\n",
       "Prob(Omnibus):                  0.308   Jarque-Bera (JB):                1.838\n",
       "Skew:                          -0.664   Prob(JB):                        0.399\n",
       "Kurtosis:                       2.728   Cond. No.                     5.95e+11\n",
       "==============================================================================\n",
       "\n",
       "Warnings:\n",
       "[1] Standard Errors assume that the covariance matrix of the errors is correctly specified.\n",
       "[2] The condition number is large, 5.95e+11. This might indicate that there are\n",
       "strong multicollinearity or other numerical problems.\n",
       "\"\"\""
      ]
     },
     "execution_count": 45,
     "metadata": {},
     "output_type": "execute_result"
    }
   ],
   "source": [
    "# Running regression results\n",
    "regressor_OLS.summary()"
   ]
  },
  {
   "cell_type": "code",
   "execution_count": null,
   "metadata": {},
   "outputs": [],
   "source": []
  }
 ],
 "metadata": {
  "kernelspec": {
   "display_name": "Python 3",
   "language": "python",
   "name": "python3"
  },
  "language_info": {
   "codemirror_mode": {
    "name": "ipython",
    "version": 3
   },
   "file_extension": ".py",
   "mimetype": "text/x-python",
   "name": "python",
   "nbconvert_exporter": "python",
   "pygments_lexer": "ipython3",
   "version": "3.7.1"
  }
 },
 "nbformat": 4,
 "nbformat_minor": 2
}
