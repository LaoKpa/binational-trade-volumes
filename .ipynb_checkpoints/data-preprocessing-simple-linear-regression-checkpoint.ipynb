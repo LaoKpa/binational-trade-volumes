{
 "cells": [
  {
   "cell_type": "markdown",
   "metadata": {},
   "source": [
    "## Getting started with Data Pre-Processing"
   ]
  },
  {
   "cell_type": "code",
   "execution_count": 1,
   "metadata": {},
   "outputs": [],
   "source": [
    "#importing necessary libraries\n",
    "import numpy as np\n",
    "import matplotlib.pyplot as plt\n",
    "import pandas as pd"
   ]
  },
  {
   "cell_type": "code",
   "execution_count": 3,
   "metadata": {},
   "outputs": [
    {
     "data": {
      "text/html": [
       "<div>\n",
       "<style scoped>\n",
       "    .dataframe tbody tr th:only-of-type {\n",
       "        vertical-align: middle;\n",
       "    }\n",
       "\n",
       "    .dataframe tbody tr th {\n",
       "        vertical-align: top;\n",
       "    }\n",
       "\n",
       "    .dataframe thead th {\n",
       "        text-align: right;\n",
       "    }\n",
       "</style>\n",
       "<table border=\"1\" class=\"dataframe\">\n",
       "  <thead>\n",
       "    <tr style=\"text-align: right;\">\n",
       "      <th></th>\n",
       "      <th>imports</th>\n",
       "      <th>exports</th>\n",
       "    </tr>\n",
       "  </thead>\n",
       "  <tbody>\n",
       "    <tr>\n",
       "      <th>0</th>\n",
       "      <td>7.296319e+10</td>\n",
       "      <td>5.468587e+10</td>\n",
       "    </tr>\n",
       "    <tr>\n",
       "      <th>1</th>\n",
       "      <td>8.587234e+10</td>\n",
       "      <td>6.839322e+10</td>\n",
       "    </tr>\n",
       "    <tr>\n",
       "      <th>2</th>\n",
       "      <td>9.470867e+10</td>\n",
       "      <td>7.536930e+10</td>\n",
       "    </tr>\n",
       "    <tr>\n",
       "      <th>3</th>\n",
       "      <td>1.097060e+11</td>\n",
       "      <td>8.138074e+10</td>\n",
       "    </tr>\n",
       "    <tr>\n",
       "      <th>4</th>\n",
       "      <td>1.359110e+11</td>\n",
       "      <td>1.004420e+11</td>\n",
       "    </tr>\n",
       "  </tbody>\n",
       "</table>\n",
       "</div>"
      ],
      "text/plain": [
       "        imports       exports\n",
       "0  7.296319e+10  5.468587e+10\n",
       "1  8.587234e+10  6.839322e+10\n",
       "2  9.470867e+10  7.536930e+10\n",
       "3  1.097060e+11  8.138074e+10\n",
       "4  1.359110e+11  1.004420e+11"
      ]
     },
     "execution_count": 3,
     "metadata": {},
     "output_type": "execute_result"
    }
   ],
   "source": [
    "#importing the dataset with two variables for simple linear regression warm-up\n",
    "df = pd.read_csv(\"./data/usitc/import-export-yearJOIN.csv\")\n",
    "df.head()"
   ]
  },
  {
   "cell_type": "code",
   "execution_count": 4,
   "metadata": {},
   "outputs": [
    {
     "name": "stdout",
     "output_type": "stream",
     "text": [
      "[[7.29631894e+10]\n",
      " [8.58723447e+10]\n",
      " [9.47086660e+10]\n",
      " [1.09706000e+11]\n",
      " [1.35911000e+11]\n",
      " [1.31433000e+11]\n",
      " [1.34732000e+11]\n",
      " [1.38073000e+11]\n",
      " [1.55846000e+11]\n",
      " [1.70198000e+11]\n",
      " [1.98259000e+11]\n",
      " [2.10799000e+11]\n",
      " [2.15915000e+11]\n",
      " [1.76537000e+11]\n",
      " [2.29986000e+11]\n",
      " [2.62874000e+11]\n",
      " [2.77594000e+11]\n",
      " [2.80556000e+11]\n",
      " [2.95730000e+11]\n",
      " [2.96433000e+11]\n",
      " [2.93501000e+11]\n",
      " [3.12809000e+11]\n",
      " [3.46101000e+11]\n",
      " [3.58126000e+11]]\n",
      "[5.46858652e+10 6.83932194e+10 7.53693001e+10 8.13807402e+10\n",
      " 1.00442000e+11 9.05374338e+10 8.60760818e+10 8.31080960e+10\n",
      " 9.30177032e+10 1.01667000e+11 1.14562000e+11 1.19381000e+11\n",
      " 1.31507000e+11 1.05718000e+11 1.31818000e+11 1.59947000e+11\n",
      " 1.74833000e+11 1.81559000e+11 1.93345000e+11 1.85992000e+11\n",
      " 1.76692000e+11 1.87136000e+11 2.03980000e+11 1.95503000e+11]\n"
     ]
    }
   ],
   "source": [
    "# Building matrix and vector\n",
    "# X matrix or independent variable\n",
    "# Y vector is dependent\n",
    "X =df.iloc[:,:-1].values #imports\n",
    "y = df.iloc[:,1].values #exports\n",
    "print(X)\n",
    "print(y)"
   ]
  },
  {
   "cell_type": "code",
   "execution_count": 5,
   "metadata": {},
   "outputs": [
    {
     "name": "stdout",
     "output_type": "stream",
     "text": [
      "24\n",
      "24\n"
     ]
    }
   ],
   "source": [
    "# Reviewing size of the matrix and vector respectively\n",
    "print(X.size)\n",
    "print(y.size)"
   ]
  },
  {
   "cell_type": "code",
   "execution_count": 6,
   "metadata": {},
   "outputs": [],
   "source": [
    "# Splitting the dataset into training set and test set\n",
    "# 80% - 20% split according to what is generally recommended\n",
    "\n",
    "from sklearn.model_selection import train_test_split\n",
    "X_train, X_test, y_train, y_test = train_test_split(X, y, test_size =0.2, random_state =0)"
   ]
  },
  {
   "cell_type": "code",
   "execution_count": 5,
   "metadata": {},
   "outputs": [],
   "source": [
    "# a note on feature scaling, for this dataset it is not necessary given similar values"
   ]
  },
  {
   "cell_type": "markdown",
   "metadata": {},
   "source": [
    "# Starting simple linear regression\n",
    "### Imports as the independent variable, exports as the dependent variable"
   ]
  },
  {
   "cell_type": "code",
   "execution_count": 7,
   "metadata": {},
   "outputs": [
    {
     "data": {
      "text/plain": [
       "LinearRegression(copy_X=True, fit_intercept=True, n_jobs=None,\n",
       "         normalize=False)"
      ]
     },
     "execution_count": 7,
     "metadata": {},
     "output_type": "execute_result"
    }
   ],
   "source": [
    "from sklearn.linear_model import LinearRegression\n",
    "# create an object of the LinearRegression class\n",
    "regressor = LinearRegression()\n",
    "# fit regressor object to the training set using the fit method\n",
    "regressor.fit(X_train, y_train)"
   ]
  },
  {
   "cell_type": "code",
   "execution_count": 8,
   "metadata": {},
   "outputs": [],
   "source": [
    "# Predicting the Test set results\n",
    "# Vector of predicted values, creates predictions of exports\n",
    "y_pred = regressor.predict(X_test) "
   ]
  },
  {
   "cell_type": "code",
   "execution_count": 9,
   "metadata": {},
   "outputs": [
    {
     "data": {
      "image/png": "[encoded data removed]",
      "text/plain": [
       "<Figure size 432x288 with 1 Axes>"
      ]
     },
     "metadata": {
      "needs_background": "light"
     },
     "output_type": "display_data"
    }
   ],
   "source": [
    "# Visualising the Training set results\n",
    "plt.scatter(X_train, y_train, color = 'blue')\n",
    "plt.plot(X_train, regressor.predict(X_train), color = 'green')\n",
    "plt.title('Import vs. Exports (Training set)')\n",
    "plt.xlabel('IMPORTS')\n",
    "plt.ylabel('EXPORTS')\n",
    "plt.show()"
   ]
  },
  {
   "cell_type": "code",
   "execution_count": 27,
   "metadata": {},
   "outputs": [],
   "source": [
    "np.set_printoptions(suppress=True)"
   ]
  },
  {
   "cell_type": "code",
   "execution_count": 18,
   "metadata": {},
   "outputs": [
    {
     "data": {
      "text/plain": [
       "array([,85872344740.0, ,176537000000.0, ,358126000000.0, ,277594000000.0,\n",
       "       ,155846000000.0, ,134732000000.0, ,280556000000.0, ,135911000000.0,\n",
       "       ,94708666043.0, ,131433000000.0, ,295730000000.0, ,170198000000.0,\n",
       "       ,138073000000.0, ,296433000000.0, ,109706000000.0, ,72963189408.0,\n",
       "       ,312809000000.0, ,262874000000.0, ,215915000000.0])"
      ]
     },
     "execution_count": 18,
     "metadata": {},
     "output_type": "execute_result"
    },
    {
     "data": {
      "image/png": "[encoded data removed]",
      "text/plain": [
       "<Figure size 432x288 with 1 Axes>"
      ]
     },
     "metadata": {
      "needs_background": "light"
     },
     "output_type": "display_data"
    }
   ],
   "source": [
    "plt.plot(X_train, regressor.predict(X_train), color = 'green')\n",
    "ax = plt.gca() # get axis handle\n",
    "line = ax.lines[0] # get the first line, there might be more\n",
    "line.get_xdata()\n",
    "\n",
    "# test= line.get_xydata()\n",
    "# print(test)\n"
   ]
  },
  {
   "cell_type": "code",
   "execution_count": 19,
   "metadata": {},
   "outputs": [
    {
     "data": {
      "text/plain": [
       "array([,63843103776.490814, ,113544987344.22389, ,213091114876.492,\n",
       "       ,168943899227.80945, ,102202290788.98013, ,90627707875.27771,\n",
       "       ,170567651931.72092, ,91274029427.57738, ,68687128289.78476,\n",
       "       ,88819213557.18051, ,178885958322.38684, ,110069981135.54909,\n",
       "       ,92459226370.81052, ,179271339197.08292, ,76908587291.85834,\n",
       "       ,56766373231.066086, ,188248575618.168, ,160874473231.32846,\n",
       "       ,135131798274.21223])"
      ]
     },
     "execution_count": 19,
     "metadata": {},
     "output_type": "execute_result"
    }
   ],
   "source": [
    "line.get_ydata()"
   ]
  },
  {
   "cell_type": "code",
   "execution_count": 20,
   "metadata": {},
   "outputs": [
    {
     "data": {
      "text/plain": [
       "array([[,85872344740.0, ,63843103776.490814],\n",
       "       [,176537000000.0, ,113544987344.22389],\n",
       "       [,358126000000.0, ,213091114876.492],\n",
       "       [,277594000000.0, ,168943899227.80945],\n",
       "       [,155846000000.0, ,102202290788.98013],\n",
       "       [,134732000000.0, ,90627707875.27771],\n",
       "       [,280556000000.0, ,170567651931.72092],\n",
       "       [,135911000000.0, ,91274029427.57738],\n",
       "       [,94708666043.0, ,68687128289.78476],\n",
       "       [,131433000000.0, ,88819213557.18051],\n",
       "       [,295730000000.0, ,178885958322.38684],\n",
       "       [,170198000000.0, ,110069981135.54909],\n",
       "       [,138073000000.0, ,92459226370.81052],\n",
       "       [,296433000000.0, ,179271339197.08292],\n",
       "       [,109706000000.0, ,76908587291.85834],\n",
       "       [,72963189408.0, ,56766373231.066086],\n",
       "       [,312809000000.0, ,188248575618.168],\n",
       "       [,262874000000.0, ,160874473231.32846],\n",
       "       [,215915000000.0, ,135131798274.21223]])"
      ]
     },
     "execution_count": 20,
     "metadata": {},
     "output_type": "execute_result"
    }
   ],
   "source": [
    "line.get_xydata()"
   ]
  },
  {
   "cell_type": "code",
   "execution_count": 15,
   "metadata": {},
   "outputs": [
    {
     "name": "stdout",
     "output_type": "stream",
     "text": [
      "[[,85872344740.0 ,63843103776.490814]\n",
      " [,176537000000.0 ,113544987344.22389]\n",
      " [,358126000000.0 ,213091114876.492]\n",
      " [,277594000000.0 ,168943899227.80945]\n",
      " [,155846000000.0 ,102202290788.98013]\n",
      " [,134732000000.0 ,90627707875.27771]\n",
      " [,280556000000.0 ,170567651931.72092]\n",
      " [,135911000000.0 ,91274029427.57738]\n",
      " [,94708666043.0 ,68687128289.78476]\n",
      " [,131433000000.0 ,88819213557.18051]\n",
      " [,295730000000.0 ,178885958322.38684]\n",
      " [,170198000000.0 ,110069981135.54909]\n",
      " [,138073000000.0 ,92459226370.81052]\n",
      " [,296433000000.0 ,179271339197.08292]\n",
      " [,109706000000.0 ,76908587291.85834]\n",
      " [,72963189408.0 ,56766373231.066086]\n",
      " [,312809000000.0 ,188248575618.168]\n",
      " [,262874000000.0 ,160874473231.32846]\n",
      " [,215915000000.0 ,135131798274.21223]]\n"
     ]
    }
   ],
   "source": [
    "# np.set_printoptions(suppress=True)\n",
    "# np.set_printoptions(formatter={'all':lambda x:\",\"+ str(x)})\n",
    "np.set_printoptions(formatter={'all':lambda x:\",\"+ str(x)})\n",
    "print(test)"
   ]
  },
  {
   "cell_type": "code",
   "execution_count": 39,
   "metadata": {},
   "outputs": [
    {
     "name": "stdout",
     "output_type": "stream",
     "text": [
      "85872344740.0\n",
      "176537000000.0\n",
      "358126000000.0\n",
      "277594000000.0\n",
      "155846000000.0\n",
      "134732000000.0\n",
      "280556000000.0\n",
      "135911000000.0\n",
      "94708666043.0\n",
      "131433000000.0\n",
      "295730000000.0\n",
      "170198000000.0\n",
      "138073000000.0\n",
      "296433000000.0\n",
      "109706000000.0\n",
      "72963189408.0\n",
      "312809000000.0\n",
      "262874000000.0\n",
      "215915000000.0\n"
     ]
    }
   ],
   "source": [
    "for item in test:\n",
    "    print(max(item))"
   ]
  },
  {
   "cell_type": "code",
   "execution_count": 26,
   "metadata": {
    "scrolled": true
   },
   "outputs": [
    {
     "data": {
      "text/plain": [
       "array([,85872344740.0, ,176537000000.0, ,358126000000.0, ,277594000000.0,\n",
       "       ,155846000000.0, ,134732000000.0, ,280556000000.0, ,135911000000.0,\n",
       "       ,94708666043.0, ,131433000000.0, ,295730000000.0, ,170198000000.0,\n",
       "       ,138073000000.0, ,296433000000.0, ,109706000000.0, ,72963189408.0,\n",
       "       ,312809000000.0, ,262874000000.0, ,215915000000.0])"
      ]
     },
     "execution_count": 26,
     "metadata": {},
     "output_type": "execute_result"
    },
    {
     "data": {
      "image/png": "[encoded data removed]",
      "text/plain": [
       "<Figure size 432x288 with 1 Axes>"
      ]
     },
     "metadata": {
      "needs_background": "light"
     },
     "output_type": "display_data"
    }
   ],
   "source": [
    "plt.plot(X_train, y_train, color = 'blue')\n",
    "ax = plt.gca() # get axis handle\n",
    "line = ax.lines[0] # get the first line, there might be more\n",
    "line.get_xdata()"
   ]
  },
  {
   "cell_type": "code",
   "execution_count": 33,
   "metadata": {},
   "outputs": [
    {
     "data": {
      "image/png": "[encoded data removed]",
      "text/plain": [
       "<Figure size 432x288 with 1 Axes>"
      ]
     },
     "metadata": {
      "needs_background": "light"
     },
     "output_type": "display_data"
    }
   ],
   "source": [
    "# Visualising the Test set results\n",
    "plt.scatter(X_test, y_test, color = 'blue')\n",
    "plt.plot(X_train, regressor.predict(X_train), color = 'green')\n",
    "plt.title('Import vs. Export (Test set)')\n",
    "plt.xlabel('IMPORTS')\n",
    "plt.ylabel('EXPORTS')\n",
    "plt.show()"
   ]
  },
  {
   "cell_type": "markdown",
   "metadata": {},
   "source": [
    "### Visualization Test for Travel, Imports, Exports"
   ]
  },
  {
   "cell_type": "code",
   "execution_count": 198,
   "metadata": {},
   "outputs": [
    {
     "data": {
      "text/html": [
       "<div>\n",
       "<style scoped>\n",
       "    .dataframe tbody tr th:only-of-type {\n",
       "        vertical-align: middle;\n",
       "    }\n",
       "\n",
       "    .dataframe tbody tr th {\n",
       "        vertical-align: top;\n",
       "    }\n",
       "\n",
       "    .dataframe thead th {\n",
       "        text-align: right;\n",
       "    }\n",
       "</style>\n",
       "<table border=\"1\" class=\"dataframe\">\n",
       "  <thead>\n",
       "    <tr style=\"text-align: right;\">\n",
       "      <th></th>\n",
       "      <th>year</th>\n",
       "      <th>exports</th>\n",
       "      <th>imports</th>\n",
       "      <th>travel</th>\n",
       "    </tr>\n",
       "  </thead>\n",
       "  <tbody>\n",
       "    <tr>\n",
       "      <th>0</th>\n",
       "      <td>1996.0</td>\n",
       "      <td>5.468587e+10</td>\n",
       "      <td>7.296319e+10</td>\n",
       "      <td>276751448.0</td>\n",
       "    </tr>\n",
       "    <tr>\n",
       "      <th>1</th>\n",
       "      <td>1997.0</td>\n",
       "      <td>6.839322e+10</td>\n",
       "      <td>8.587234e+10</td>\n",
       "      <td>348661488.0</td>\n",
       "    </tr>\n",
       "    <tr>\n",
       "      <th>2</th>\n",
       "      <td>1998.0</td>\n",
       "      <td>7.536930e+10</td>\n",
       "      <td>9.470867e+10</td>\n",
       "      <td>366296614.0</td>\n",
       "    </tr>\n",
       "    <tr>\n",
       "      <th>3</th>\n",
       "      <td>1999.0</td>\n",
       "      <td>8.138074e+10</td>\n",
       "      <td>1.097060e+11</td>\n",
       "      <td>391959396.0</td>\n",
       "    </tr>\n",
       "    <tr>\n",
       "      <th>4</th>\n",
       "      <td>2000.0</td>\n",
       "      <td>1.000000e+11</td>\n",
       "      <td>1.359110e+11</td>\n",
       "      <td>392231869.0</td>\n",
       "    </tr>\n",
       "  </tbody>\n",
       "</table>\n",
       "</div>"
      ],
      "text/plain": [
       "     year       exports       imports       travel\n",
       "0  1996.0  5.468587e+10  7.296319e+10  276751448.0\n",
       "1  1997.0  6.839322e+10  8.587234e+10  348661488.0\n",
       "2  1998.0  7.536930e+10  9.470867e+10  366296614.0\n",
       "3  1999.0  8.138074e+10  1.097060e+11  391959396.0\n",
       "4  2000.0  1.000000e+11  1.359110e+11  392231869.0"
      ]
     },
     "execution_count": 198,
     "metadata": {},
     "output_type": "execute_result"
    }
   ],
   "source": [
    "newdf = pd.read_csv(\"./data/usitc/tradeVariables.csv\")\n",
    "newdf.head()"
   ]
  },
  {
   "cell_type": "code",
   "execution_count": 201,
   "metadata": {},
   "outputs": [
    {
     "data": {
      "image/png": "[encoded data removed]",
      "text/plain": [
       "<Figure size 432x288 with 1 Axes>"
      ]
     },
     "metadata": {
      "needs_background": "light"
     },
     "output_type": "display_data"
    }
   ],
   "source": [
    "# testing quick visualization\n",
    "plt.plot(newdf[\"year\"],newdf[\"travel\"], color = 'blue') #travel\n",
    "plt.plot(newdf[\"year\"],newdf[\"imports\"],color=\"green\") #imports\n",
    "plt.plot(newdf[\"year\"],newdf[\"exports\"], color=\"red\") #exports\n",
    "plt.title('Visualizing All Values')\n",
    "plt.xlabel('Year')\n",
    "plt.ylabel('Value')\n",
    "plt.show()"
   ]
  },
  {
   "cell_type": "code",
   "execution_count": 202,
   "metadata": {},
   "outputs": [
    {
     "data": {
      "image/png": "[encoded data removed]",
      "text/plain": [
       "<Figure size 432x288 with 1 Axes>"
      ]
     },
     "metadata": {
      "needs_background": "light"
     },
     "output_type": "display_data"
    }
   ],
   "source": [
    "# visualizing just the travel component\n",
    "plt.plot(newdf[\"year\"],newdf[\"travel\"], color =\"blue\")\n",
    "plt.show()"
   ]
  },
  {
   "cell_type": "markdown",
   "metadata": {},
   "source": [
    "## Simple Linear Regression for Imports and Movement\n",
    "###### testing posibility though unlikely"
   ]
  },
  {
   "cell_type": "code",
   "execution_count": 119,
   "metadata": {},
   "outputs": [
    {
     "data": {
      "text/plain": [
       "(25, 2)"
      ]
     },
     "execution_count": 119,
     "metadata": {},
     "output_type": "execute_result"
    }
   ],
   "source": [
    "# buildling custom data frame\n",
    "# imports and movement\n",
    "im = newdf[[\"travel\",\"imports\"]].copy()\n",
    "im.shape"
   ]
  },
  {
   "cell_type": "code",
   "execution_count": 120,
   "metadata": {},
   "outputs": [
    {
     "data": {
      "text/html": [
       "<div>\n",
       "<style scoped>\n",
       "    .dataframe tbody tr th:only-of-type {\n",
       "        vertical-align: middle;\n",
       "    }\n",
       "\n",
       "    .dataframe tbody tr th {\n",
       "        vertical-align: top;\n",
       "    }\n",
       "\n",
       "    .dataframe thead th {\n",
       "        text-align: right;\n",
       "    }\n",
       "</style>\n",
       "<table border=\"1\" class=\"dataframe\">\n",
       "  <thead>\n",
       "    <tr style=\"text-align: right;\">\n",
       "      <th></th>\n",
       "      <th>travel</th>\n",
       "      <th>imports</th>\n",
       "    </tr>\n",
       "  </thead>\n",
       "  <tbody>\n",
       "    <tr>\n",
       "      <th>20</th>\n",
       "      <td>273532405.0</td>\n",
       "      <td>2.935010e+11</td>\n",
       "    </tr>\n",
       "    <tr>\n",
       "      <th>21</th>\n",
       "      <td>278703002.0</td>\n",
       "      <td>3.128090e+11</td>\n",
       "    </tr>\n",
       "    <tr>\n",
       "      <th>22</th>\n",
       "      <td>283743197.0</td>\n",
       "      <td>3.461010e+11</td>\n",
       "    </tr>\n",
       "    <tr>\n",
       "      <th>23</th>\n",
       "      <td>275538145.0</td>\n",
       "      <td>3.581260e+11</td>\n",
       "    </tr>\n",
       "    <tr>\n",
       "      <th>24</th>\n",
       "      <td>NaN</td>\n",
       "      <td>NaN</td>\n",
       "    </tr>\n",
       "  </tbody>\n",
       "</table>\n",
       "</div>"
      ],
      "text/plain": [
       "         travel       imports\n",
       "20  273532405.0  2.935010e+11\n",
       "21  278703002.0  3.128090e+11\n",
       "22  283743197.0  3.461010e+11\n",
       "23  275538145.0  3.581260e+11\n",
       "24          NaN           NaN"
      ]
     },
     "execution_count": 120,
     "metadata": {},
     "output_type": "execute_result"
    }
   ],
   "source": [
    "im.tail()"
   ]
  },
  {
   "cell_type": "code",
   "execution_count": 121,
   "metadata": {},
   "outputs": [],
   "source": [
    "# dropping last row of null values\n",
    "im.drop(im.tail(1).index,inplace=True)"
   ]
  },
  {
   "cell_type": "code",
   "execution_count": 185,
   "metadata": {
    "scrolled": true
   },
   "outputs": [
    {
     "name": "stdout",
     "output_type": "stream",
     "text": [
      "[[2.76751448e+08]\n",
      " [3.48661488e+08]\n",
      " [3.66296614e+08]\n",
      " [3.91959396e+08]\n",
      " [3.92231869e+08]\n",
      " [3.62991511e+08]\n",
      " [3.52870123e+08]\n",
      " [3.43654239e+08]\n",
      " [3.43524676e+08]\n",
      " [3.36990567e+08]\n",
      " [3.27588026e+08]\n",
      " [3.10095754e+08]\n",
      " [2.95921230e+08]\n",
      " [2.64450245e+08]\n",
      " [2.42776894e+08]\n",
      " [2.25541089e+08]\n",
      " [2.32999664e+08]\n",
      " [2.43982227e+08]\n",
      " [2.54746277e+08]\n",
      " [2.67663436e+08]\n",
      " [2.73532405e+08]\n",
      " [2.78703002e+08]\n",
      " [2.83743197e+08]\n",
      " [2.75538145e+08]]\n",
      "[7.29631894e+10 8.58723447e+10 9.47086660e+10 1.09706000e+11\n",
      " 1.35911000e+11 1.31433000e+11 1.34732000e+11 1.38073000e+11\n",
      " 1.55846000e+11 1.70198000e+11 1.98259000e+11 2.10799000e+11\n",
      " 2.15915000e+11 1.76537000e+11 2.29986000e+11 2.62874000e+11\n",
      " 2.77594000e+11 2.80556000e+11 2.95730000e+11 2.96433000e+11\n",
      " 2.93501000e+11 3.12809000e+11 3.46101000e+11 3.58126000e+11]\n"
     ]
    }
   ],
   "source": [
    "# create matrix for independent variable and vector for dependent variable\n",
    "X1 = im.iloc[:,:-1].values\n",
    "y1 = im.iloc[:,1].values\n",
    "\n",
    "print(X1)\n",
    "print(y1)"
   ]
  },
  {
   "cell_type": "code",
   "execution_count": 123,
   "metadata": {},
   "outputs": [
    {
     "name": "stdout",
     "output_type": "stream",
     "text": [
      "24\n"
     ]
    }
   ],
   "source": [
    "print(X1.size)"
   ]
  },
  {
   "cell_type": "code",
   "execution_count": 124,
   "metadata": {},
   "outputs": [
    {
     "name": "stdout",
     "output_type": "stream",
     "text": [
      "24\n"
     ]
    }
   ],
   "source": [
    "print(y1.size)"
   ]
  },
  {
   "cell_type": "code",
   "execution_count": 186,
   "metadata": {},
   "outputs": [],
   "source": [
    "X1_train, X1_test, y1_train, y1_test = train_test_split(X1,y1, test_size =0.2, random_state=0)"
   ]
  },
  {
   "cell_type": "code",
   "execution_count": 130,
   "metadata": {},
   "outputs": [],
   "source": [
    "# Feature scaling for travel and import variables to control for Euclidean distance\n",
    "# Leveraing standardization\n",
    "# Variables in same range and same scale\n",
    "\n",
    "# Import relevant libraries\n",
    "from sklearn.preprocessing import StandardScaler\n",
    "# sc_X1 = StandardScaler()\n",
    "# X1_train = sc_X1.fit_transform(X1_train)\n",
    "# X1_test = sc_X1.transform(X1_test)\n",
    "# sc_y1 = StandardScaler()\n",
    "# y1_train = sc_y1.fit_transform(y1_train.reshape(-1,1))"
   ]
  },
  {
   "cell_type": "code",
   "execution_count": 187,
   "metadata": {},
   "outputs": [],
   "source": [
    "## min-max scaling\n",
    "from sklearn.preprocessing import MinMaxScaler\n",
    "scaler = MinMaxScaler()\n",
    "X1_train=scaler.fit_transform(X1_train)\n"
   ]
  },
  {
   "cell_type": "code",
   "execution_count": 152,
   "metadata": {},
   "outputs": [],
   "source": [
    "# Binarizing\n",
    "# from sklearn import preprocessing\n",
    "# X1_train=preprocessing.Binarizer(0.0).fit(X1_train).transform(X1_train)"
   ]
  },
  {
   "cell_type": "code",
   "execution_count": 169,
   "metadata": {},
   "outputs": [],
   "source": [
    "# from sklearn import preprocessing\n",
    "# X1_train = preprocessing.Normalizer().fit(X1_train).transform(X1_train)"
   ]
  },
  {
   "cell_type": "code",
   "execution_count": 188,
   "metadata": {},
   "outputs": [
    {
     "name": "stdout",
     "output_type": "stream",
     "text": [
      "[[0.73861553]\n",
      " [0.23342116]\n",
      " [0.29993894]\n",
      " [0.04474498]\n",
      " [0.70779912]\n",
      " [0.76386369]\n",
      " [0.11063082]\n",
      " [1.        ]\n",
      " [0.84441098]\n",
      " [0.82458323]\n",
      " [0.17520578]\n",
      " [0.66860013]\n",
      " [0.70857638]\n",
      " [0.25269752]\n",
      " [0.9983654 ]\n",
      " [0.30721771]\n",
      " [0.31892534]\n",
      " [0.        ]\n",
      " [0.42221976]]\n"
     ]
    }
   ],
   "source": [
    "print(X1_train)"
   ]
  },
  {
   "cell_type": "code",
   "execution_count": 189,
   "metadata": {},
   "outputs": [
    {
     "data": {
      "text/plain": [
       "LinearRegression(copy_X=True, fit_intercept=True, n_jobs=None,\n",
       "         normalize=False)"
      ]
     },
     "execution_count": 189,
     "metadata": {},
     "output_type": "execute_result"
    }
   ],
   "source": [
    "regressorIM= LinearRegression()\n",
    "regressorIM.fit(X1_train, y1_train)"
   ]
  },
  {
   "cell_type": "code",
   "execution_count": 190,
   "metadata": {},
   "outputs": [],
   "source": [
    "# Predicting Test Set Results for travel values\n",
    "y1_pred = regressorIM.predict(X1_test)"
   ]
  },
  {
   "cell_type": "code",
   "execution_count": 191,
   "metadata": {},
   "outputs": [
    {
     "data": {
      "image/png": "[encoded data removed]",
      "text/plain": [
       "<Figure size 432x288 with 1 Axes>"
      ]
     },
     "metadata": {
      "needs_background": "light"
     },
     "output_type": "display_data"
    }
   ],
   "source": [
    "# Visualising the Training set results for Imports and Travel\n",
    "plt.scatter(X1_train, y1_train, color = 'blue')\n",
    "plt.plot(X1_train, regressor.predict(X1_train), color = 'green')\n",
    "plt.title('Imports vs. Travel Values (Training set)')\n",
    "plt.xlabel('Imports')\n",
    "plt.ylabel('Travel')\n",
    "plt.show()"
   ]
  },
  {
   "cell_type": "code",
   "execution_count": 192,
   "metadata": {},
   "outputs": [
    {
     "data": {
      "image/png": "[encoded data removed]",
      "text/plain": [
       "<Figure size 432x288 with 1 Axes>"
      ]
     },
     "metadata": {
      "needs_background": "light"
     },
     "output_type": "display_data"
    }
   ],
   "source": [
    "plt.scatter(X1_test, y1_test, color = 'blue')\n",
    "plt.plot(X1_train, regressor.predict(X1_train), color = 'green')\n",
    "plt.title('Imports vs. Travel Values (Test set)')\n",
    "plt.xlabel('Imports')\n",
    "plt.ylabel('Travel')\n",
    "plt.show()"
   ]
  },
  {
   "cell_type": "code",
   "execution_count": 72,
   "metadata": {},
   "outputs": [],
   "source": [
    "## Need to Feature Scale"
   ]
  },
  {
   "cell_type": "code",
   "execution_count": null,
   "metadata": {},
   "outputs": [],
   "source": []
  }
 ],
 "metadata": {
  "kernelspec": {
   "display_name": "Python 3",
   "language": "python",
   "name": "python3"
  },
  "language_info": {
   "codemirror_mode": {
    "name": "ipython",
    "version": 3
   },
   "file_extension": ".py",
   "mimetype": "text/x-python",
   "name": "python",
   "nbconvert_exporter": "python",
   "pygments_lexer": "ipython3",
   "version": "3.7.1"
  }
 },
 "nbformat": 4,
 "nbformat_minor": 2
}
