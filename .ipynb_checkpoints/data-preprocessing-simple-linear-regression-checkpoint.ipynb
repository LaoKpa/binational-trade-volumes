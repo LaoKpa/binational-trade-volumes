{
 "cells": [
  {
   "cell_type": "markdown",
   "metadata": {},
   "source": [
    "## Getting started with Data Pre-Processing"
   ]
  },
  {
   "cell_type": "code",
   "execution_count": 22,
   "metadata": {},
   "outputs": [],
   "source": [
    "#importing necessary libraries\n",
    "import numpy as np\n",
    "import matplotlib.pyplot as plt\n",
    "import pandas as pd"
   ]
  },
  {
   "cell_type": "code",
   "execution_count": 23,
   "metadata": {},
   "outputs": [
    {
     "data": {
      "text/html": [
       "<div>\n",
       "<style scoped>\n",
       "    .dataframe tbody tr th:only-of-type {\n",
       "        vertical-align: middle;\n",
       "    }\n",
       "\n",
       "    .dataframe tbody tr th {\n",
       "        vertical-align: top;\n",
       "    }\n",
       "\n",
       "    .dataframe thead th {\n",
       "        text-align: right;\n",
       "    }\n",
       "</style>\n",
       "<table border=\"1\" class=\"dataframe\">\n",
       "  <thead>\n",
       "    <tr style=\"text-align: right;\">\n",
       "      <th></th>\n",
       "      <th>imports</th>\n",
       "      <th>exports</th>\n",
       "    </tr>\n",
       "  </thead>\n",
       "  <tbody>\n",
       "    <tr>\n",
       "      <th>0</th>\n",
       "      <td>72,963,189,408</td>\n",
       "      <td>54,685,865,249</td>\n",
       "    </tr>\n",
       "    <tr>\n",
       "      <th>1</th>\n",
       "      <td>85,872,344,740</td>\n",
       "      <td>68,393,219,447</td>\n",
       "    </tr>\n",
       "    <tr>\n",
       "      <th>2</th>\n",
       "      <td>94,708,666,043</td>\n",
       "      <td>75,369,300,051</td>\n",
       "    </tr>\n",
       "    <tr>\n",
       "      <th>3</th>\n",
       "      <td>109,706,486,039</td>\n",
       "      <td>81,380,740,167</td>\n",
       "    </tr>\n",
       "    <tr>\n",
       "      <th>4</th>\n",
       "      <td>135,910,533,679</td>\n",
       "      <td>100,442,093,551</td>\n",
       "    </tr>\n",
       "  </tbody>\n",
       "</table>\n",
       "</div>"
      ],
      "text/plain": [
       "           imports          exports\n",
       "0   72,963,189,408   54,685,865,249\n",
       "1   85,872,344,740   68,393,219,447\n",
       "2   94,708,666,043   75,369,300,051\n",
       "3  109,706,486,039   81,380,740,167\n",
       "4  135,910,533,679  100,442,093,551"
      ]
     },
     "execution_count": 23,
     "metadata": {},
     "output_type": "execute_result"
    }
   ],
   "source": [
    "#importing the dataset with two variables for simple linear regression warm-up\n",
    "df = pd.read_csv(\"./data/usitc/import-export-yearJOIN.csv\")\n",
    "df.head()"
   ]
  },
  {
   "cell_type": "code",
   "execution_count": 25,
   "metadata": {},
   "outputs": [
    {
     "name": "stdout",
     "output_type": "stream",
     "text": [
      "[['72,963,189,408']\n",
      " ['85,872,344,740']\n",
      " ['94,708,666,043']\n",
      " ['109,706,486,039']\n",
      " ['135,910,533,679']\n",
      " ['131,432,956,779']\n",
      " ['134,732,185,087']\n",
      " ['138,073,296,952']\n",
      " ['155,845,665,796']\n",
      " ['170,197,883,805']\n",
      " ['198,258,639,178']\n",
      " ['210,799,020,880']\n",
      " ['215,914,854,328']\n",
      " ['176,537,048,132']\n",
      " ['229,985,623,006']\n",
      " ['262,873,595,958']\n",
      " ['277,593,639,546']\n",
      " ['280,556,040,242']\n",
      " ['295,729,962,846']\n",
      " ['296,433,325,024']\n",
      " ['293,500,606,660']\n",
      " ['312,808,758,044']\n",
      " ['346,100,585,788']\n",
      " ['358,126,005,418']]\n",
      "['54,685,865,249' '68,393,219,447' '75,369,300,051' '81,380,740,167'\n",
      " '100,442,093,551' '90,537,433,805' '86,076,081,837' '83,108,095,962'\n",
      " '93,017,703,250' '101,666,660,721' '114,562,325,618' '119,381,113,659'\n",
      " '131,507,405,077' '105,717,657,221' '131,817,848,197' '159,946,770,263'\n",
      " '174,832,639,247' '181,558,730,512' '193,345,359,115' '185,992,248,190'\n",
      " '176,692,129,964' '187,135,652,658' '203,980,108,492' '195,503,311,311']\n"
     ]
    }
   ],
   "source": [
    "# Building matrix and vector\n",
    "# X matrix or independent variable\n",
    "# Y vector is dependent\n",
    "X =df.iloc[:,:-1].values\n",
    "Y = df.iloc[:,1].values\n",
    "print(X)\n",
    "print(Y)"
   ]
  },
  {
   "cell_type": "code",
   "execution_count": 26,
   "metadata": {},
   "outputs": [
    {
     "name": "stdout",
     "output_type": "stream",
     "text": [
      "24\n",
      "24\n"
     ]
    }
   ],
   "source": [
    "# Reviewing size of the matrix and vector respectively\n",
    "print(X.size)\n",
    "print(Y.size)"
   ]
  },
  {
   "cell_type": "code",
   "execution_count": 4,
   "metadata": {},
   "outputs": [],
   "source": [
    "# Splitting the dataset into training set and test set\n",
    "# 80% - 20% split according to what is generally recommended\n",
    "\n"
   ]
  },
  {
   "cell_type": "code",
   "execution_count": 5,
   "metadata": {},
   "outputs": [],
   "source": [
    "# a note on feature scaling, for this dataset it is not necessary given similar values"
   ]
  },
  {
   "cell_type": "markdown",
   "metadata": {},
   "source": [
    "# Starting simple linear regression"
   ]
  },
  {
   "cell_type": "code",
   "execution_count": null,
   "metadata": {},
   "outputs": [],
   "source": []
  }
 ],
 "metadata": {
  "kernelspec": {
   "display_name": "Python 3",
   "language": "python",
   "name": "python3"
  },
  "language_info": {
   "codemirror_mode": {
    "name": "ipython",
    "version": 3
   },
   "file_extension": ".py",
   "mimetype": "text/x-python",
   "name": "python",
   "nbconvert_exporter": "python",
   "pygments_lexer": "ipython3",
   "version": "3.7.1"
  }
 },
 "nbformat": 4,
 "nbformat_minor": 2
}
