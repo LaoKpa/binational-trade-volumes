{
 "cells": [
  {
   "cell_type": "markdown",
   "metadata": {},
   "source": [
    "## Exploring Border Entry Dataset with US-Canada Border"
   ]
  },
  {
   "cell_type": "code",
   "execution_count": 1,
   "metadata": {},
   "outputs": [],
   "source": [
    "import numpy as np\n",
    "import matplotlib.pyplot as plt; plt.rcdefaults()\n",
    "import pandas as pd"
   ]
  },
  {
   "cell_type": "code",
   "execution_count": 2,
   "metadata": {},
   "outputs": [],
   "source": [
    "# importing the dataset\n",
    "dataset = pd.read_csv('./data/usitc/border_crossing_entry_data.csv')"
   ]
  },
  {
   "cell_type": "code",
   "execution_count": 3,
   "metadata": {},
   "outputs": [
    {
     "data": {
      "text/plain": [
       "(353962, 7)"
      ]
     },
     "execution_count": 3,
     "metadata": {},
     "output_type": "execute_result"
    }
   ],
   "source": [
    "#determine shape\n",
    "dataset.shape"
   ]
  },
  {
   "cell_type": "code",
   "execution_count": 4,
   "metadata": {},
   "outputs": [
    {
     "data": {
      "text/plain": [
       "['Port Name', 'State', 'Port Code', 'Border', 'Date', 'Measure', 'Value']"
      ]
     },
     "execution_count": 4,
     "metadata": {},
     "output_type": "execute_result"
    }
   ],
   "source": [
    "list(dataset.columns)"
   ]
  },
  {
   "cell_type": "code",
   "execution_count": 5,
   "metadata": {},
   "outputs": [
    {
     "data": {
      "text/html": [
       "<div>\n",
       "<style scoped>\n",
       "    .dataframe tbody tr th:only-of-type {\n",
       "        vertical-align: middle;\n",
       "    }\n",
       "\n",
       "    .dataframe tbody tr th {\n",
       "        vertical-align: top;\n",
       "    }\n",
       "\n",
       "    .dataframe thead th {\n",
       "        text-align: right;\n",
       "    }\n",
       "</style>\n",
       "<table border=\"1\" class=\"dataframe\">\n",
       "  <thead>\n",
       "    <tr style=\"text-align: right;\">\n",
       "      <th></th>\n",
       "      <th>Port Name</th>\n",
       "      <th>State</th>\n",
       "      <th>Port Code</th>\n",
       "      <th>Border</th>\n",
       "      <th>Date</th>\n",
       "      <th>Measure</th>\n",
       "      <th>Value</th>\n",
       "    </tr>\n",
       "  </thead>\n",
       "  <tbody>\n",
       "    <tr>\n",
       "      <th>0</th>\n",
       "      <td>Alexandria Bay</td>\n",
       "      <td>NY</td>\n",
       "      <td>708</td>\n",
       "      <td>US-Canada Border</td>\n",
       "      <td>12/1/2019 0:00</td>\n",
       "      <td>Bus Passengers</td>\n",
       "      <td>740</td>\n",
       "    </tr>\n",
       "    <tr>\n",
       "      <th>1</th>\n",
       "      <td>Baudette</td>\n",
       "      <td>MN</td>\n",
       "      <td>3424</td>\n",
       "      <td>US-Canada Border</td>\n",
       "      <td>12/1/2019 0:00</td>\n",
       "      <td>Bus Passengers</td>\n",
       "      <td>83</td>\n",
       "    </tr>\n",
       "    <tr>\n",
       "      <th>2</th>\n",
       "      <td>Blaine</td>\n",
       "      <td>WA</td>\n",
       "      <td>3004</td>\n",
       "      <td>US-Canada Border</td>\n",
       "      <td>12/1/2019 0:00</td>\n",
       "      <td>Bus Passengers</td>\n",
       "      <td>17029</td>\n",
       "    </tr>\n",
       "    <tr>\n",
       "      <th>3</th>\n",
       "      <td>Brownsville</td>\n",
       "      <td>TX</td>\n",
       "      <td>2301</td>\n",
       "      <td>US-Mexico Border</td>\n",
       "      <td>12/1/2019 0:00</td>\n",
       "      <td>Bus Passengers</td>\n",
       "      <td>4668</td>\n",
       "    </tr>\n",
       "    <tr>\n",
       "      <th>4</th>\n",
       "      <td>Buffalo-Niagara Falls</td>\n",
       "      <td>NY</td>\n",
       "      <td>901</td>\n",
       "      <td>US-Canada Border</td>\n",
       "      <td>12/1/2019 0:00</td>\n",
       "      <td>Bus Passengers</td>\n",
       "      <td>9910</td>\n",
       "    </tr>\n",
       "  </tbody>\n",
       "</table>\n",
       "</div>"
      ],
      "text/plain": [
       "               Port Name State  Port Code            Border            Date  \\\n",
       "0         Alexandria Bay    NY        708  US-Canada Border  12/1/2019 0:00   \n",
       "1               Baudette    MN       3424  US-Canada Border  12/1/2019 0:00   \n",
       "2                 Blaine    WA       3004  US-Canada Border  12/1/2019 0:00   \n",
       "3            Brownsville    TX       2301  US-Mexico Border  12/1/2019 0:00   \n",
       "4  Buffalo-Niagara Falls    NY        901  US-Canada Border  12/1/2019 0:00   \n",
       "\n",
       "          Measure  Value  \n",
       "0  Bus Passengers    740  \n",
       "1  Bus Passengers     83  \n",
       "2  Bus Passengers  17029  \n",
       "3  Bus Passengers   4668  \n",
       "4  Bus Passengers   9910  "
      ]
     },
     "execution_count": 5,
     "metadata": {},
     "output_type": "execute_result"
    }
   ],
   "source": [
    "#examine top of dataset\n",
    "dataset.head()"
   ]
  },
  {
   "cell_type": "code",
   "execution_count": 6,
   "metadata": {},
   "outputs": [
    {
     "data": {
      "text/plain": [
       "(271674, 7)"
      ]
     },
     "execution_count": 6,
     "metadata": {},
     "output_type": "execute_result"
    }
   ],
   "source": [
    "# create new dataframe for the US-Canada border crossings only\n",
    "# there are 82288 observances\n",
    "borderCan = dataset[(dataset['Border']==\"US-Canada Border\")]\n",
    "borderCan.shape"
   ]
  },
  {
   "cell_type": "code",
   "execution_count": 8,
   "metadata": {},
   "outputs": [
    {
     "data": {
      "text/plain": [
       "89"
      ]
     },
     "execution_count": 8,
     "metadata": {},
     "output_type": "execute_result"
    }
   ],
   "source": [
    "#determine how many points of entry are captured\n",
    "borderCan[\"Port Name\"].nunique()"
   ]
  },
  {
   "cell_type": "code",
   "execution_count": 9,
   "metadata": {},
   "outputs": [
    {
     "data": {
      "text/plain": [
       "array(['Alexandria Bay', 'Baudette', 'Blaine', 'Buffalo-Niagara Falls',\n",
       "       'Calais', 'Champlain-Rouses Point', 'Derby Line', 'Detroit',\n",
       "       'Dunseith', 'Frontier', 'Grand Portage', 'Hansboro',\n",
       "       'Highgate Springs-Alburg', 'Houlton', 'International Falls-Ranier',\n",
       "       'Jackman', 'Laurier', 'Madawaska', 'Massena', 'Metaline Falls',\n",
       "       'Norton', 'Ogdensburg', 'Oroville', 'Pembina', 'Point Roberts',\n",
       "       'Port Angeles', 'Port Huron', 'Portal', 'Roseau', 'Sarles',\n",
       "       'Sault Sainte Marie', 'Sumas', 'Sweetgrass', 'Turner', 'Warroad',\n",
       "       'Dalton Cache', 'Eastport', 'Fort Kent', 'Lynden', 'Nighthawk',\n",
       "       'Northgate', 'Porthill', 'Raymond', 'Roosville', 'Van Buren',\n",
       "       'Vanceboro', 'Alcan', 'Ambrose', 'Anacortes', 'Antler',\n",
       "       'Beecher Falls', 'Boundary', 'Bridgewater', 'Carbury', 'Danville',\n",
       "       'Del Bonita', 'Ferry', 'Fort Fairfield', 'Fortuna',\n",
       "       'Friday Harbor', 'Hannah', 'Lancaster', 'Limestone', 'Maida',\n",
       "       'Morgan', 'Neche', 'Noonan', 'Opheim', 'Piegan', 'Pinecreek',\n",
       "       'Richford', 'Scobey', 'Sherwood', 'Skagway', 'St. John',\n",
       "       'Trout River', 'Walhalla', 'Westhope', 'Whitlash', 'Wildhorse',\n",
       "       'Willow Creek', 'Algonac', 'Ketchikan', 'Cape Vincent',\n",
       "       'Toledo-Sandusky', 'Portland', 'Whitetail', 'Bar Harbor', 'Noyes'],\n",
       "      dtype=object)"
      ]
     },
     "execution_count": 9,
     "metadata": {},
     "output_type": "execute_result"
    }
   ],
   "source": [
    "# what are the names of the ports of entry\n",
    "borderCan[\"Port Name\"].unique()"
   ]
  },
  {
   "cell_type": "markdown",
   "metadata": {},
   "source": [
    "## Determine if ports of entry are inconsistenyl represented in the dataset"
   ]
  },
  {
   "cell_type": "code",
   "execution_count": 12,
   "metadata": {
    "scrolled": true
   },
   "outputs": [
    {
     "data": {
      "text/plain": [
       "Eastport                      5717\n",
       "Sumas                         3456\n",
       "Champlain-Rouses Point        3456\n",
       "Sweetgrass                    3456\n",
       "Portal                        3456\n",
       "Calais                        3456\n",
       "Buffalo-Niagara Falls         3456\n",
       "International Falls-Ranier    3455\n",
       "Jackman                       3452\n",
       "Detroit                       3436\n",
       "Port Huron                    3420\n",
       "Highgate Springs-Alburg       3415\n",
       "Blaine                        3415\n",
       "Pembina                       3415\n",
       "Sault Sainte Marie            3415\n",
       "Van Buren                     3396\n",
       "Laurier                       3393\n",
       "Northgate                     3390\n",
       "Norton                        3386\n",
       "Trout River                   3370\n",
       "Vanceboro                     3366\n",
       "Boundary                      3359\n",
       "Richford                      3358\n",
       "Baudette                      3304\n",
       "Skagway                       3303\n",
       "Frontier                      3297\n",
       "Houlton                       3292\n",
       "Derby Line                    3292\n",
       "Massena                       3290\n",
       "Oroville                      3287\n",
       "                              ... \n",
       "Noonan                        3188\n",
       "Beecher Falls                 3188\n",
       "Neche                         3183\n",
       "Sherwood                      3183\n",
       "Fort Fairfield                3175\n",
       "Scobey                        3173\n",
       "Antler                        3171\n",
       "Westhope                      3169\n",
       "Opheim                        3168\n",
       "Ferry                         3167\n",
       "Limestone                     3163\n",
       "Pinecreek                     3152\n",
       "Hannah                        3116\n",
       "Whitlash                      3113\n",
       "Ambrose                       3085\n",
       "Nighthawk                     3063\n",
       "Whitetail                     2592\n",
       "Portland                      2586\n",
       "Port Angeles                  2228\n",
       "Lancaster                     2203\n",
       "Wildhorse                     2173\n",
       "Anacortes                     2049\n",
       "Ketchikan                     1963\n",
       "Friday Harbor                 1897\n",
       "Willow Creek                  1747\n",
       "Noyes                         1728\n",
       "Cape Vincent                  1138\n",
       "Bar Harbor                    1068\n",
       "Algonac                         29\n",
       "Toledo-Sandusky                 10\n",
       "Name: Port Name, Length: 89, dtype: int64"
      ]
     },
     "execution_count": 12,
     "metadata": {},
     "output_type": "execute_result"
    }
   ],
   "source": [
    "## each port of entry appears to be represented fairly consistently\n",
    "borderCan[\"Port Name\"].value_counts()"
   ]
  },
  {
   "cell_type": "code",
   "execution_count": 13,
   "metadata": {},
   "outputs": [
    {
     "data": {
      "text/plain": [
       "12"
      ]
     },
     "execution_count": 13,
     "metadata": {},
     "output_type": "execute_result"
    }
   ],
   "source": [
    "#understand the number of unique measures and the different types unique values\n",
    "borderCan[\"Measure\"].nunique()"
   ]
  },
  {
   "cell_type": "code",
   "execution_count": 14,
   "metadata": {},
   "outputs": [
    {
     "data": {
      "text/plain": [
       "array(['Bus Passengers', 'Buses', 'Pedestrians',\n",
       "       'Personal Vehicle Passengers', 'Personal Vehicles',\n",
       "       'Rail Containers Empty', 'Rail Containers Full',\n",
       "       'Train Passengers', 'Trains', 'Truck Containers Empty',\n",
       "       'Truck Containers Full', 'Trucks'], dtype=object)"
      ]
     },
     "execution_count": 14,
     "metadata": {},
     "output_type": "execute_result"
    }
   ],
   "source": [
    "borderCan[\"Measure\"].unique()"
   ]
  },
  {
   "cell_type": "markdown",
   "metadata": {},
   "source": [
    "## Extract just the year as a new variable in the dataframe"
   ]
  },
  {
   "cell_type": "code",
   "execution_count": 15,
   "metadata": {},
   "outputs": [],
   "source": [
    "import numpy as np\n",
    "import datetime"
   ]
  },
  {
   "cell_type": "code",
   "execution_count": 16,
   "metadata": {},
   "outputs": [
    {
     "name": "stderr",
     "output_type": "stream",
     "text": [
      "C:\\Users\\nhinojos\\AppData\\Local\\Continuum\\anaconda\\lib\\site-packages\\ipykernel_launcher.py:1: SettingWithCopyWarning: \n",
      "A value is trying to be set on a copy of a slice from a DataFrame.\n",
      "Try using .loc[row_indexer,col_indexer] = value instead\n",
      "\n",
      "See the caveats in the documentation: http://pandas.pydata.org/pandas-docs/stable/indexing.html#indexing-view-versus-copy\n",
      "  \"\"\"Entry point for launching an IPython kernel.\n"
     ]
    }
   ],
   "source": [
    "borderCan['year'] = pd.DatetimeIndex(borderCan['Date']).year"
   ]
  },
  {
   "cell_type": "code",
   "execution_count": 17,
   "metadata": {},
   "outputs": [
    {
     "data": {
      "text/html": [
       "<div>\n",
       "<style scoped>\n",
       "    .dataframe tbody tr th:only-of-type {\n",
       "        vertical-align: middle;\n",
       "    }\n",
       "\n",
       "    .dataframe tbody tr th {\n",
       "        vertical-align: top;\n",
       "    }\n",
       "\n",
       "    .dataframe thead th {\n",
       "        text-align: right;\n",
       "    }\n",
       "</style>\n",
       "<table border=\"1\" class=\"dataframe\">\n",
       "  <thead>\n",
       "    <tr style=\"text-align: right;\">\n",
       "      <th></th>\n",
       "      <th>Port Name</th>\n",
       "      <th>State</th>\n",
       "      <th>Port Code</th>\n",
       "      <th>Border</th>\n",
       "      <th>Date</th>\n",
       "      <th>Measure</th>\n",
       "      <th>Value</th>\n",
       "      <th>year</th>\n",
       "    </tr>\n",
       "  </thead>\n",
       "  <tbody>\n",
       "    <tr>\n",
       "      <th>0</th>\n",
       "      <td>Alexandria Bay</td>\n",
       "      <td>NY</td>\n",
       "      <td>708</td>\n",
       "      <td>US-Canada Border</td>\n",
       "      <td>12/1/2019 0:00</td>\n",
       "      <td>Bus Passengers</td>\n",
       "      <td>740</td>\n",
       "      <td>2019</td>\n",
       "    </tr>\n",
       "    <tr>\n",
       "      <th>1</th>\n",
       "      <td>Baudette</td>\n",
       "      <td>MN</td>\n",
       "      <td>3424</td>\n",
       "      <td>US-Canada Border</td>\n",
       "      <td>12/1/2019 0:00</td>\n",
       "      <td>Bus Passengers</td>\n",
       "      <td>83</td>\n",
       "      <td>2019</td>\n",
       "    </tr>\n",
       "    <tr>\n",
       "      <th>2</th>\n",
       "      <td>Blaine</td>\n",
       "      <td>WA</td>\n",
       "      <td>3004</td>\n",
       "      <td>US-Canada Border</td>\n",
       "      <td>12/1/2019 0:00</td>\n",
       "      <td>Bus Passengers</td>\n",
       "      <td>17029</td>\n",
       "      <td>2019</td>\n",
       "    </tr>\n",
       "    <tr>\n",
       "      <th>4</th>\n",
       "      <td>Buffalo-Niagara Falls</td>\n",
       "      <td>NY</td>\n",
       "      <td>901</td>\n",
       "      <td>US-Canada Border</td>\n",
       "      <td>12/1/2019 0:00</td>\n",
       "      <td>Bus Passengers</td>\n",
       "      <td>9910</td>\n",
       "      <td>2019</td>\n",
       "    </tr>\n",
       "    <tr>\n",
       "      <th>5</th>\n",
       "      <td>Calais</td>\n",
       "      <td>ME</td>\n",
       "      <td>115</td>\n",
       "      <td>US-Canada Border</td>\n",
       "      <td>12/1/2019 0:00</td>\n",
       "      <td>Bus Passengers</td>\n",
       "      <td>279</td>\n",
       "      <td>2019</td>\n",
       "    </tr>\n",
       "  </tbody>\n",
       "</table>\n",
       "</div>"
      ],
      "text/plain": [
       "               Port Name State  Port Code            Border            Date  \\\n",
       "0         Alexandria Bay    NY        708  US-Canada Border  12/1/2019 0:00   \n",
       "1               Baudette    MN       3424  US-Canada Border  12/1/2019 0:00   \n",
       "2                 Blaine    WA       3004  US-Canada Border  12/1/2019 0:00   \n",
       "4  Buffalo-Niagara Falls    NY        901  US-Canada Border  12/1/2019 0:00   \n",
       "5                 Calais    ME        115  US-Canada Border  12/1/2019 0:00   \n",
       "\n",
       "          Measure  Value  year  \n",
       "0  Bus Passengers    740  2019  \n",
       "1  Bus Passengers     83  2019  \n",
       "2  Bus Passengers  17029  2019  \n",
       "4  Bus Passengers   9910  2019  \n",
       "5  Bus Passengers    279  2019  "
      ]
     },
     "execution_count": 17,
     "metadata": {},
     "output_type": "execute_result"
    }
   ],
   "source": [
    "borderCan.head()"
   ]
  },
  {
   "cell_type": "code",
   "execution_count": 19,
   "metadata": {},
   "outputs": [
    {
     "name": "stdout",
     "output_type": "stream",
     "text": [
      "[2019, 2018, 2017, 2016, 2015, 2014, 2013, 2012, 2011, 2010, 2009, 2008, 2007, 2006, 2005, 2004, 2003, 2002, 2001, 2000, 1999, 1998, 1997, 1996]\n"
     ]
    }
   ],
   "source": [
    "years_list = list(borderCan[\"year\"].unique())\n",
    "print(years_list)"
   ]
  },
  {
   "cell_type": "code",
   "execution_count": 20,
   "metadata": {},
   "outputs": [
    {
     "data": {
      "text/plain": [
       "(271674, 3)"
      ]
     },
     "execution_count": 20,
     "metadata": {},
     "output_type": "execute_result"
    }
   ],
   "source": [
    "# create new dataframe with just the year, value and port name\n",
    "relevantDF = borderCan[[\"year\",\"Value\",\"Port Name\"]].copy()\n",
    "relevantDF.shape"
   ]
  },
  {
   "cell_type": "code",
   "execution_count": 21,
   "metadata": {},
   "outputs": [
    {
     "data": {
      "text/html": [
       "<div>\n",
       "<style scoped>\n",
       "    .dataframe tbody tr th:only-of-type {\n",
       "        vertical-align: middle;\n",
       "    }\n",
       "\n",
       "    .dataframe tbody tr th {\n",
       "        vertical-align: top;\n",
       "    }\n",
       "\n",
       "    .dataframe thead th {\n",
       "        text-align: right;\n",
       "    }\n",
       "</style>\n",
       "<table border=\"1\" class=\"dataframe\">\n",
       "  <thead>\n",
       "    <tr style=\"text-align: right;\">\n",
       "      <th></th>\n",
       "      <th>year</th>\n",
       "      <th>Value</th>\n",
       "      <th>Port Name</th>\n",
       "    </tr>\n",
       "  </thead>\n",
       "  <tbody>\n",
       "    <tr>\n",
       "      <th>353956</th>\n",
       "      <td>1996</td>\n",
       "      <td>0</td>\n",
       "      <td>Point Roberts</td>\n",
       "    </tr>\n",
       "    <tr>\n",
       "      <th>353957</th>\n",
       "      <td>1996</td>\n",
       "      <td>1576</td>\n",
       "      <td>Antler</td>\n",
       "    </tr>\n",
       "    <tr>\n",
       "      <th>353959</th>\n",
       "      <td>1996</td>\n",
       "      <td>8955</td>\n",
       "      <td>Calais</td>\n",
       "    </tr>\n",
       "    <tr>\n",
       "      <th>353960</th>\n",
       "      <td>1996</td>\n",
       "      <td>0</td>\n",
       "      <td>Carbury</td>\n",
       "    </tr>\n",
       "    <tr>\n",
       "      <th>353961</th>\n",
       "      <td>1996</td>\n",
       "      <td>3</td>\n",
       "      <td>Skagway</td>\n",
       "    </tr>\n",
       "  </tbody>\n",
       "</table>\n",
       "</div>"
      ],
      "text/plain": [
       "        year  Value      Port Name\n",
       "353956  1996      0  Point Roberts\n",
       "353957  1996   1576         Antler\n",
       "353959  1996   8955         Calais\n",
       "353960  1996      0        Carbury\n",
       "353961  1996      3        Skagway"
      ]
     },
     "execution_count": 21,
     "metadata": {},
     "output_type": "execute_result"
    }
   ],
   "source": [
    "relevantDF.tail()"
   ]
  },
  {
   "cell_type": "markdown",
   "metadata": {},
   "source": [
    "## Sum the variable value for each dataframe\n",
    "### Borrowing from the function that generated borderMX"
   ]
  },
  {
   "cell_type": "code",
   "execution_count": 22,
   "metadata": {},
   "outputs": [],
   "source": [
    "# importing library to use sum method across columns\n",
    "import scipy.stats"
   ]
  },
  {
   "cell_type": "code",
   "execution_count": 23,
   "metadata": {},
   "outputs": [],
   "source": [
    "value_list=[]\n",
    "\n",
    "def create_df(year):\n",
    "    print(\"Creating a new data frame for\",year,\"- note that the df name will not change.\")\n",
    "    name = relevantDF[relevantDF[\"year\"]==year]\n",
    "    value = name[\"Value\"].sum(axis=0)\n",
    "    value_list.append(value)\n",
    "    print(\"Shape of the new data frame is\",name.shape)\n",
    "    print(\"The sum of the value column for\",year,\"is:\",value,\"\\n---------------------------\")\n"
   ]
  },
  {
   "cell_type": "code",
   "execution_count": 24,
   "metadata": {},
   "outputs": [
    {
     "name": "stdout",
     "output_type": "stream",
     "text": [
      "Creating a new data frame for 2019 - note that the df name will not change.\n",
      "Shape of the new data frame is (7272, 3)\n",
      "The sum of the value column for 2019 is: 94662104 \n",
      "---------------------------\n",
      "Creating a new data frame for 2018 - note that the df name will not change.\n",
      "Shape of the new data frame is (7221, 3)\n",
      "The sum of the value column for 2018 is: 95414333 \n",
      "---------------------------\n",
      "Creating a new data frame for 2017 - note that the df name will not change.\n",
      "Shape of the new data frame is (7386, 3)\n",
      "The sum of the value column for 2017 is: 94268274 \n",
      "---------------------------\n",
      "Creating a new data frame for 2016 - note that the df name will not change.\n",
      "Shape of the new data frame is (10575, 3)\n",
      "The sum of the value column for 2016 is: 93951778 \n",
      "---------------------------\n",
      "Creating a new data frame for 2015 - note that the df name will not change.\n",
      "Shape of the new data frame is (12240, 3)\n",
      "The sum of the value column for 2015 is: 97556562 \n",
      "---------------------------\n",
      "Creating a new data frame for 2014 - note that the df name will not change.\n",
      "Shape of the new data frame is (12240, 3)\n",
      "The sum of the value column for 2014 is: 108567839 \n",
      "---------------------------\n",
      "Creating a new data frame for 2013 - note that the df name will not change.\n",
      "Shape of the new data frame is (12240, 3)\n",
      "The sum of the value column for 2013 is: 112236211 \n",
      "---------------------------\n",
      "Creating a new data frame for 2012 - note that the df name will not change.\n",
      "Shape of the new data frame is (12240, 3)\n",
      "The sum of the value column for 2012 is: 111504252 \n",
      "---------------------------\n",
      "Creating a new data frame for 2011 - note that the df name will not change.\n",
      "Shape of the new data frame is (12240, 3)\n",
      "The sum of the value column for 2011 is: 106684911 \n",
      "---------------------------\n",
      "Creating a new data frame for 2010 - note that the df name will not change.\n",
      "Shape of the new data frame is (12600, 3)\n",
      "The sum of the value column for 2010 is: 101469642 \n",
      "---------------------------\n",
      "Creating a new data frame for 2009 - note that the df name will not change.\n",
      "Shape of the new data frame is (12456, 3)\n",
      "The sum of the value column for 2009 is: 95001517 \n",
      "---------------------------\n",
      "Creating a new data frame for 2008 - note that the df name will not change.\n",
      "Shape of the new data frame is (12456, 3)\n",
      "The sum of the value column for 2008 is: 103980803 \n",
      "---------------------------\n",
      "Creating a new data frame for 2007 - note that the df name will not change.\n",
      "Shape of the new data frame is (12456, 3)\n",
      "The sum of the value column for 2007 is: 107491421 \n",
      "---------------------------\n",
      "Creating a new data frame for 2006 - note that the df name will not change.\n",
      "Shape of the new data frame is (12528, 3)\n",
      "The sum of the value column for 2006 is: 112707996 \n",
      "---------------------------\n",
      "Creating a new data frame for 2005 - note that the df name will not change.\n",
      "Shape of the new data frame is (12528, 3)\n",
      "The sum of the value column for 2005 is: 113243701 \n",
      "---------------------------\n",
      "Creating a new data frame for 2004 - note that the df name will not change.\n",
      "Shape of the new data frame is (12384, 3)\n",
      "The sum of the value column for 2004 is: 114695622 \n",
      "---------------------------\n",
      "Creating a new data frame for 2003 - note that the df name will not change.\n",
      "Shape of the new data frame is (11988, 3)\n",
      "The sum of the value column for 2003 is: 112738414 \n",
      "---------------------------\n",
      "Creating a new data frame for 2002 - note that the df name will not change.\n",
      "Shape of the new data frame is (11232, 3)\n",
      "The sum of the value column for 2002 is: 122832695 \n",
      "---------------------------\n",
      "Creating a new data frame for 2001 - note that the df name will not change.\n",
      "Shape of the new data frame is (11232, 3)\n",
      "The sum of the value column for 2001 is: 130092391 \n",
      "---------------------------\n",
      "Creating a new data frame for 2000 - note that the df name will not change.\n",
      "Shape of the new data frame is (11232, 3)\n",
      "The sum of the value column for 2000 is: 147789673 \n",
      "---------------------------\n",
      "Creating a new data frame for 1999 - note that the df name will not change.\n",
      "Shape of the new data frame is (11232, 3)\n",
      "The sum of the value column for 1999 is: 146497328 \n",
      "---------------------------\n",
      "Creating a new data frame for 1998 - note that the df name will not change.\n",
      "Shape of the new data frame is (11232, 3)\n",
      "The sum of the value column for 1998 is: 142291790 \n",
      "---------------------------\n",
      "Creating a new data frame for 1997 - note that the df name will not change.\n",
      "Shape of the new data frame is (11232, 3)\n",
      "The sum of the value column for 1997 is: 145512710 \n",
      "---------------------------\n",
      "Creating a new data frame for 1996 - note that the df name will not change.\n",
      "Shape of the new data frame is (11232, 3)\n",
      "The sum of the value column for 1996 is: 153038903 \n",
      "---------------------------\n"
     ]
    }
   ],
   "source": [
    "## creating a for loop to create data frames for each year, and this will make my life easier, yay\n",
    "for year in years_list:\n",
    "    create_df(year)"
   ]
  },
  {
   "cell_type": "code",
   "execution_count": 25,
   "metadata": {},
   "outputs": [
    {
     "name": "stdout",
     "output_type": "stream",
     "text": [
      "24\n"
     ]
    }
   ],
   "source": [
    "print(len(value_list))"
   ]
  },
  {
   "cell_type": "code",
   "execution_count": 26,
   "metadata": {},
   "outputs": [
    {
     "name": "stdout",
     "output_type": "stream",
     "text": [
      "[94662104, 95414333, 94268274, 93951778, 97556562, 108567839, 112236211, 111504252, 106684911, 101469642, 95001517, 103980803, 107491421, 112707996, 113243701, 114695622, 112738414, 122832695, 130092391, 147789673, 146497328, 142291790, 145512710, 153038903]\n"
     ]
    }
   ],
   "source": [
    "print(value_list)"
   ]
  },
  {
   "cell_type": "markdown",
   "metadata": {},
   "source": [
    "## Visualizing the movement on the US-Canadian Border"
   ]
  },
  {
   "cell_type": "code",
   "execution_count": 27,
   "metadata": {},
   "outputs": [],
   "source": [
    "can = pd.read_csv(\"./data/usitc/tradeVariables-mxcan.csv\")"
   ]
  },
  {
   "cell_type": "code",
   "execution_count": 28,
   "metadata": {},
   "outputs": [
    {
     "data": {
      "text/html": [
       "<div>\n",
       "<style scoped>\n",
       "    .dataframe tbody tr th:only-of-type {\n",
       "        vertical-align: middle;\n",
       "    }\n",
       "\n",
       "    .dataframe tbody tr th {\n",
       "        vertical-align: top;\n",
       "    }\n",
       "\n",
       "    .dataframe thead th {\n",
       "        text-align: right;\n",
       "    }\n",
       "</style>\n",
       "<table border=\"1\" class=\"dataframe\">\n",
       "  <thead>\n",
       "    <tr style=\"text-align: right;\">\n",
       "      <th></th>\n",
       "      <th>year</th>\n",
       "      <th>exports</th>\n",
       "      <th>imports</th>\n",
       "      <th>travel_mx</th>\n",
       "      <th>travel_can</th>\n",
       "    </tr>\n",
       "  </thead>\n",
       "  <tbody>\n",
       "    <tr>\n",
       "      <th>0</th>\n",
       "      <td>1996</td>\n",
       "      <td>5.468587e+10</td>\n",
       "      <td>7.296319e+10</td>\n",
       "      <td>276751448</td>\n",
       "      <td>153038903</td>\n",
       "    </tr>\n",
       "    <tr>\n",
       "      <th>1</th>\n",
       "      <td>1997</td>\n",
       "      <td>6.839322e+10</td>\n",
       "      <td>8.587234e+10</td>\n",
       "      <td>348661488</td>\n",
       "      <td>145512710</td>\n",
       "    </tr>\n",
       "    <tr>\n",
       "      <th>2</th>\n",
       "      <td>1998</td>\n",
       "      <td>7.536930e+10</td>\n",
       "      <td>9.470867e+10</td>\n",
       "      <td>366296614</td>\n",
       "      <td>142291790</td>\n",
       "    </tr>\n",
       "    <tr>\n",
       "      <th>3</th>\n",
       "      <td>1999</td>\n",
       "      <td>8.138074e+10</td>\n",
       "      <td>1.100000e+11</td>\n",
       "      <td>391959396</td>\n",
       "      <td>146497328</td>\n",
       "    </tr>\n",
       "    <tr>\n",
       "      <th>4</th>\n",
       "      <td>2000</td>\n",
       "      <td>1.000000e+11</td>\n",
       "      <td>1.360000e+11</td>\n",
       "      <td>392231869</td>\n",
       "      <td>147789673</td>\n",
       "    </tr>\n",
       "  </tbody>\n",
       "</table>\n",
       "</div>"
      ],
      "text/plain": [
       "   year       exports       imports  travel_mx  travel_can\n",
       "0  1996  5.468587e+10  7.296319e+10  276751448   153038903\n",
       "1  1997  6.839322e+10  8.587234e+10  348661488   145512710\n",
       "2  1998  7.536930e+10  9.470867e+10  366296614   142291790\n",
       "3  1999  8.138074e+10  1.100000e+11  391959396   146497328\n",
       "4  2000  1.000000e+11  1.360000e+11  392231869   147789673"
      ]
     },
     "execution_count": 28,
     "metadata": {},
     "output_type": "execute_result"
    }
   ],
   "source": [
    "can.head()"
   ]
  },
  {
   "cell_type": "code",
   "execution_count": 34,
   "metadata": {},
   "outputs": [
    {
     "data": {
      "image/png": "[encoded data removed]",
      "text/plain": [
       "<Figure size 432x288 with 1 Axes>"
      ]
     },
     "metadata": {
      "needs_background": "light"
     },
     "output_type": "display_data"
    }
   ],
   "source": [
    "#travel at Canadian borders\n",
    "plt.plot(can[\"year\"],can[\"travel_can\"],color=\"blue\")\n",
    "plt.show()"
   ]
  },
  {
   "cell_type": "code",
   "execution_count": 36,
   "metadata": {},
   "outputs": [
    {
     "data": {
      "image/png": "[encoded data removed]",
      "text/plain": [
       "<Figure size 432x288 with 1 Axes>"
      ]
     },
     "metadata": {
      "needs_background": "light"
     },
     "output_type": "display_data"
    }
   ],
   "source": [
    "#travel at Mexican Borders\n",
    "plt.plot(can[\"year\"],can[\"travel_mx\"],color=\"green\")\n",
    "plt.show()"
   ]
  },
  {
   "cell_type": "code",
   "execution_count": null,
   "metadata": {},
   "outputs": [],
   "source": []
  }
 ],
 "metadata": {
  "kernelspec": {
   "display_name": "Python 3",
   "language": "python",
   "name": "python3"
  },
  "language_info": {
   "codemirror_mode": {
    "name": "ipython",
    "version": 3
   },
   "file_extension": ".py",
   "mimetype": "text/x-python",
   "name": "python",
   "nbconvert_exporter": "python",
   "pygments_lexer": "ipython3",
   "version": "3.7.1"
  }
 },
 "nbformat": 4,
 "nbformat_minor": 2
}
