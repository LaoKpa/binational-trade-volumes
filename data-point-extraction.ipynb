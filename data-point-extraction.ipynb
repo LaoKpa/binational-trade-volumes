{
 "cells": [
  {
   "cell_type": "markdown",
   "metadata": {},
   "source": [
    "## Extracting the data points for simple linear regression"
   ]
  },
  {
   "cell_type": "code",
   "execution_count": 11,
   "metadata": {},
   "outputs": [],
   "source": [
    "#importing necessary libraries\n",
    "import numpy as np\n",
    "import matplotlib.pyplot as plt\n",
    "import pandas as pd"
   ]
  },
  {
   "cell_type": "code",
   "execution_count": 12,
   "metadata": {},
   "outputs": [
    {
     "data": {
      "text/html": [
       "<div>\n",
       "<style scoped>\n",
       "    .dataframe tbody tr th:only-of-type {\n",
       "        vertical-align: middle;\n",
       "    }\n",
       "\n",
       "    .dataframe tbody tr th {\n",
       "        vertical-align: top;\n",
       "    }\n",
       "\n",
       "    .dataframe thead th {\n",
       "        text-align: right;\n",
       "    }\n",
       "</style>\n",
       "<table border=\"1\" class=\"dataframe\">\n",
       "  <thead>\n",
       "    <tr style=\"text-align: right;\">\n",
       "      <th></th>\n",
       "      <th>imports</th>\n",
       "      <th>exports</th>\n",
       "    </tr>\n",
       "  </thead>\n",
       "  <tbody>\n",
       "    <tr>\n",
       "      <th>0</th>\n",
       "      <td>7.296319e+10</td>\n",
       "      <td>5.468587e+10</td>\n",
       "    </tr>\n",
       "    <tr>\n",
       "      <th>1</th>\n",
       "      <td>8.587234e+10</td>\n",
       "      <td>6.839322e+10</td>\n",
       "    </tr>\n",
       "    <tr>\n",
       "      <th>2</th>\n",
       "      <td>9.470867e+10</td>\n",
       "      <td>7.536930e+10</td>\n",
       "    </tr>\n",
       "    <tr>\n",
       "      <th>3</th>\n",
       "      <td>1.097060e+11</td>\n",
       "      <td>8.138074e+10</td>\n",
       "    </tr>\n",
       "    <tr>\n",
       "      <th>4</th>\n",
       "      <td>1.359110e+11</td>\n",
       "      <td>1.004420e+11</td>\n",
       "    </tr>\n",
       "  </tbody>\n",
       "</table>\n",
       "</div>"
      ],
      "text/plain": [
       "        imports       exports\n",
       "0  7.296319e+10  5.468587e+10\n",
       "1  8.587234e+10  6.839322e+10\n",
       "2  9.470867e+10  7.536930e+10\n",
       "3  1.097060e+11  8.138074e+10\n",
       "4  1.359110e+11  1.004420e+11"
      ]
     },
     "execution_count": 12,
     "metadata": {},
     "output_type": "execute_result"
    }
   ],
   "source": [
    "#importing the dataset with two variables for simple linear regression warm-up\n",
    "df = pd.read_csv(\"./data/usitc/import-export-yearJOIN.csv\")\n",
    "df.head()"
   ]
  },
  {
   "cell_type": "code",
   "execution_count": 13,
   "metadata": {},
   "outputs": [
    {
     "name": "stdout",
     "output_type": "stream",
     "text": [
      "[[7.29631894e+10]\n",
      " [8.58723447e+10]\n",
      " [9.47086660e+10]\n",
      " [1.09706000e+11]\n",
      " [1.35911000e+11]\n",
      " [1.31433000e+11]\n",
      " [1.34732000e+11]\n",
      " [1.38073000e+11]\n",
      " [1.55846000e+11]\n",
      " [1.70198000e+11]\n",
      " [1.98259000e+11]\n",
      " [2.10799000e+11]\n",
      " [2.15915000e+11]\n",
      " [1.76537000e+11]\n",
      " [2.29986000e+11]\n",
      " [2.62874000e+11]\n",
      " [2.77594000e+11]\n",
      " [2.80556000e+11]\n",
      " [2.95730000e+11]\n",
      " [2.96433000e+11]\n",
      " [2.93501000e+11]\n",
      " [3.12809000e+11]\n",
      " [3.46101000e+11]\n",
      " [3.58126000e+11]]\n",
      "[5.46858652e+10 6.83932194e+10 7.53693001e+10 8.13807402e+10\n",
      " 1.00442000e+11 9.05374338e+10 8.60760818e+10 8.31080960e+10\n",
      " 9.30177032e+10 1.01667000e+11 1.14562000e+11 1.19381000e+11\n",
      " 1.31507000e+11 1.05718000e+11 1.31818000e+11 1.59947000e+11\n",
      " 1.74833000e+11 1.81559000e+11 1.93345000e+11 1.85992000e+11\n",
      " 1.76692000e+11 1.87136000e+11 2.03980000e+11 1.95503000e+11]\n"
     ]
    }
   ],
   "source": [
    "# Building matrix and vector\n",
    "# X matrix or independent variable\n",
    "# Y vector is dependent\n",
    "X =df.iloc[:,:-1].values\n",
    "y = df.iloc[:,1].values\n",
    "print(X)\n",
    "print(y)"
   ]
  },
  {
   "cell_type": "code",
   "execution_count": 4,
   "metadata": {},
   "outputs": [],
   "source": [
    "# Splitting the dataset into training set and test set\n",
    "# 80% - 20% split according to what is generally recommended\n",
    "\n",
    "from sklearn.model_selection import train_test_split\n",
    "X_train, X_test, y_train, y_test = train_test_split(X, y, test_size =0.2, random_state =0)"
   ]
  },
  {
   "cell_type": "code",
   "execution_count": 14,
   "metadata": {},
   "outputs": [
    {
     "data": {
      "text/plain": [
       "LinearRegression(copy_X=True, fit_intercept=True, n_jobs=None,\n",
       "         normalize=False)"
      ]
     },
     "execution_count": 14,
     "metadata": {},
     "output_type": "execute_result"
    }
   ],
   "source": [
    "## Starting simple linear regression\n",
    "from sklearn.linear_model import LinearRegression\n",
    "# create an object of the LinearRegression class\n",
    "regressor = LinearRegression()\n",
    "# fit regressor object to the training set using the fit method\n",
    "regressor.fit(X_train, y_train)"
   ]
  },
  {
   "cell_type": "code",
   "execution_count": 15,
   "metadata": {},
   "outputs": [],
   "source": [
    "# Predicting the Test set results\n",
    "# Vector of predicted values, creates predictions of exports\n",
    "y_pred = regressor.predict(X_test) "
   ]
  },
  {
   "cell_type": "markdown",
   "metadata": {},
   "source": [
    "# Plotting Regressor Only"
   ]
  },
  {
   "cell_type": "code",
   "execution_count": 16,
   "metadata": {},
   "outputs": [
    {
     "data": {
      "image/png": "[encoded data removed]",
      "text/plain": [
       "<Figure size 432x288 with 1 Axes>"
      ]
     },
     "metadata": {
      "needs_background": "light"
     },
     "output_type": "display_data"
    }
   ],
   "source": [
    "plt.plot(X_train, regressor.predict(X_train), color = 'green')\n",
    "plt.title('Import vs. Exports (Training set)')\n",
    "plt.xlabel('IMPORTS')\n",
    "plt.ylabel('EXPORTS')\n",
    "plt.show()"
   ]
  },
  {
   "cell_type": "code",
   "execution_count": 17,
   "metadata": {},
   "outputs": [
    {
     "data": {
      "text/plain": [
       "array([8.58723447e+10, 1.76537000e+11, 3.58126000e+11, 2.77594000e+11,\n",
       "       1.55846000e+11, 1.34732000e+11, 2.80556000e+11, 1.35911000e+11,\n",
       "       9.47086660e+10, 1.31433000e+11, 2.95730000e+11, 1.70198000e+11,\n",
       "       1.38073000e+11, 2.96433000e+11, 1.09706000e+11, 7.29631894e+10,\n",
       "       3.12809000e+11, 2.62874000e+11, 2.15915000e+11])"
      ]
     },
     "execution_count": 17,
     "metadata": {},
     "output_type": "execute_result"
    },
    {
     "data": {
      "image/png": "[encoded data removed]",
      "text/plain": [
       "<Figure size 432x288 with 1 Axes>"
      ]
     },
     "metadata": {
      "needs_background": "light"
     },
     "output_type": "display_data"
    }
   ],
   "source": [
    "plt.plot(X_train, regressor.predict(X_train), color = 'green')\n",
    "ax = plt.gca() # get axis handle\n",
    "line = ax.lines[0] # get the first line, there might be more\n",
    "line.get_xdata()"
   ]
  },
  {
   "cell_type": "code",
   "execution_count": 18,
   "metadata": {},
   "outputs": [
    {
     "data": {
      "text/plain": [
       "array([6.38431038e+10, 1.13544987e+11, 2.13091115e+11, 1.68943899e+11,\n",
       "       1.02202291e+11, 9.06277079e+10, 1.70567652e+11, 9.12740294e+10,\n",
       "       6.86871283e+10, 8.88192136e+10, 1.78885958e+11, 1.10069981e+11,\n",
       "       9.24592264e+10, 1.79271339e+11, 7.69085873e+10, 5.67663732e+10,\n",
       "       1.88248576e+11, 1.60874473e+11, 1.35131798e+11])"
      ]
     },
     "execution_count": 18,
     "metadata": {},
     "output_type": "execute_result"
    },
    {
     "data": {
      "image/png": "[encoded data removed]",
      "text/plain": [
       "<Figure size 432x288 with 1 Axes>"
      ]
     },
     "metadata": {
      "needs_background": "light"
     },
     "output_type": "display_data"
    }
   ],
   "source": [
    "plt.plot(X_train, regressor.predict(X_train), color = 'green')\n",
    "ax = plt.gca() # get axis handle\n",
    "line = ax.lines[0] # get the first line, there might be more\n",
    "line.get_ydata()"
   ]
  },
  {
   "cell_type": "markdown",
   "metadata": {},
   "source": [
    "## Extracing the y-data points for regression line\n"
   ]
  },
  {
   "cell_type": "code",
   "execution_count": 19,
   "metadata": {},
   "outputs": [
    {
     "name": "stdout",
     "output_type": "stream",
     "text": [
      "[6.38431038e+10 1.13544987e+11 2.13091115e+11 1.68943899e+11\n",
      " 1.02202291e+11 9.06277079e+10 1.70567652e+11 9.12740294e+10\n",
      " 6.86871283e+10 8.88192136e+10 1.78885958e+11 1.10069981e+11\n",
      " 9.24592264e+10 1.79271339e+11 7.69085873e+10 5.67663732e+10\n",
      " 1.88248576e+11 1.60874473e+11 1.35131798e+11]\n"
     ]
    }
   ],
   "source": [
    "print(regressor.predict(X_train))"
   ]
  },
  {
   "cell_type": "code",
   "execution_count": 21,
   "metadata": {},
   "outputs": [
    {
     "name": "stdout",
     "output_type": "stream",
     "text": [
      "[6.38431038e+10 1.13544987e+11 2.13091115e+11 1.68943899e+11\n",
      " 1.02202291e+11 9.06277079e+10 1.70567652e+11 9.12740294e+10\n",
      " 6.86871283e+10 8.88192136e+10 1.78885958e+11 1.10069981e+11\n",
      " 9.24592264e+10 1.79271339e+11 7.69085873e+10 5.67663732e+10\n",
      " 1.88248576e+11 1.60874473e+11 1.35131798e+11]\n"
     ]
    }
   ],
   "source": [
    "ytrain_pred = regressor.predict(X_train)\n",
    "print(ytrain_pred)"
   ]
  },
  {
   "cell_type": "code",
   "execution_count": 57,
   "metadata": {},
   "outputs": [
    {
     "data": {
      "text/plain": [
       "[(56766373231.066086,),\n",
       " (63843103776.490814,),\n",
       " (68687128289.78476,),\n",
       " (76908587291.85834,),\n",
       " (88819213557.18051,),\n",
       " (90627707875.27771,),\n",
       " (91274029427.57738,),\n",
       " (92459226370.81052,),\n",
       " (102202290788.98013,),\n",
       " (110069981135.54909,),\n",
       " (113544987344.22389,),\n",
       " (135131798274.21223,),\n",
       " (160874473231.32846,),\n",
       " (168943899227.80945,),\n",
       " (170567651931.72092,),\n",
       " (178885958322.38684,),\n",
       " (179271339197.08292,),\n",
       " (188248575618.168,),\n",
       " (213091114876.492,)]"
      ]
     },
     "execution_count": 57,
     "metadata": {},
     "output_type": "execute_result"
    }
   ],
   "source": [
    "sorted(zip(ytrain_pred))"
   ]
  },
  {
   "cell_type": "code",
   "execution_count": null,
   "metadata": {},
   "outputs": [],
   "source": [
    "# Pulling in descriptive statistics\n",
    "from scipy import stats\n",
    "stats.describe(ytrain_pred)"
   ]
  },
  {
   "cell_type": "code",
   "execution_count": 25,
   "metadata": {},
   "outputs": [
    {
     "data": {
      "text/plain": [
       "DescribeResult(nobs=5, minmax=(1, 5), mean=3.0, variance=2.5, skewness=0.0, kurtosis=-1.3)"
      ]
     },
     "execution_count": 25,
     "metadata": {},
     "output_type": "execute_result"
    }
   ],
   "source": [
    "arr = [1,2,3,4,5]\n",
    "stats.describe(arr)"
   ]
  },
  {
   "cell_type": "code",
   "execution_count": 26,
   "metadata": {},
   "outputs": [
    {
     "name": "stdout",
     "output_type": "stream",
     "text": [
      "[[8.58723447e+10]\n",
      " [1.76537000e+11]\n",
      " [3.58126000e+11]\n",
      " [2.77594000e+11]\n",
      " [1.55846000e+11]\n",
      " [1.34732000e+11]\n",
      " [2.80556000e+11]\n",
      " [1.35911000e+11]\n",
      " [9.47086660e+10]\n",
      " [1.31433000e+11]\n",
      " [2.95730000e+11]\n",
      " [1.70198000e+11]\n",
      " [1.38073000e+11]\n",
      " [2.96433000e+11]\n",
      " [1.09706000e+11]\n",
      " [7.29631894e+10]\n",
      " [3.12809000e+11]\n",
      " [2.62874000e+11]\n",
      " [2.15915000e+11]]\n"
     ]
    }
   ],
   "source": [
    "print(X_train)"
   ]
  },
  {
   "cell_type": "code",
   "execution_count": 28,
   "metadata": {},
   "outputs": [
    {
     "name": "stdout",
     "output_type": "stream",
     "text": [
      "[[8.58723447e+10]\n",
      " [1.76537000e+11]\n",
      " [3.58126000e+11]\n",
      " [2.77594000e+11]\n",
      " [1.55846000e+11]\n",
      " [1.34732000e+11]\n",
      " [2.80556000e+11]\n",
      " [1.35911000e+11]\n",
      " [9.47086660e+10]\n",
      " [1.31433000e+11]\n",
      " [2.95730000e+11]\n",
      " [1.70198000e+11]\n",
      " [1.38073000e+11]\n",
      " [2.96433000e+11]\n",
      " [1.09706000e+11]\n",
      " [7.29631894e+10]\n",
      " [3.12809000e+11]\n",
      " [2.62874000e+11]\n",
      " [2.15915000e+11]]\n"
     ]
    }
   ],
   "source": [
    "## Extracting data points for x and y - scatter plot\n",
    "## T train and y train\n",
    "print(X_train)"
   ]
  },
  {
   "cell_type": "code",
   "execution_count": 46,
   "metadata": {},
   "outputs": [
    {
     "name": "stdout",
     "output_type": "stream",
     "text": [
      "24\n"
     ]
    }
   ],
   "source": [
    "x_coor = df.iloc[:,0].values\n",
    "print(x_coor.size)"
   ]
  },
  {
   "cell_type": "code",
   "execution_count": 52,
   "metadata": {},
   "outputs": [
    {
     "data": {
      "text/plain": [
       "[(72963189408.0,),\n",
       " (85872344740.0,),\n",
       " (94708666043.0,),\n",
       " (109706000000.0,),\n",
       " (131433000000.0,),\n",
       " (134732000000.0,),\n",
       " (135911000000.0,),\n",
       " (138073000000.0,),\n",
       " (155846000000.0,),\n",
       " (170198000000.0,),\n",
       " (176537000000.0,),\n",
       " (198259000000.0,),\n",
       " (210799000000.0,),\n",
       " (215915000000.0,),\n",
       " (229986000000.0,),\n",
       " (262874000000.0,),\n",
       " (277594000000.0,),\n",
       " (280556000000.0,),\n",
       " (293501000000.0,),\n",
       " (295730000000.0,),\n",
       " (296433000000.0,),\n",
       " (312809000000.0,),\n",
       " (346101000000.0,),\n",
       " (358126000000.0,)]"
      ]
     },
     "execution_count": 52,
     "metadata": {},
     "output_type": "execute_result"
    }
   ],
   "source": [
    "sorted(zip(x_coor))"
   ]
  },
  {
   "cell_type": "code",
   "execution_count": 39,
   "metadata": {},
   "outputs": [
    {
     "name": "stdout",
     "output_type": "stream",
     "text": [
      "72963189408.0 ,\n",
      "85872344740.0 ,\n",
      "94708666043.0 ,\n",
      "109706000000.0 ,\n",
      "135911000000.0 ,\n",
      "131433000000.0 ,\n",
      "134732000000.0 ,\n",
      "138073000000.0 ,\n",
      "155846000000.0 ,\n",
      "170198000000.0 ,\n",
      "198259000000.0 ,\n",
      "210799000000.0 ,\n",
      "215915000000.0 ,\n",
      "176537000000.0 ,\n",
      "229986000000.0 ,\n",
      "262874000000.0 ,\n",
      "277594000000.0 ,\n",
      "280556000000.0 ,\n",
      "295730000000.0 ,\n",
      "296433000000.0 ,\n",
      "293501000000.0 ,\n",
      "312809000000.0 ,\n",
      "346101000000.0 ,\n",
      "358126000000.0 ,\n"
     ]
    }
   ],
   "source": [
    "for x in x_coor:\n",
    "    print(str(x),\",\")"
   ]
  },
  {
   "cell_type": "code",
   "execution_count": 55,
   "metadata": {},
   "outputs": [
    {
     "data": {
      "text/plain": [
       "[(54685865249.0,),\n",
       " (68393219447.0,),\n",
       " (75369300051.0,),\n",
       " (81380740167.0,),\n",
       " (83108095962.0,),\n",
       " (86076081837.0,),\n",
       " (90537433805.0,),\n",
       " (93017703250.0,),\n",
       " (100442000000.0,),\n",
       " (101667000000.0,),\n",
       " (105718000000.0,),\n",
       " (131507000000.0,),\n",
       " (159947000000.0,),\n",
       " (174833000000.0,),\n",
       " (181559000000.0,),\n",
       " (185992000000.0,),\n",
       " (187136000000.0,),\n",
       " (193345000000.0,),\n",
       " (195503000000.0,)]"
      ]
     },
     "execution_count": 55,
     "metadata": {},
     "output_type": "execute_result"
    }
   ],
   "source": [
    "y_coor = y_train\n",
    "sorted(zip(y_coor))"
   ]
  },
  {
   "cell_type": "code",
   "execution_count": 42,
   "metadata": {},
   "outputs": [
    {
     "name": "stdout",
     "output_type": "stream",
     "text": [
      "19\n"
     ]
    }
   ],
   "source": [
    "print(y_train.size)"
   ]
  },
  {
   "cell_type": "code",
   "execution_count": 36,
   "metadata": {},
   "outputs": [
    {
     "name": "stdout",
     "output_type": "stream",
     "text": [
      ", 68393219447.0\n",
      ", 105718000000.0\n",
      ", 195503000000.0\n",
      ", 174833000000.0\n",
      ", 93017703250.0\n",
      ", 86076081837.0\n",
      ", 181559000000.0\n",
      ", 100442000000.0\n",
      ", 75369300051.0\n",
      ", 90537433805.0\n",
      ", 193345000000.0\n",
      ", 101667000000.0\n",
      ", 83108095962.0\n",
      ", 185992000000.0\n",
      ", 81380740167.0\n",
      ", 54685865249.0\n",
      ", 187136000000.0\n",
      ", 159947000000.0\n",
      ", 131507000000.0\n"
     ]
    }
   ],
   "source": [
    "for y in y_train:\n",
    "    print(\",\",str(y))"
   ]
  },
  {
   "cell_type": "code",
   "execution_count": 43,
   "metadata": {},
   "outputs": [
    {
     "name": "stdout",
     "output_type": "stream",
     "text": [
      "[1.19381e+11 1.14562e+11 2.03980e+11 1.31818e+11 1.76692e+11]\n"
     ]
    }
   ],
   "source": [
    "print(y_test)"
   ]
  },
  {
   "cell_type": "code",
   "execution_count": 44,
   "metadata": {},
   "outputs": [
    {
     "name": "stdout",
     "output_type": "stream",
     "text": [
      "[[2.10799e+11]\n",
      " [1.98259e+11]\n",
      " [3.46101e+11]\n",
      " [2.29986e+11]\n",
      " [2.93501e+11]]\n"
     ]
    }
   ],
   "source": [
    "print(X_test)"
   ]
  },
  {
   "cell_type": "code",
   "execution_count": null,
   "metadata": {},
   "outputs": [],
   "source": []
  }
 ],
 "metadata": {
  "kernelspec": {
   "display_name": "Python 3",
   "language": "python",
   "name": "python3"
  },
  "language_info": {
   "codemirror_mode": {
    "name": "ipython",
    "version": 3
   },
   "file_extension": ".py",
   "mimetype": "text/x-python",
   "name": "python",
   "nbconvert_exporter": "python",
   "pygments_lexer": "ipython3",
   "version": "3.7.1"
  }
 },
 "nbformat": 4,
 "nbformat_minor": 2
}
